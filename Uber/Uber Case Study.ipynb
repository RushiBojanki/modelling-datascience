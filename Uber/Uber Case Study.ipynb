{
 "cells": [
  {
   "cell_type": "markdown",
   "metadata": {},
   "source": [
    "# `UBER Supply - Demand Gap Analysis`"
   ]
  },
  {
   "cell_type": "markdown",
   "metadata": {},
   "source": [
    "# Business Objectives:\n",
    "-- To identify the root cause of the problem (i.e. cancellation and non-availability of cars) and recommend ways to improve the situation"
   ]
  },
  {
   "cell_type": "code",
   "execution_count": 1,
   "metadata": {},
   "outputs": [],
   "source": [
    "# Importing the required libraries\n",
    "import numpy as np, pandas as pd, seaborn as sns, matplotlib.pyplot as plt"
   ]
  },
  {
   "cell_type": "code",
   "execution_count": 2,
   "metadata": {},
   "outputs": [
    {
     "data": {
      "text/html": [
       "<div>\n",
       "<style scoped>\n",
       "    .dataframe tbody tr th:only-of-type {\n",
       "        vertical-align: middle;\n",
       "    }\n",
       "\n",
       "    .dataframe tbody tr th {\n",
       "        vertical-align: top;\n",
       "    }\n",
       "\n",
       "    .dataframe thead th {\n",
       "        text-align: right;\n",
       "    }\n",
       "</style>\n",
       "<table border=\"1\" class=\"dataframe\">\n",
       "  <thead>\n",
       "    <tr style=\"text-align: right;\">\n",
       "      <th></th>\n",
       "      <th>Request id</th>\n",
       "      <th>Pickup point</th>\n",
       "      <th>Driver id</th>\n",
       "      <th>Status</th>\n",
       "      <th>Request timestamp</th>\n",
       "      <th>Drop timestamp</th>\n",
       "    </tr>\n",
       "  </thead>\n",
       "  <tbody>\n",
       "    <tr>\n",
       "      <th>0</th>\n",
       "      <td>619</td>\n",
       "      <td>Airport</td>\n",
       "      <td>1.0</td>\n",
       "      <td>Trip Completed</td>\n",
       "      <td>11/7/2016 11:51</td>\n",
       "      <td>11/7/2016 13:00</td>\n",
       "    </tr>\n",
       "    <tr>\n",
       "      <th>1</th>\n",
       "      <td>867</td>\n",
       "      <td>Airport</td>\n",
       "      <td>1.0</td>\n",
       "      <td>Trip Completed</td>\n",
       "      <td>11/7/2016 17:57</td>\n",
       "      <td>11/7/2016 18:47</td>\n",
       "    </tr>\n",
       "    <tr>\n",
       "      <th>2</th>\n",
       "      <td>1807</td>\n",
       "      <td>City</td>\n",
       "      <td>1.0</td>\n",
       "      <td>Trip Completed</td>\n",
       "      <td>12/7/2016 9:17</td>\n",
       "      <td>12/7/2016 9:58</td>\n",
       "    </tr>\n",
       "    <tr>\n",
       "      <th>3</th>\n",
       "      <td>2532</td>\n",
       "      <td>Airport</td>\n",
       "      <td>1.0</td>\n",
       "      <td>Trip Completed</td>\n",
       "      <td>12/7/2016 21:08</td>\n",
       "      <td>12/7/2016 22:03</td>\n",
       "    </tr>\n",
       "    <tr>\n",
       "      <th>4</th>\n",
       "      <td>3112</td>\n",
       "      <td>City</td>\n",
       "      <td>1.0</td>\n",
       "      <td>Trip Completed</td>\n",
       "      <td>13-07-2016 08:33:16</td>\n",
       "      <td>13-07-2016 09:25:47</td>\n",
       "    </tr>\n",
       "  </tbody>\n",
       "</table>\n",
       "</div>"
      ],
      "text/plain": [
       "   Request id Pickup point  Driver id          Status    Request timestamp  \\\n",
       "0         619      Airport        1.0  Trip Completed      11/7/2016 11:51   \n",
       "1         867      Airport        1.0  Trip Completed      11/7/2016 17:57   \n",
       "2        1807         City        1.0  Trip Completed       12/7/2016 9:17   \n",
       "3        2532      Airport        1.0  Trip Completed      12/7/2016 21:08   \n",
       "4        3112         City        1.0  Trip Completed  13-07-2016 08:33:16   \n",
       "\n",
       "        Drop timestamp  \n",
       "0      11/7/2016 13:00  \n",
       "1      11/7/2016 18:47  \n",
       "2       12/7/2016 9:58  \n",
       "3      12/7/2016 22:03  \n",
       "4  13-07-2016 09:25:47  "
      ]
     },
     "execution_count": 2,
     "metadata": {},
     "output_type": "execute_result"
    }
   ],
   "source": [
    "# Loading the data set\n",
    "uber=pd.read_csv(r'Uber Request Data.csv')\n",
    "uber.head()"
   ]
  },
  {
   "cell_type": "code",
   "execution_count": 3,
   "metadata": {},
   "outputs": [
    {
     "name": "stdout",
     "output_type": "stream",
     "text": [
      "<class 'pandas.core.frame.DataFrame'>\n",
      "RangeIndex: 6745 entries, 0 to 6744\n",
      "Data columns (total 6 columns):\n",
      "Request id           6745 non-null int64\n",
      "Pickup point         6745 non-null object\n",
      "Driver id            4095 non-null float64\n",
      "Status               6745 non-null object\n",
      "Request timestamp    6745 non-null object\n",
      "Drop timestamp       2831 non-null object\n",
      "dtypes: float64(1), int64(1), object(4)\n",
      "memory usage: 316.2+ KB\n"
     ]
    }
   ],
   "source": [
    "# Checking for the data types and the size of the data drame loaded\n",
    "uber.info()"
   ]
  },
  {
   "cell_type": "code",
   "execution_count": 4,
   "metadata": {},
   "outputs": [],
   "source": [
    "# Changing the data type to more significant and meaningful format\n",
    "#Assuming Driver ID to be '0' for Nan values (for no cars available)\n",
    "uber['Driver id'] = uber['Driver id'].fillna(0).astype(int)\n",
    "\n",
    "# Changing the driver id from float to int data type\n",
    "uber['Driver id']=uber['Driver id'].astype(int)"
   ]
  },
  {
   "cell_type": "code",
   "execution_count": 5,
   "metadata": {},
   "outputs": [
    {
     "name": "stdout",
     "output_type": "stream",
     "text": [
      "<class 'pandas.core.frame.DataFrame'>\n",
      "RangeIndex: 6745 entries, 0 to 6744\n",
      "Data columns (total 6 columns):\n",
      "Request id           6745 non-null int64\n",
      "Pickup point         6745 non-null object\n",
      "Driver id            6745 non-null int32\n",
      "Status               6745 non-null object\n",
      "Request timestamp    6745 non-null object\n",
      "Drop timestamp       2831 non-null object\n",
      "dtypes: int32(1), int64(1), object(4)\n",
      "memory usage: 289.9+ KB\n"
     ]
    }
   ],
   "source": [
    "# Checking for data type of Driver ID \n",
    "uber.info()"
   ]
  },
  {
   "cell_type": "code",
   "execution_count": 6,
   "metadata": {},
   "outputs": [
    {
     "data": {
      "text/html": [
       "<div>\n",
       "<style scoped>\n",
       "    .dataframe tbody tr th:only-of-type {\n",
       "        vertical-align: middle;\n",
       "    }\n",
       "\n",
       "    .dataframe tbody tr th {\n",
       "        vertical-align: top;\n",
       "    }\n",
       "\n",
       "    .dataframe thead th {\n",
       "        text-align: right;\n",
       "    }\n",
       "</style>\n",
       "<table border=\"1\" class=\"dataframe\">\n",
       "  <thead>\n",
       "    <tr style=\"text-align: right;\">\n",
       "      <th></th>\n",
       "      <th>Request id</th>\n",
       "      <th>Pickup point</th>\n",
       "      <th>Driver id</th>\n",
       "      <th>Status</th>\n",
       "      <th>Request timestamp</th>\n",
       "      <th>Drop timestamp</th>\n",
       "    </tr>\n",
       "  </thead>\n",
       "  <tbody>\n",
       "    <tr>\n",
       "      <th>0</th>\n",
       "      <td>619</td>\n",
       "      <td>Airport</td>\n",
       "      <td>1</td>\n",
       "      <td>Trip Completed</td>\n",
       "      <td>11/7/2016 11:51</td>\n",
       "      <td>11/7/2016 13:00</td>\n",
       "    </tr>\n",
       "    <tr>\n",
       "      <th>1</th>\n",
       "      <td>867</td>\n",
       "      <td>Airport</td>\n",
       "      <td>1</td>\n",
       "      <td>Trip Completed</td>\n",
       "      <td>11/7/2016 17:57</td>\n",
       "      <td>11/7/2016 18:47</td>\n",
       "    </tr>\n",
       "    <tr>\n",
       "      <th>2</th>\n",
       "      <td>1807</td>\n",
       "      <td>City</td>\n",
       "      <td>1</td>\n",
       "      <td>Trip Completed</td>\n",
       "      <td>12/7/2016 9:17</td>\n",
       "      <td>12/7/2016 9:58</td>\n",
       "    </tr>\n",
       "    <tr>\n",
       "      <th>3</th>\n",
       "      <td>2532</td>\n",
       "      <td>Airport</td>\n",
       "      <td>1</td>\n",
       "      <td>Trip Completed</td>\n",
       "      <td>12/7/2016 21:08</td>\n",
       "      <td>12/7/2016 22:03</td>\n",
       "    </tr>\n",
       "    <tr>\n",
       "      <th>4</th>\n",
       "      <td>3112</td>\n",
       "      <td>City</td>\n",
       "      <td>1</td>\n",
       "      <td>Trip Completed</td>\n",
       "      <td>13-07-2016 08:33:16</td>\n",
       "      <td>13-07-2016 09:25:47</td>\n",
       "    </tr>\n",
       "  </tbody>\n",
       "</table>\n",
       "</div>"
      ],
      "text/plain": [
       "   Request id Pickup point  Driver id          Status    Request timestamp  \\\n",
       "0         619      Airport          1  Trip Completed      11/7/2016 11:51   \n",
       "1         867      Airport          1  Trip Completed      11/7/2016 17:57   \n",
       "2        1807         City          1  Trip Completed       12/7/2016 9:17   \n",
       "3        2532      Airport          1  Trip Completed      12/7/2016 21:08   \n",
       "4        3112         City          1  Trip Completed  13-07-2016 08:33:16   \n",
       "\n",
       "        Drop timestamp  \n",
       "0      11/7/2016 13:00  \n",
       "1      11/7/2016 18:47  \n",
       "2       12/7/2016 9:58  \n",
       "3      12/7/2016 22:03  \n",
       "4  13-07-2016 09:25:47  "
      ]
     },
     "execution_count": 6,
     "metadata": {},
     "output_type": "execute_result"
    }
   ],
   "source": [
    "# Verifying the Driver ID numeric value\n",
    "uber.head()"
   ]
  },
  {
   "cell_type": "code",
   "execution_count": 7,
   "metadata": {},
   "outputs": [
    {
     "data": {
      "text/html": [
       "<div>\n",
       "<style scoped>\n",
       "    .dataframe tbody tr th:only-of-type {\n",
       "        vertical-align: middle;\n",
       "    }\n",
       "\n",
       "    .dataframe tbody tr th {\n",
       "        vertical-align: top;\n",
       "    }\n",
       "\n",
       "    .dataframe thead th {\n",
       "        text-align: right;\n",
       "    }\n",
       "</style>\n",
       "<table border=\"1\" class=\"dataframe\">\n",
       "  <thead>\n",
       "    <tr style=\"text-align: right;\">\n",
       "      <th></th>\n",
       "      <th>Request id</th>\n",
       "      <th>Pickup point</th>\n",
       "      <th>Driver id</th>\n",
       "      <th>Status</th>\n",
       "      <th>Request timestamp</th>\n",
       "      <th>Drop timestamp</th>\n",
       "    </tr>\n",
       "  </thead>\n",
       "  <tbody>\n",
       "    <tr>\n",
       "      <th>6740</th>\n",
       "      <td>6745</td>\n",
       "      <td>City</td>\n",
       "      <td>0</td>\n",
       "      <td>No Cars Available</td>\n",
       "      <td>15-07-2016 23:49:03</td>\n",
       "      <td>NaN</td>\n",
       "    </tr>\n",
       "    <tr>\n",
       "      <th>6741</th>\n",
       "      <td>6752</td>\n",
       "      <td>Airport</td>\n",
       "      <td>0</td>\n",
       "      <td>No Cars Available</td>\n",
       "      <td>15-07-2016 23:50:05</td>\n",
       "      <td>NaN</td>\n",
       "    </tr>\n",
       "    <tr>\n",
       "      <th>6742</th>\n",
       "      <td>6751</td>\n",
       "      <td>City</td>\n",
       "      <td>0</td>\n",
       "      <td>No Cars Available</td>\n",
       "      <td>15-07-2016 23:52:06</td>\n",
       "      <td>NaN</td>\n",
       "    </tr>\n",
       "    <tr>\n",
       "      <th>6743</th>\n",
       "      <td>6754</td>\n",
       "      <td>City</td>\n",
       "      <td>0</td>\n",
       "      <td>No Cars Available</td>\n",
       "      <td>15-07-2016 23:54:39</td>\n",
       "      <td>NaN</td>\n",
       "    </tr>\n",
       "    <tr>\n",
       "      <th>6744</th>\n",
       "      <td>6753</td>\n",
       "      <td>Airport</td>\n",
       "      <td>0</td>\n",
       "      <td>No Cars Available</td>\n",
       "      <td>15-07-2016 23:55:03</td>\n",
       "      <td>NaN</td>\n",
       "    </tr>\n",
       "  </tbody>\n",
       "</table>\n",
       "</div>"
      ],
      "text/plain": [
       "      Request id Pickup point  Driver id             Status  \\\n",
       "6740        6745         City          0  No Cars Available   \n",
       "6741        6752      Airport          0  No Cars Available   \n",
       "6742        6751         City          0  No Cars Available   \n",
       "6743        6754         City          0  No Cars Available   \n",
       "6744        6753      Airport          0  No Cars Available   \n",
       "\n",
       "        Request timestamp Drop timestamp  \n",
       "6740  15-07-2016 23:49:03            NaN  \n",
       "6741  15-07-2016 23:50:05            NaN  \n",
       "6742  15-07-2016 23:52:06            NaN  \n",
       "6743  15-07-2016 23:54:39            NaN  \n",
       "6744  15-07-2016 23:55:03            NaN  "
      ]
     },
     "execution_count": 7,
     "metadata": {},
     "output_type": "execute_result"
    }
   ],
   "source": [
    "# Verifying the Driver ID to be '0' for No Cars available\n",
    "uber.tail()"
   ]
  },
  {
   "cell_type": "code",
   "execution_count": 8,
   "metadata": {},
   "outputs": [],
   "source": [
    "# Changing the Request and drop timestamps to python readable data types\n",
    "\n",
    "uber['Request timestamp']=pd.to_datetime(uber['Request timestamp'],dayfirst=True)\n",
    "uber['Drop timestamp']=pd.to_datetime(uber['Drop timestamp'],dayfirst=True)"
   ]
  },
  {
   "cell_type": "code",
   "execution_count": 9,
   "metadata": {},
   "outputs": [
    {
     "name": "stdout",
     "output_type": "stream",
     "text": [
      "<class 'pandas.core.frame.DataFrame'>\n",
      "RangeIndex: 6745 entries, 0 to 6744\n",
      "Data columns (total 6 columns):\n",
      "Request id           6745 non-null int64\n",
      "Pickup point         6745 non-null object\n",
      "Driver id            6745 non-null int32\n",
      "Status               6745 non-null object\n",
      "Request timestamp    6745 non-null datetime64[ns]\n",
      "Drop timestamp       2831 non-null datetime64[ns]\n",
      "dtypes: datetime64[ns](2), int32(1), int64(1), object(2)\n",
      "memory usage: 289.9+ KB\n"
     ]
    }
   ],
   "source": [
    "# Checking for data type of Request and Drop timestamp \n",
    "uber.info()"
   ]
  },
  {
   "cell_type": "code",
   "execution_count": 10,
   "metadata": {},
   "outputs": [
    {
     "data": {
      "text/html": [
       "<div>\n",
       "<style scoped>\n",
       "    .dataframe tbody tr th:only-of-type {\n",
       "        vertical-align: middle;\n",
       "    }\n",
       "\n",
       "    .dataframe tbody tr th {\n",
       "        vertical-align: top;\n",
       "    }\n",
       "\n",
       "    .dataframe thead th {\n",
       "        text-align: right;\n",
       "    }\n",
       "</style>\n",
       "<table border=\"1\" class=\"dataframe\">\n",
       "  <thead>\n",
       "    <tr style=\"text-align: right;\">\n",
       "      <th></th>\n",
       "      <th>Request id</th>\n",
       "      <th>Pickup point</th>\n",
       "      <th>Driver id</th>\n",
       "      <th>Status</th>\n",
       "      <th>Request timestamp</th>\n",
       "      <th>Drop timestamp</th>\n",
       "    </tr>\n",
       "  </thead>\n",
       "  <tbody>\n",
       "    <tr>\n",
       "      <th>0</th>\n",
       "      <td>619</td>\n",
       "      <td>Airport</td>\n",
       "      <td>1</td>\n",
       "      <td>Trip Completed</td>\n",
       "      <td>2016-07-11 11:51:00</td>\n",
       "      <td>2016-07-11 13:00:00</td>\n",
       "    </tr>\n",
       "    <tr>\n",
       "      <th>1</th>\n",
       "      <td>867</td>\n",
       "      <td>Airport</td>\n",
       "      <td>1</td>\n",
       "      <td>Trip Completed</td>\n",
       "      <td>2016-07-11 17:57:00</td>\n",
       "      <td>2016-07-11 18:47:00</td>\n",
       "    </tr>\n",
       "    <tr>\n",
       "      <th>2</th>\n",
       "      <td>1807</td>\n",
       "      <td>City</td>\n",
       "      <td>1</td>\n",
       "      <td>Trip Completed</td>\n",
       "      <td>2016-07-12 09:17:00</td>\n",
       "      <td>2016-07-12 09:58:00</td>\n",
       "    </tr>\n",
       "    <tr>\n",
       "      <th>3</th>\n",
       "      <td>2532</td>\n",
       "      <td>Airport</td>\n",
       "      <td>1</td>\n",
       "      <td>Trip Completed</td>\n",
       "      <td>2016-07-12 21:08:00</td>\n",
       "      <td>2016-07-12 22:03:00</td>\n",
       "    </tr>\n",
       "    <tr>\n",
       "      <th>4</th>\n",
       "      <td>3112</td>\n",
       "      <td>City</td>\n",
       "      <td>1</td>\n",
       "      <td>Trip Completed</td>\n",
       "      <td>2016-07-13 08:33:16</td>\n",
       "      <td>2016-07-13 09:25:47</td>\n",
       "    </tr>\n",
       "  </tbody>\n",
       "</table>\n",
       "</div>"
      ],
      "text/plain": [
       "   Request id Pickup point  Driver id          Status   Request timestamp  \\\n",
       "0         619      Airport          1  Trip Completed 2016-07-11 11:51:00   \n",
       "1         867      Airport          1  Trip Completed 2016-07-11 17:57:00   \n",
       "2        1807         City          1  Trip Completed 2016-07-12 09:17:00   \n",
       "3        2532      Airport          1  Trip Completed 2016-07-12 21:08:00   \n",
       "4        3112         City          1  Trip Completed 2016-07-13 08:33:16   \n",
       "\n",
       "       Drop timestamp  \n",
       "0 2016-07-11 13:00:00  \n",
       "1 2016-07-11 18:47:00  \n",
       "2 2016-07-12 09:58:00  \n",
       "3 2016-07-12 22:03:00  \n",
       "4 2016-07-13 09:25:47  "
      ]
     },
     "execution_count": 10,
     "metadata": {},
     "output_type": "execute_result"
    }
   ],
   "source": [
    "# Verifying the updated datetime format of Request and Drop timestamps\n",
    "uber.head()"
   ]
  },
  {
   "cell_type": "code",
   "execution_count": 11,
   "metadata": {},
   "outputs": [],
   "source": [
    "# Calculating the trip time and weekDay for better insight and analysis of the Data\n",
    "uber['TripTime']=uber['Drop timestamp']-uber['Request timestamp']\n",
    "uber['TripWeekDay']=uber['Request timestamp'].dt.weekday_name"
   ]
  },
  {
   "cell_type": "code",
   "execution_count": 12,
   "metadata": {},
   "outputs": [
    {
     "data": {
      "text/html": [
       "<div>\n",
       "<style scoped>\n",
       "    .dataframe tbody tr th:only-of-type {\n",
       "        vertical-align: middle;\n",
       "    }\n",
       "\n",
       "    .dataframe tbody tr th {\n",
       "        vertical-align: top;\n",
       "    }\n",
       "\n",
       "    .dataframe thead th {\n",
       "        text-align: right;\n",
       "    }\n",
       "</style>\n",
       "<table border=\"1\" class=\"dataframe\">\n",
       "  <thead>\n",
       "    <tr style=\"text-align: right;\">\n",
       "      <th></th>\n",
       "      <th>Request id</th>\n",
       "      <th>Pickup point</th>\n",
       "      <th>Driver id</th>\n",
       "      <th>Status</th>\n",
       "      <th>Request timestamp</th>\n",
       "      <th>Drop timestamp</th>\n",
       "      <th>TripTime</th>\n",
       "      <th>TripWeekDay</th>\n",
       "    </tr>\n",
       "  </thead>\n",
       "  <tbody>\n",
       "    <tr>\n",
       "      <th>0</th>\n",
       "      <td>619</td>\n",
       "      <td>Airport</td>\n",
       "      <td>1</td>\n",
       "      <td>Trip Completed</td>\n",
       "      <td>2016-07-11 11:51:00</td>\n",
       "      <td>2016-07-11 13:00:00</td>\n",
       "      <td>01:09:00</td>\n",
       "      <td>Monday</td>\n",
       "    </tr>\n",
       "    <tr>\n",
       "      <th>1</th>\n",
       "      <td>867</td>\n",
       "      <td>Airport</td>\n",
       "      <td>1</td>\n",
       "      <td>Trip Completed</td>\n",
       "      <td>2016-07-11 17:57:00</td>\n",
       "      <td>2016-07-11 18:47:00</td>\n",
       "      <td>00:50:00</td>\n",
       "      <td>Monday</td>\n",
       "    </tr>\n",
       "    <tr>\n",
       "      <th>2</th>\n",
       "      <td>1807</td>\n",
       "      <td>City</td>\n",
       "      <td>1</td>\n",
       "      <td>Trip Completed</td>\n",
       "      <td>2016-07-12 09:17:00</td>\n",
       "      <td>2016-07-12 09:58:00</td>\n",
       "      <td>00:41:00</td>\n",
       "      <td>Tuesday</td>\n",
       "    </tr>\n",
       "    <tr>\n",
       "      <th>3</th>\n",
       "      <td>2532</td>\n",
       "      <td>Airport</td>\n",
       "      <td>1</td>\n",
       "      <td>Trip Completed</td>\n",
       "      <td>2016-07-12 21:08:00</td>\n",
       "      <td>2016-07-12 22:03:00</td>\n",
       "      <td>00:55:00</td>\n",
       "      <td>Tuesday</td>\n",
       "    </tr>\n",
       "    <tr>\n",
       "      <th>4</th>\n",
       "      <td>3112</td>\n",
       "      <td>City</td>\n",
       "      <td>1</td>\n",
       "      <td>Trip Completed</td>\n",
       "      <td>2016-07-13 08:33:16</td>\n",
       "      <td>2016-07-13 09:25:47</td>\n",
       "      <td>00:52:31</td>\n",
       "      <td>Wednesday</td>\n",
       "    </tr>\n",
       "  </tbody>\n",
       "</table>\n",
       "</div>"
      ],
      "text/plain": [
       "   Request id Pickup point  Driver id          Status   Request timestamp  \\\n",
       "0         619      Airport          1  Trip Completed 2016-07-11 11:51:00   \n",
       "1         867      Airport          1  Trip Completed 2016-07-11 17:57:00   \n",
       "2        1807         City          1  Trip Completed 2016-07-12 09:17:00   \n",
       "3        2532      Airport          1  Trip Completed 2016-07-12 21:08:00   \n",
       "4        3112         City          1  Trip Completed 2016-07-13 08:33:16   \n",
       "\n",
       "       Drop timestamp TripTime TripWeekDay  \n",
       "0 2016-07-11 13:00:00 01:09:00      Monday  \n",
       "1 2016-07-11 18:47:00 00:50:00      Monday  \n",
       "2 2016-07-12 09:58:00 00:41:00     Tuesday  \n",
       "3 2016-07-12 22:03:00 00:55:00     Tuesday  \n",
       "4 2016-07-13 09:25:47 00:52:31   Wednesday  "
      ]
     },
     "execution_count": 12,
     "metadata": {},
     "output_type": "execute_result"
    }
   ],
   "source": [
    "# Checking for Triptime amd Trip Week Day Columns\n",
    "uber.head()"
   ]
  },
  {
   "cell_type": "markdown",
   "metadata": {},
   "source": [
    "# Univariate Analysis of the Data"
   ]
  },
  {
   "cell_type": "code",
   "execution_count": 13,
   "metadata": {},
   "outputs": [
    {
     "name": "stderr",
     "output_type": "stream",
     "text": [
      "C:\\Users\\Rushi\\Anaconda3\\lib\\site-packages\\scipy\\stats\\stats.py:1713: FutureWarning: Using a non-tuple sequence for multidimensional indexing is deprecated; use `arr[tuple(seq)]` instead of `arr[seq]`. In the future this will be interpreted as an array index, `arr[np.array(seq)]`, which will result either in an error or a different result.\n",
      "  return np.add.reduce(sorted[indexer] * weights, axis=axis) / sumval\n"
     ]
    },
    {
     "data": {
      "image/png": "[encoded data removed]",
      "text/plain": [
       "<Figure size 432x360 with 2 Axes>"
      ]
     },
     "metadata": {},
     "output_type": "display_data"
    }
   ],
   "source": [
    "# Checking for the distribution of frequency of Customer's Request based on the timestamp\n",
    "sns.set(rc={'figure.figsize':(6,5)})\n",
    "plt.subplot(122)\n",
    "sns.distplot(uber['Request timestamp'].dt.hour)\n",
    "\n",
    "plt.subplot(121)\n",
    "plt.hist(uber['Request timestamp'].dt.hour,histtype='bar')\n",
    "\n",
    "# Labelling the X and Y axis\n",
    "plt.title('Distribution of Customer\\'s Request hourwise')\n",
    "plt.ylabel('Frequency of trip requests')\n",
    "plt.xlabel('Request timestamp (in hours)')\n",
    "\n",
    "# Adjusting the height, width and distance between the plots\n",
    "plt.subplots_adjust(left=0.1, bottom=0.1, right=1.8, top=0.9,\n",
    "                wspace=0.1, hspace=0.2)"
   ]
  },
  {
   "cell_type": "markdown",
   "metadata": {},
   "source": [
    "# Bivariate Analysis"
   ]
  },
  {
   "cell_type": "code",
   "execution_count": 14,
   "metadata": {},
   "outputs": [
    {
     "data": {
      "text/plain": [
       "Text(0,0.5,'Frequency of Requests')"
      ]
     },
     "execution_count": 14,
     "metadata": {},
     "output_type": "execute_result"
    },
    {
     "data": {
      "image/png": "[encoded data removed]",
      "text/plain": [
       "<Figure size 576x360 with 1 Axes>"
      ]
     },
     "metadata": {},
     "output_type": "display_data"
    }
   ],
   "source": [
    "# Adjusting the size and style of the plot\n",
    "sns.set(rc={'figure.figsize':(8,5)})\n",
    "sns.set(style=\"darkgrid\")\n",
    "\n",
    "# Plot to get the frequency and status of the trips that are 'to and from' the airport and city\n",
    "plt.title('Frequency and Status of the Trips (\\'To and From\\' the airport and city)')\n",
    "\n",
    "sns.countplot(x='Pickup point',hue='Status',data=uber,dodge=True,palette='cividis')\n",
    "plt.ylabel('Frequency of Requests')\n"
   ]
  },
  {
   "cell_type": "markdown",
   "metadata": {},
   "source": [
    "# Exploratory Data Analysis\n",
    "#### Deriving the required metrics for better visualiztion"
   ]
  },
  {
   "cell_type": "code",
   "execution_count": 15,
   "metadata": {},
   "outputs": [
    {
     "data": {
      "text/html": [
       "<div>\n",
       "<style scoped>\n",
       "    .dataframe tbody tr th:only-of-type {\n",
       "        vertical-align: middle;\n",
       "    }\n",
       "\n",
       "    .dataframe tbody tr th {\n",
       "        vertical-align: top;\n",
       "    }\n",
       "\n",
       "    .dataframe thead th {\n",
       "        text-align: right;\n",
       "    }\n",
       "</style>\n",
       "<table border=\"1\" class=\"dataframe\">\n",
       "  <thead>\n",
       "    <tr style=\"text-align: right;\">\n",
       "      <th></th>\n",
       "      <th>Request id</th>\n",
       "      <th>Pickup point</th>\n",
       "      <th>Driver id</th>\n",
       "      <th>Status</th>\n",
       "      <th>Request timestamp</th>\n",
       "      <th>Drop timestamp</th>\n",
       "      <th>TripTime</th>\n",
       "      <th>TripWeekDay</th>\n",
       "      <th>hour</th>\n",
       "    </tr>\n",
       "  </thead>\n",
       "  <tbody>\n",
       "    <tr>\n",
       "      <th>0</th>\n",
       "      <td>619</td>\n",
       "      <td>Airport</td>\n",
       "      <td>1</td>\n",
       "      <td>Trip Completed</td>\n",
       "      <td>2016-07-11 11:51:00</td>\n",
       "      <td>2016-07-11 13:00:00</td>\n",
       "      <td>01:09:00</td>\n",
       "      <td>Monday</td>\n",
       "      <td>11</td>\n",
       "    </tr>\n",
       "    <tr>\n",
       "      <th>1</th>\n",
       "      <td>867</td>\n",
       "      <td>Airport</td>\n",
       "      <td>1</td>\n",
       "      <td>Trip Completed</td>\n",
       "      <td>2016-07-11 17:57:00</td>\n",
       "      <td>2016-07-11 18:47:00</td>\n",
       "      <td>00:50:00</td>\n",
       "      <td>Monday</td>\n",
       "      <td>17</td>\n",
       "    </tr>\n",
       "    <tr>\n",
       "      <th>2</th>\n",
       "      <td>1807</td>\n",
       "      <td>City</td>\n",
       "      <td>1</td>\n",
       "      <td>Trip Completed</td>\n",
       "      <td>2016-07-12 09:17:00</td>\n",
       "      <td>2016-07-12 09:58:00</td>\n",
       "      <td>00:41:00</td>\n",
       "      <td>Tuesday</td>\n",
       "      <td>9</td>\n",
       "    </tr>\n",
       "    <tr>\n",
       "      <th>3</th>\n",
       "      <td>2532</td>\n",
       "      <td>Airport</td>\n",
       "      <td>1</td>\n",
       "      <td>Trip Completed</td>\n",
       "      <td>2016-07-12 21:08:00</td>\n",
       "      <td>2016-07-12 22:03:00</td>\n",
       "      <td>00:55:00</td>\n",
       "      <td>Tuesday</td>\n",
       "      <td>21</td>\n",
       "    </tr>\n",
       "    <tr>\n",
       "      <th>4</th>\n",
       "      <td>3112</td>\n",
       "      <td>City</td>\n",
       "      <td>1</td>\n",
       "      <td>Trip Completed</td>\n",
       "      <td>2016-07-13 08:33:16</td>\n",
       "      <td>2016-07-13 09:25:47</td>\n",
       "      <td>00:52:31</td>\n",
       "      <td>Wednesday</td>\n",
       "      <td>8</td>\n",
       "    </tr>\n",
       "  </tbody>\n",
       "</table>\n",
       "</div>"
      ],
      "text/plain": [
       "   Request id Pickup point  Driver id          Status   Request timestamp  \\\n",
       "0         619      Airport          1  Trip Completed 2016-07-11 11:51:00   \n",
       "1         867      Airport          1  Trip Completed 2016-07-11 17:57:00   \n",
       "2        1807         City          1  Trip Completed 2016-07-12 09:17:00   \n",
       "3        2532      Airport          1  Trip Completed 2016-07-12 21:08:00   \n",
       "4        3112         City          1  Trip Completed 2016-07-13 08:33:16   \n",
       "\n",
       "       Drop timestamp TripTime TripWeekDay  hour  \n",
       "0 2016-07-11 13:00:00 01:09:00      Monday    11  \n",
       "1 2016-07-11 18:47:00 00:50:00      Monday    17  \n",
       "2 2016-07-12 09:58:00 00:41:00     Tuesday     9  \n",
       "3 2016-07-12 22:03:00 00:55:00     Tuesday    21  \n",
       "4 2016-07-13 09:25:47 00:52:31   Wednesday     8  "
      ]
     },
     "execution_count": 15,
     "metadata": {},
     "output_type": "execute_result"
    }
   ],
   "source": [
    "# Derving 'hour' coulmn from the Request timestamp for better insight of the data\n",
    "\n",
    "#uber['Day']=dfu['Request timestamp'].dt.day\n",
    "uber['hour']=uber['Request timestamp'].dt.hour\n",
    "uber.head()"
   ]
  },
  {
   "cell_type": "markdown",
   "metadata": {},
   "source": [
    "### Figure to view how data is spread across a day(in hours)"
   ]
  },
  {
   "cell_type": "code",
   "execution_count": 16,
   "metadata": {},
   "outputs": [
    {
     "data": {
      "text/plain": [
       "<matplotlib.axes._subplots.AxesSubplot at 0x29ef198a780>"
      ]
     },
     "execution_count": 16,
     "metadata": {},
     "output_type": "execute_result"
    },
    {
     "data": {
      "image/png": "[encoded data removed]",
      "text/plain": [
       "<Figure size 576x360 with 1 Axes>"
      ]
     },
     "metadata": {},
     "output_type": "display_data"
    }
   ],
   "source": [
    "# Adjusting the size of the plot\n",
    "sns.set(rc={'figure.figsize':(8,5)})\n",
    "# Sketching grid for better readability of the plot\n",
    "sns.set(style=\"darkgrid\")\n",
    "\n",
    "sns.countplot(x='hour',hue='Pickup point',data=uber,dodge=True,palette='tab10')"
   ]
  },
  {
   "cell_type": "markdown",
   "metadata": {},
   "source": [
    "### Insights that are drawn from the above plot:\n",
    "-- We observe the highset peaks during `morning and evening`\n",
    "##### Segmenting the hours column into slots so that we can trace the possible issues"
   ]
  },
  {
   "cell_type": "code",
   "execution_count": 17,
   "metadata": {},
   "outputs": [],
   "source": [
    "# Function to determine the slot(Morning, Evening and Night) for a given hour in a Day\n",
    "def getTimeSlots (hour):\n",
    "   if  hour in  range(5) :\n",
    "      return 'Late Night'\n",
    "   if  hour in  range(5,10) :\n",
    "      return 'Early Morning'\n",
    "   if  hour in  range(10,13) :\n",
    "      return 'Morning Rush Hours'\n",
    "   if  hour in  range(13,17) :\n",
    "      return 'Afternoon'\n",
    "   if  hour in  range(17,21) :\n",
    "      return 'Evening'\n",
    "   if  hour in  range(21,24) :\n",
    "      return 'Late Evenings'\n",
    "\n",
    "   return 'Other'"
   ]
  },
  {
   "cell_type": "code",
   "execution_count": 18,
   "metadata": {},
   "outputs": [],
   "source": [
    "# Applying the function created to segment the `hour` column to slots under the 'TimeSlots' column\n",
    "uber['TimeSlots']=uber['Request timestamp'].apply(lambda x: x.hour).apply(getTimeSlots)\n",
    "\n",
    "# For better readibility for the type of request, creating a new column 'RequestType'\n",
    "uber['RequestType'] = np.where(uber['Pickup point']=='Airport', 'Airport to City', 'City to Airport')\n",
    "\n",
    "# To plot the graphs, creating a new column 'hour'\n",
    "uber['hour']=uber['Request timestamp'].dt.hour"
   ]
  },
  {
   "cell_type": "code",
   "execution_count": 19,
   "metadata": {},
   "outputs": [
    {
     "data": {
      "text/html": [
       "<div>\n",
       "<style scoped>\n",
       "    .dataframe tbody tr th:only-of-type {\n",
       "        vertical-align: middle;\n",
       "    }\n",
       "\n",
       "    .dataframe tbody tr th {\n",
       "        vertical-align: top;\n",
       "    }\n",
       "\n",
       "    .dataframe thead th {\n",
       "        text-align: right;\n",
       "    }\n",
       "</style>\n",
       "<table border=\"1\" class=\"dataframe\">\n",
       "  <thead>\n",
       "    <tr style=\"text-align: right;\">\n",
       "      <th></th>\n",
       "      <th>Request id</th>\n",
       "      <th>Pickup point</th>\n",
       "      <th>Driver id</th>\n",
       "      <th>Status</th>\n",
       "      <th>Request timestamp</th>\n",
       "      <th>Drop timestamp</th>\n",
       "      <th>TripTime</th>\n",
       "      <th>TripWeekDay</th>\n",
       "      <th>hour</th>\n",
       "      <th>TimeSlots</th>\n",
       "      <th>RequestType</th>\n",
       "    </tr>\n",
       "  </thead>\n",
       "  <tbody>\n",
       "    <tr>\n",
       "      <th>0</th>\n",
       "      <td>619</td>\n",
       "      <td>Airport</td>\n",
       "      <td>1</td>\n",
       "      <td>Trip Completed</td>\n",
       "      <td>2016-07-11 11:51:00</td>\n",
       "      <td>2016-07-11 13:00:00</td>\n",
       "      <td>01:09:00</td>\n",
       "      <td>Monday</td>\n",
       "      <td>11</td>\n",
       "      <td>Morning Rush Hours</td>\n",
       "      <td>Airport to City</td>\n",
       "    </tr>\n",
       "    <tr>\n",
       "      <th>1</th>\n",
       "      <td>867</td>\n",
       "      <td>Airport</td>\n",
       "      <td>1</td>\n",
       "      <td>Trip Completed</td>\n",
       "      <td>2016-07-11 17:57:00</td>\n",
       "      <td>2016-07-11 18:47:00</td>\n",
       "      <td>00:50:00</td>\n",
       "      <td>Monday</td>\n",
       "      <td>17</td>\n",
       "      <td>Evening</td>\n",
       "      <td>Airport to City</td>\n",
       "    </tr>\n",
       "    <tr>\n",
       "      <th>2</th>\n",
       "      <td>1807</td>\n",
       "      <td>City</td>\n",
       "      <td>1</td>\n",
       "      <td>Trip Completed</td>\n",
       "      <td>2016-07-12 09:17:00</td>\n",
       "      <td>2016-07-12 09:58:00</td>\n",
       "      <td>00:41:00</td>\n",
       "      <td>Tuesday</td>\n",
       "      <td>9</td>\n",
       "      <td>Early Morning</td>\n",
       "      <td>City to Airport</td>\n",
       "    </tr>\n",
       "    <tr>\n",
       "      <th>3</th>\n",
       "      <td>2532</td>\n",
       "      <td>Airport</td>\n",
       "      <td>1</td>\n",
       "      <td>Trip Completed</td>\n",
       "      <td>2016-07-12 21:08:00</td>\n",
       "      <td>2016-07-12 22:03:00</td>\n",
       "      <td>00:55:00</td>\n",
       "      <td>Tuesday</td>\n",
       "      <td>21</td>\n",
       "      <td>Late Evenings</td>\n",
       "      <td>Airport to City</td>\n",
       "    </tr>\n",
       "    <tr>\n",
       "      <th>4</th>\n",
       "      <td>3112</td>\n",
       "      <td>City</td>\n",
       "      <td>1</td>\n",
       "      <td>Trip Completed</td>\n",
       "      <td>2016-07-13 08:33:16</td>\n",
       "      <td>2016-07-13 09:25:47</td>\n",
       "      <td>00:52:31</td>\n",
       "      <td>Wednesday</td>\n",
       "      <td>8</td>\n",
       "      <td>Early Morning</td>\n",
       "      <td>City to Airport</td>\n",
       "    </tr>\n",
       "  </tbody>\n",
       "</table>\n",
       "</div>"
      ],
      "text/plain": [
       "   Request id Pickup point  Driver id          Status   Request timestamp  \\\n",
       "0         619      Airport          1  Trip Completed 2016-07-11 11:51:00   \n",
       "1         867      Airport          1  Trip Completed 2016-07-11 17:57:00   \n",
       "2        1807         City          1  Trip Completed 2016-07-12 09:17:00   \n",
       "3        2532      Airport          1  Trip Completed 2016-07-12 21:08:00   \n",
       "4        3112         City          1  Trip Completed 2016-07-13 08:33:16   \n",
       "\n",
       "       Drop timestamp TripTime TripWeekDay  hour           TimeSlots  \\\n",
       "0 2016-07-11 13:00:00 01:09:00      Monday    11  Morning Rush Hours   \n",
       "1 2016-07-11 18:47:00 00:50:00      Monday    17             Evening   \n",
       "2 2016-07-12 09:58:00 00:41:00     Tuesday     9       Early Morning   \n",
       "3 2016-07-12 22:03:00 00:55:00     Tuesday    21       Late Evenings   \n",
       "4 2016-07-13 09:25:47 00:52:31   Wednesday     8       Early Morning   \n",
       "\n",
       "       RequestType  \n",
       "0  Airport to City  \n",
       "1  Airport to City  \n",
       "2  City to Airport  \n",
       "3  Airport to City  \n",
       "4  City to Airport  "
      ]
     },
     "execution_count": 19,
     "metadata": {},
     "output_type": "execute_result"
    }
   ],
   "source": [
    "# To check the new DataFrame with the updated columns\n",
    "uber.head()"
   ]
  },
  {
   "cell_type": "markdown",
   "metadata": {},
   "source": [
    "### Filtering Status of the trip to only Cancelled and No Cars Available to get better view of the data"
   ]
  },
  {
   "cell_type": "code",
   "execution_count": 20,
   "metadata": {},
   "outputs": [
    {
     "data": {
      "text/html": [
       "<div>\n",
       "<style scoped>\n",
       "    .dataframe tbody tr th:only-of-type {\n",
       "        vertical-align: middle;\n",
       "    }\n",
       "\n",
       "    .dataframe tbody tr th {\n",
       "        vertical-align: top;\n",
       "    }\n",
       "\n",
       "    .dataframe thead th {\n",
       "        text-align: right;\n",
       "    }\n",
       "</style>\n",
       "<table border=\"1\" class=\"dataframe\">\n",
       "  <thead>\n",
       "    <tr style=\"text-align: right;\">\n",
       "      <th></th>\n",
       "      <th>Status</th>\n",
       "      <th>Pickup point</th>\n",
       "      <th>TimeSlots</th>\n",
       "      <th>hour</th>\n",
       "      <th>RequestType</th>\n",
       "    </tr>\n",
       "  </thead>\n",
       "  <tbody>\n",
       "    <tr>\n",
       "      <th>2831</th>\n",
       "      <td>Cancelled</td>\n",
       "      <td>City</td>\n",
       "      <td>Early Morning</td>\n",
       "      <td>6</td>\n",
       "      <td>City to Airport</td>\n",
       "    </tr>\n",
       "    <tr>\n",
       "      <th>2832</th>\n",
       "      <td>Cancelled</td>\n",
       "      <td>City</td>\n",
       "      <td>Evening</td>\n",
       "      <td>17</td>\n",
       "      <td>City to Airport</td>\n",
       "    </tr>\n",
       "    <tr>\n",
       "      <th>2833</th>\n",
       "      <td>Cancelled</td>\n",
       "      <td>Airport</td>\n",
       "      <td>Evening</td>\n",
       "      <td>20</td>\n",
       "      <td>Airport to City</td>\n",
       "    </tr>\n",
       "    <tr>\n",
       "      <th>2834</th>\n",
       "      <td>Cancelled</td>\n",
       "      <td>City</td>\n",
       "      <td>Morning Rush Hours</td>\n",
       "      <td>10</td>\n",
       "      <td>City to Airport</td>\n",
       "    </tr>\n",
       "    <tr>\n",
       "      <th>2835</th>\n",
       "      <td>Cancelled</td>\n",
       "      <td>Airport</td>\n",
       "      <td>Evening</td>\n",
       "      <td>19</td>\n",
       "      <td>Airport to City</td>\n",
       "    </tr>\n",
       "  </tbody>\n",
       "</table>\n",
       "</div>"
      ],
      "text/plain": [
       "         Status Pickup point           TimeSlots  hour      RequestType\n",
       "2831  Cancelled         City       Early Morning     6  City to Airport\n",
       "2832  Cancelled         City             Evening    17  City to Airport\n",
       "2833  Cancelled      Airport             Evening    20  Airport to City\n",
       "2834  Cancelled         City  Morning Rush Hours    10  City to Airport\n",
       "2835  Cancelled      Airport             Evening    19  Airport to City"
      ]
     },
     "execution_count": 20,
     "metadata": {},
     "output_type": "execute_result"
    }
   ],
   "source": [
    "# Creating a new Dataframe to plot graphs \n",
    "graph=uber[~(uber['Status']=='Trip Completed')][['Status','Pickup point','TimeSlots','hour','RequestType']]\n",
    "\n",
    "graph.head()"
   ]
  },
  {
   "cell_type": "markdown",
   "metadata": {},
   "source": [
    "### Barplot to check how the Customer requests are bucketed into slots"
   ]
  },
  {
   "cell_type": "code",
   "execution_count": 21,
   "metadata": {},
   "outputs": [
    {
     "data": {
      "text/plain": [
       "Text(0.5,1,'Frequency of Requests (vs) Status of the Trip')"
      ]
     },
     "execution_count": 21,
     "metadata": {},
     "output_type": "execute_result"
    },
    {
     "data": {
      "image/png": "[encoded data removed]",
      "text/plain": [
       "<Figure size 936x648 with 1 Axes>"
      ]
     },
     "metadata": {},
     "output_type": "display_data"
    }
   ],
   "source": [
    "sns.set(rc={'figure.figsize':(13,9)})\n",
    "sns.set(style=\"darkgrid\")\n",
    "\n",
    "sns.countplot(x='Status',hue='TimeSlots',data=uber,saturation=0.8,palette='tab10')\n",
    "plt.ylabel('Frequency of Requests')\n",
    "plt.xlabel('Status of the trip')\n",
    "plt.title('Frequency of Requests (vs) Status of the Trip')"
   ]
  },
  {
   "cell_type": "markdown",
   "metadata": {},
   "source": [
    "### Plot to visualize how requests are spread wrt 'Pickup Point'"
   ]
  },
  {
   "cell_type": "code",
   "execution_count": 22,
   "metadata": {},
   "outputs": [
    {
     "data": {
      "text/plain": [
       "<seaborn.axisgrid.FacetGrid at 0x29ef1ae8e10>"
      ]
     },
     "execution_count": 22,
     "metadata": {},
     "output_type": "execute_result"
    },
    {
     "data": {
      "image/png": "[encoded data removed]",
      "text/plain": [
       "<Figure size 788.475x360 with 2 Axes>"
      ]
     },
     "metadata": {},
     "output_type": "display_data"
    }
   ],
   "source": [
    "# Setting up the grid\n",
    "sns.set(style=\"darkgrid\")\n",
    "\n",
    "# Plotting the Categorical graph based on the pickup points of the trip and Time Slots derived\n",
    "sns.catplot(x=\"Status\", hue=\"TimeSlots\", col=\"Pickup point\",\n",
    "                data=graph, kind=\"count\",height=5, aspect=0.9,palette='mako')"
   ]
  },
  {
   "cell_type": "code",
   "execution_count": 23,
   "metadata": {},
   "outputs": [
    {
     "data": {
      "text/plain": [
       "Text(0.5,0,'Ride Requests- Hourwise')"
      ]
     },
     "execution_count": 23,
     "metadata": {},
     "output_type": "execute_result"
    },
    {
     "data": {
      "image/png": "[encoded data removed]",
      "text/plain": [
       "<Figure size 576x360 with 1 Axes>"
      ]
     },
     "metadata": {},
     "output_type": "display_data"
    }
   ],
   "source": [
    "# Adjusting the size of the plot\n",
    "sns.set(rc={'figure.figsize':(8,5)})\n",
    "\n",
    "# Setting up the grid\n",
    "sns.set(style=\"darkgrid\")\n",
    "\n",
    "# Count plot to get the distribution of requests for the filtered DataFrame\n",
    "sns.countplot(x='hour',hue='Status',data=graph,dodge=True,saturation=1)\n",
    "plt.xlabel('Ride Requests- Hourwise')"
   ]
  },
  {
   "cell_type": "markdown",
   "metadata": {},
   "source": [
    "### Plot to visualize how data is spread in each slot wrt Status of the trip"
   ]
  },
  {
   "cell_type": "code",
   "execution_count": 24,
   "metadata": {},
   "outputs": [
    {
     "data": {
      "text/plain": [
       "<seaborn.axisgrid.FacetGrid at 0x29ef1d4dc18>"
      ]
     },
     "execution_count": 24,
     "metadata": {},
     "output_type": "execute_result"
    },
    {
     "data": {
      "image/png": "[encoded data removed]",
      "text/plain": [
       "<Figure size 1402.72x360 with 6 Axes>"
      ]
     },
     "metadata": {},
     "output_type": "display_data"
    }
   ],
   "source": [
    "# Setting up the grid\n",
    "sns.set(style=\"darkgrid\")\n",
    "\n",
    "sns.catplot(x=\"Status\", hue=\"RequestType\", col=\"TimeSlots\",\n",
    "                data=graph, kind=\"count\",height=5, aspect=0.6,palette='ocean')\n"
   ]
  },
  {
   "cell_type": "markdown",
   "metadata": {},
   "source": [
    "### Plot to visualize how data is spread in each slot wrt Pickup point of the trip"
   ]
  },
  {
   "cell_type": "code",
   "execution_count": 25,
   "metadata": {},
   "outputs": [
    {
     "data": {
      "text/plain": [
       "<seaborn.axisgrid.FacetGrid at 0x29ef1bdaef0>"
      ]
     },
     "execution_count": 25,
     "metadata": {},
     "output_type": "execute_result"
    },
    {
     "data": {
      "image/png": "[encoded data removed]",
      "text/plain": [
       "<Figure size 1423.97x360 with 6 Axes>"
      ]
     },
     "metadata": {},
     "output_type": "display_data"
    }
   ],
   "source": [
    "sns.catplot(x=\"RequestType\", hue=\"Status\", col=\"TimeSlots\",\n",
    "                data=graph, kind=\"count\",palette='Set1',height=5, aspect=0.6)"
   ]
  },
  {
   "cell_type": "markdown",
   "metadata": {},
   "source": [
    "###  Finding the gap between supply and demand: "
   ]
  },
  {
   "cell_type": "code",
   "execution_count": 26,
   "metadata": {},
   "outputs": [
    {
     "data": {
      "text/html": [
       "<div>\n",
       "<style scoped>\n",
       "    .dataframe tbody tr th:only-of-type {\n",
       "        vertical-align: middle;\n",
       "    }\n",
       "\n",
       "    .dataframe tbody tr th {\n",
       "        vertical-align: top;\n",
       "    }\n",
       "\n",
       "    .dataframe thead th {\n",
       "        text-align: right;\n",
       "    }\n",
       "</style>\n",
       "<table border=\"1\" class=\"dataframe\">\n",
       "  <thead>\n",
       "    <tr style=\"text-align: right;\">\n",
       "      <th></th>\n",
       "      <th>Status</th>\n",
       "      <th>Pickup point</th>\n",
       "      <th>TimeSlots</th>\n",
       "    </tr>\n",
       "  </thead>\n",
       "  <tbody>\n",
       "    <tr>\n",
       "      <th>0</th>\n",
       "      <td>Trip Completed</td>\n",
       "      <td>Airport</td>\n",
       "      <td>Morning Rush Hours</td>\n",
       "    </tr>\n",
       "    <tr>\n",
       "      <th>1</th>\n",
       "      <td>Trip Completed</td>\n",
       "      <td>Airport</td>\n",
       "      <td>Evening</td>\n",
       "    </tr>\n",
       "    <tr>\n",
       "      <th>2</th>\n",
       "      <td>Trip Completed</td>\n",
       "      <td>City</td>\n",
       "      <td>Early Morning</td>\n",
       "    </tr>\n",
       "    <tr>\n",
       "      <th>3</th>\n",
       "      <td>Trip Completed</td>\n",
       "      <td>Airport</td>\n",
       "      <td>Late Evenings</td>\n",
       "    </tr>\n",
       "    <tr>\n",
       "      <th>4</th>\n",
       "      <td>Trip Completed</td>\n",
       "      <td>City</td>\n",
       "      <td>Early Morning</td>\n",
       "    </tr>\n",
       "  </tbody>\n",
       "</table>\n",
       "</div>"
      ],
      "text/plain": [
       "           Status Pickup point           TimeSlots\n",
       "0  Trip Completed      Airport  Morning Rush Hours\n",
       "1  Trip Completed      Airport             Evening\n",
       "2  Trip Completed         City       Early Morning\n",
       "3  Trip Completed      Airport       Late Evenings\n",
       "4  Trip Completed         City       Early Morning"
      ]
     },
     "execution_count": 26,
     "metadata": {},
     "output_type": "execute_result"
    }
   ],
   "source": [
    "# Creating a dummy DataFrame to see a rough supply and demand based on the Pickup point,Time slots and Status of the trips\n",
    "dummy=uber[['Status','Pickup point','TimeSlots']]\n",
    "#uber.pivot_table(index='Status',columns='Time Slots',aggfunc=len,fill_value=0)\n",
    "dummy.head()"
   ]
  },
  {
   "cell_type": "code",
   "execution_count": 27,
   "metadata": {},
   "outputs": [
    {
     "data": {
      "text/html": [
       "<div>\n",
       "<style scoped>\n",
       "    .dataframe tbody tr th:only-of-type {\n",
       "        vertical-align: middle;\n",
       "    }\n",
       "\n",
       "    .dataframe tbody tr th {\n",
       "        vertical-align: top;\n",
       "    }\n",
       "\n",
       "    .dataframe thead tr th {\n",
       "        text-align: left;\n",
       "    }\n",
       "\n",
       "    .dataframe thead tr:last-of-type th {\n",
       "        text-align: right;\n",
       "    }\n",
       "</style>\n",
       "<table border=\"1\" class=\"dataframe\">\n",
       "  <thead>\n",
       "    <tr>\n",
       "      <th></th>\n",
       "      <th colspan=\"3\" halign=\"left\">Pickup point</th>\n",
       "    </tr>\n",
       "    <tr>\n",
       "      <th>Status</th>\n",
       "      <th>Cancelled</th>\n",
       "      <th>No Cars Available</th>\n",
       "      <th>Trip Completed</th>\n",
       "    </tr>\n",
       "    <tr>\n",
       "      <th>TimeSlots</th>\n",
       "      <th></th>\n",
       "      <th></th>\n",
       "      <th></th>\n",
       "    </tr>\n",
       "  </thead>\n",
       "  <tbody>\n",
       "    <tr>\n",
       "      <th>Afternoon</th>\n",
       "      <td>72</td>\n",
       "      <td>184</td>\n",
       "      <td>370</td>\n",
       "    </tr>\n",
       "    <tr>\n",
       "      <th>Early Morning</th>\n",
       "      <td>843</td>\n",
       "      <td>406</td>\n",
       "      <td>854</td>\n",
       "    </tr>\n",
       "    <tr>\n",
       "      <th>Evening</th>\n",
       "      <td>124</td>\n",
       "      <td>1127</td>\n",
       "      <td>642</td>\n",
       "    </tr>\n",
       "    <tr>\n",
       "      <th>Late Evenings</th>\n",
       "      <td>64</td>\n",
       "      <td>484</td>\n",
       "      <td>399</td>\n",
       "    </tr>\n",
       "    <tr>\n",
       "      <th>Late Night</th>\n",
       "      <td>65</td>\n",
       "      <td>299</td>\n",
       "      <td>214</td>\n",
       "    </tr>\n",
       "  </tbody>\n",
       "</table>\n",
       "</div>"
      ],
      "text/plain": [
       "              Pickup point                                 \n",
       "Status           Cancelled No Cars Available Trip Completed\n",
       "TimeSlots                                                  \n",
       "Afternoon               72               184            370\n",
       "Early Morning          843               406            854\n",
       "Evening                124              1127            642\n",
       "Late Evenings           64               484            399\n",
       "Late Night              65               299            214"
      ]
     },
     "execution_count": 27,
     "metadata": {},
     "output_type": "execute_result"
    }
   ],
   "source": [
    "# Aggregating the dummy DataFrame to get the count of requests in timeSlots based on Status of the Trip\n",
    "dfStatus=dummy.pivot_table(index='TimeSlots',columns=['Status'],aggfunc=len)\n",
    "dfStatus.head()\n"
   ]
  },
  {
   "cell_type": "code",
   "execution_count": 28,
   "metadata": {},
   "outputs": [],
   "source": [
    "# Creating the Supply and Demand columns from the data\n",
    "dfStatus['Supply']=dfStatus['Pickup point']['Cancelled']+dfStatus['Pickup point']['No Cars Available']+dfStatus['Pickup point']['Trip Completed']\n",
    "dfStatus['Demand']=dfStatus['Pickup point']['Cancelled']+dfStatus['Pickup point']['No Cars Available']\n",
    "\n",
    "# Estimating the gap between the supply and demand\n",
    "dfStatus['Gap']=dfStatus['Supply']-dfStatus['Demand']"
   ]
  },
  {
   "cell_type": "code",
   "execution_count": 29,
   "metadata": {},
   "outputs": [
    {
     "data": {
      "text/html": [
       "<div>\n",
       "<style scoped>\n",
       "    .dataframe tbody tr th:only-of-type {\n",
       "        vertical-align: middle;\n",
       "    }\n",
       "\n",
       "    .dataframe tbody tr th {\n",
       "        vertical-align: top;\n",
       "    }\n",
       "\n",
       "    .dataframe thead tr th {\n",
       "        text-align: left;\n",
       "    }\n",
       "\n",
       "    .dataframe thead tr:last-of-type th {\n",
       "        text-align: right;\n",
       "    }\n",
       "</style>\n",
       "<table border=\"1\" class=\"dataframe\">\n",
       "  <thead>\n",
       "    <tr>\n",
       "      <th></th>\n",
       "      <th colspan=\"3\" halign=\"left\">Pickup point</th>\n",
       "      <th>Supply</th>\n",
       "      <th>Demand</th>\n",
       "      <th>Gap</th>\n",
       "    </tr>\n",
       "    <tr>\n",
       "      <th>Status</th>\n",
       "      <th>Cancelled</th>\n",
       "      <th>No Cars Available</th>\n",
       "      <th>Trip Completed</th>\n",
       "      <th></th>\n",
       "      <th></th>\n",
       "      <th></th>\n",
       "    </tr>\n",
       "    <tr>\n",
       "      <th>TimeSlots</th>\n",
       "      <th></th>\n",
       "      <th></th>\n",
       "      <th></th>\n",
       "      <th></th>\n",
       "      <th></th>\n",
       "      <th></th>\n",
       "    </tr>\n",
       "  </thead>\n",
       "  <tbody>\n",
       "    <tr>\n",
       "      <th>Afternoon</th>\n",
       "      <td>72</td>\n",
       "      <td>184</td>\n",
       "      <td>370</td>\n",
       "      <td>626</td>\n",
       "      <td>256</td>\n",
       "      <td>370</td>\n",
       "    </tr>\n",
       "    <tr>\n",
       "      <th>Early Morning</th>\n",
       "      <td>843</td>\n",
       "      <td>406</td>\n",
       "      <td>854</td>\n",
       "      <td>2103</td>\n",
       "      <td>1249</td>\n",
       "      <td>854</td>\n",
       "    </tr>\n",
       "    <tr>\n",
       "      <th>Evening</th>\n",
       "      <td>124</td>\n",
       "      <td>1127</td>\n",
       "      <td>642</td>\n",
       "      <td>1893</td>\n",
       "      <td>1251</td>\n",
       "      <td>642</td>\n",
       "    </tr>\n",
       "    <tr>\n",
       "      <th>Late Evenings</th>\n",
       "      <td>64</td>\n",
       "      <td>484</td>\n",
       "      <td>399</td>\n",
       "      <td>947</td>\n",
       "      <td>548</td>\n",
       "      <td>399</td>\n",
       "    </tr>\n",
       "    <tr>\n",
       "      <th>Late Night</th>\n",
       "      <td>65</td>\n",
       "      <td>299</td>\n",
       "      <td>214</td>\n",
       "      <td>578</td>\n",
       "      <td>364</td>\n",
       "      <td>214</td>\n",
       "    </tr>\n",
       "  </tbody>\n",
       "</table>\n",
       "</div>"
      ],
      "text/plain": [
       "              Pickup point                                  Supply Demand  Gap\n",
       "Status           Cancelled No Cars Available Trip Completed                   \n",
       "TimeSlots                                                                     \n",
       "Afternoon               72               184            370    626    256  370\n",
       "Early Morning          843               406            854   2103   1249  854\n",
       "Evening                124              1127            642   1893   1251  642\n",
       "Late Evenings           64               484            399    947    548  399\n",
       "Late Night              65               299            214    578    364  214"
      ]
     },
     "execution_count": 29,
     "metadata": {},
     "output_type": "execute_result"
    }
   ],
   "source": [
    "dfStatus.head()"
   ]
  },
  {
   "cell_type": "markdown",
   "metadata": {},
   "source": [
    "### Plot to Vizualize the Supply and Demand"
   ]
  },
  {
   "cell_type": "code",
   "execution_count": 30,
   "metadata": {},
   "outputs": [
    {
     "data": {
      "text/plain": [
       "Text(0.5,0,'Frequency of Ride Request')"
      ]
     },
     "execution_count": 30,
     "metadata": {},
     "output_type": "execute_result"
    },
    {
     "data": {
      "image/png": "[encoded data removed]",
      "text/plain": [
       "<Figure size 720x576 with 2 Axes>"
      ]
     },
     "metadata": {},
     "output_type": "display_data"
    }
   ],
   "source": [
    "sns.set(rc={'figure.figsize':(10,8)})\n",
    "plt.subplot(121)\n",
    "sns.set(style=\"darkgrid\")\n",
    "\n",
    "sns.countplot(y='TimeSlots',hue='Status',data=graph,dodge=True,palette='tab10',saturation=0.9)\n",
    "plt.xlabel('Frequency of Ride Request')\n",
    "plt.subplot(122)\n",
    "sns.countplot(y='TimeSlots',hue='RequestType',data=graph,dodge=True,palette='mako')\n",
    "plt.subplots_adjust(left=None, bottom=0.2, right=1.2, top=0.6,\n",
    "                wspace=0.5, hspace=0.3)\n",
    "plt.xlabel('Frequency of Ride Request')"
   ]
  },
  {
   "cell_type": "markdown",
   "metadata": {},
   "source": [
    "## `Surplus demand:`\n",
    "In the evenings, No Cars are available from Airport to City\n",
    "## `Deficit Supply: `\n",
    "Most Cancellations are observed during early morning time from City to Airport\n",
    "\n",
    "\n"
   ]
  },
  {
   "cell_type": "markdown",
   "metadata": {},
   "source": [
    "# Cancellation of Bookings at City in the Morning:\n",
    "### Driver’s point of view:\n",
    "#* The income earned by cab driver is more in the city during morning rush hours as many would book cabs for office \n",
    "#* Each driver wants to go to airport only once a day and cancelling the requests\n",
    "#* Idle waiting time is higher at the airports to get a request\n",
    "#* Possible resting hours for a typical cab driver\n",
    "### Customer’s point of view:\n",
    "#* Fare of local transport is relatively lower \n",
    "#* Too much waiting time as the driver may get stuck in traffic.\n",
    "# No cars available at Airport in the Evening:\n",
    "#* Possible resting hours for a typical cab driver\n",
    "#* More inflow of cabs and lower frequency of flight arrivals\n",
    "\n",
    "\n"
   ]
  },
  {
   "cell_type": "markdown",
   "metadata": {},
   "source": [
    "*** `For a Feasible Solution` Please view the PPT ***"
   ]
  },
  {
   "cell_type": "code",
   "execution_count": null,
   "metadata": {},
   "outputs": [],
   "source": []
  }
 ],
 "metadata": {
  "kernelspec": {
   "display_name": "Python 3",
   "language": "python",
   "name": "python3"
  },
  "language_info": {
   "codemirror_mode": {
    "name": "ipython",
    "version": 3
   },
   "file_extension": ".py",
   "mimetype": "text/x-python",
   "name": "python",
   "nbconvert_exporter": "python",
   "pygments_lexer": "ipython3",
   "version": "3.6.5"
  }
 },
 "nbformat": 4,
 "nbformat_minor": 2
}

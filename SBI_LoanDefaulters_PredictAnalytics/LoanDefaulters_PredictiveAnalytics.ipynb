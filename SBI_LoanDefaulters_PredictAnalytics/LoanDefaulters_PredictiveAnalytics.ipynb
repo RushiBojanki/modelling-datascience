{
 "cells": [
  {
   "cell_type": "markdown",
   "metadata": {},
   "source": [
    "# Gramener Case Study\n",
    "\n",
    "This EDA case study is aimed at developing a basic understanding of risk analytics in banking and financial services and understand how data is used to minimise the risk of losing money while lending to customers.\n",
    "\n",
    "#### Business Objectives: \n",
    "If one is able to identify risky loan applicants, then such loans can be reduced thereby cutting down the amount of credit loss. In other words, the company wants to understand the driving factors (or driver variables) behind loan default, i.e. the variables which are strong indicators of default.  The company can utilise this knowledge for its portfolio and risk assessment. \n",
    "\n",
    "#### Loan Application Decision Types:\n",
    "When a person applies for a loan, there are two types of decisions that could be taken by the company:\n",
    "\n",
    "1. Loan accepted: If the company approves the loan, there are 3 possible scenarios described below:\n",
    "\n",
    "    a) **Fully paid**: Applicant has fully paid the loan (the principal and the interest rate)\n",
    "    \n",
    "    b) **Current**: Applicant is in the process of paying the instalments, i.e. the tenure of the loan is not yet   completed.These candidates are not labelled as 'defaulted'.\n",
    "    \n",
    "    c) **Charged-off**: Applicant has not paid the instalments in due time for a long period of time, i.e. he/she has defaulted on the loan\n",
    "2. Loan rejected: The company had rejected the loan (because the candidate does not meet their requirements etc.). Since the loan was rejected, there is no transactional history of those applicants with the company and so this data is not available with the company (and thus in this dataset).\n",
    " "
   ]
  },
  {
   "cell_type": "code",
   "execution_count": 1,
   "metadata": {},
   "outputs": [],
   "source": [
    "#Importing required libraries\n",
    "import numpy as np\n",
    "import pandas as pd\n",
    "import seaborn as sns\n",
    "import matplotlib.pyplot as plt\n",
    "import scipy as sc\n",
    "import math as m"
   ]
  },
  {
   "cell_type": "code",
   "execution_count": 2,
   "metadata": {},
   "outputs": [],
   "source": [
    "#Importing the data set\n",
    "# Addressing the error due to column 47 by setting \"next_pymnt_d\" as object\n",
    "loan_df = pd.read_csv('./loan.csv', dtype = {'next_pymnt_d':'object'})"
   ]
  },
  {
   "cell_type": "markdown",
   "metadata": {},
   "source": [
    "## Data Cleaning"
   ]
  },
  {
   "cell_type": "code",
   "execution_count": 3,
   "metadata": {},
   "outputs": [
    {
     "data": {
      "text/html": [
       "<div>\n",
       "<style scoped>\n",
       "    .dataframe tbody tr th:only-of-type {\n",
       "        vertical-align: middle;\n",
       "    }\n",
       "\n",
       "    .dataframe tbody tr th {\n",
       "        vertical-align: top;\n",
       "    }\n",
       "\n",
       "    .dataframe thead th {\n",
       "        text-align: right;\n",
       "    }\n",
       "</style>\n",
       "<table border=\"1\" class=\"dataframe\">\n",
       "  <thead>\n",
       "    <tr style=\"text-align: right;\">\n",
       "      <th></th>\n",
       "      <th>id</th>\n",
       "      <th>member_id</th>\n",
       "      <th>loan_amnt</th>\n",
       "      <th>funded_amnt</th>\n",
       "      <th>funded_amnt_inv</th>\n",
       "      <th>term</th>\n",
       "      <th>int_rate</th>\n",
       "      <th>installment</th>\n",
       "      <th>grade</th>\n",
       "      <th>sub_grade</th>\n",
       "      <th>...</th>\n",
       "      <th>num_tl_90g_dpd_24m</th>\n",
       "      <th>num_tl_op_past_12m</th>\n",
       "      <th>pct_tl_nvr_dlq</th>\n",
       "      <th>percent_bc_gt_75</th>\n",
       "      <th>pub_rec_bankruptcies</th>\n",
       "      <th>tax_liens</th>\n",
       "      <th>tot_hi_cred_lim</th>\n",
       "      <th>total_bal_ex_mort</th>\n",
       "      <th>total_bc_limit</th>\n",
       "      <th>total_il_high_credit_limit</th>\n",
       "    </tr>\n",
       "  </thead>\n",
       "  <tbody>\n",
       "    <tr>\n",
       "      <th>0</th>\n",
       "      <td>1077501</td>\n",
       "      <td>1296599</td>\n",
       "      <td>5000</td>\n",
       "      <td>5000</td>\n",
       "      <td>4975.0</td>\n",
       "      <td>36 months</td>\n",
       "      <td>10.65%</td>\n",
       "      <td>162.87</td>\n",
       "      <td>B</td>\n",
       "      <td>B2</td>\n",
       "      <td>...</td>\n",
       "      <td>NaN</td>\n",
       "      <td>NaN</td>\n",
       "      <td>NaN</td>\n",
       "      <td>NaN</td>\n",
       "      <td>0.0</td>\n",
       "      <td>0.0</td>\n",
       "      <td>NaN</td>\n",
       "      <td>NaN</td>\n",
       "      <td>NaN</td>\n",
       "      <td>NaN</td>\n",
       "    </tr>\n",
       "    <tr>\n",
       "      <th>1</th>\n",
       "      <td>1077430</td>\n",
       "      <td>1314167</td>\n",
       "      <td>2500</td>\n",
       "      <td>2500</td>\n",
       "      <td>2500.0</td>\n",
       "      <td>60 months</td>\n",
       "      <td>15.27%</td>\n",
       "      <td>59.83</td>\n",
       "      <td>C</td>\n",
       "      <td>C4</td>\n",
       "      <td>...</td>\n",
       "      <td>NaN</td>\n",
       "      <td>NaN</td>\n",
       "      <td>NaN</td>\n",
       "      <td>NaN</td>\n",
       "      <td>0.0</td>\n",
       "      <td>0.0</td>\n",
       "      <td>NaN</td>\n",
       "      <td>NaN</td>\n",
       "      <td>NaN</td>\n",
       "      <td>NaN</td>\n",
       "    </tr>\n",
       "    <tr>\n",
       "      <th>2</th>\n",
       "      <td>1077175</td>\n",
       "      <td>1313524</td>\n",
       "      <td>2400</td>\n",
       "      <td>2400</td>\n",
       "      <td>2400.0</td>\n",
       "      <td>36 months</td>\n",
       "      <td>15.96%</td>\n",
       "      <td>84.33</td>\n",
       "      <td>C</td>\n",
       "      <td>C5</td>\n",
       "      <td>...</td>\n",
       "      <td>NaN</td>\n",
       "      <td>NaN</td>\n",
       "      <td>NaN</td>\n",
       "      <td>NaN</td>\n",
       "      <td>0.0</td>\n",
       "      <td>0.0</td>\n",
       "      <td>NaN</td>\n",
       "      <td>NaN</td>\n",
       "      <td>NaN</td>\n",
       "      <td>NaN</td>\n",
       "    </tr>\n",
       "    <tr>\n",
       "      <th>3</th>\n",
       "      <td>1076863</td>\n",
       "      <td>1277178</td>\n",
       "      <td>10000</td>\n",
       "      <td>10000</td>\n",
       "      <td>10000.0</td>\n",
       "      <td>36 months</td>\n",
       "      <td>13.49%</td>\n",
       "      <td>339.31</td>\n",
       "      <td>C</td>\n",
       "      <td>C1</td>\n",
       "      <td>...</td>\n",
       "      <td>NaN</td>\n",
       "      <td>NaN</td>\n",
       "      <td>NaN</td>\n",
       "      <td>NaN</td>\n",
       "      <td>0.0</td>\n",
       "      <td>0.0</td>\n",
       "      <td>NaN</td>\n",
       "      <td>NaN</td>\n",
       "      <td>NaN</td>\n",
       "      <td>NaN</td>\n",
       "    </tr>\n",
       "    <tr>\n",
       "      <th>4</th>\n",
       "      <td>1075358</td>\n",
       "      <td>1311748</td>\n",
       "      <td>3000</td>\n",
       "      <td>3000</td>\n",
       "      <td>3000.0</td>\n",
       "      <td>60 months</td>\n",
       "      <td>12.69%</td>\n",
       "      <td>67.79</td>\n",
       "      <td>B</td>\n",
       "      <td>B5</td>\n",
       "      <td>...</td>\n",
       "      <td>NaN</td>\n",
       "      <td>NaN</td>\n",
       "      <td>NaN</td>\n",
       "      <td>NaN</td>\n",
       "      <td>0.0</td>\n",
       "      <td>0.0</td>\n",
       "      <td>NaN</td>\n",
       "      <td>NaN</td>\n",
       "      <td>NaN</td>\n",
       "      <td>NaN</td>\n",
       "    </tr>\n",
       "  </tbody>\n",
       "</table>\n",
       "<p>5 rows × 111 columns</p>\n",
       "</div>"
      ],
      "text/plain": [
       "        id  member_id  loan_amnt  funded_amnt  funded_amnt_inv        term  \\\n",
       "0  1077501    1296599       5000         5000           4975.0   36 months   \n",
       "1  1077430    1314167       2500         2500           2500.0   60 months   \n",
       "2  1077175    1313524       2400         2400           2400.0   36 months   \n",
       "3  1076863    1277178      10000        10000          10000.0   36 months   \n",
       "4  1075358    1311748       3000         3000           3000.0   60 months   \n",
       "\n",
       "  int_rate  installment grade sub_grade            ...              \\\n",
       "0   10.65%       162.87     B        B2            ...               \n",
       "1   15.27%        59.83     C        C4            ...               \n",
       "2   15.96%        84.33     C        C5            ...               \n",
       "3   13.49%       339.31     C        C1            ...               \n",
       "4   12.69%        67.79     B        B5            ...               \n",
       "\n",
       "  num_tl_90g_dpd_24m num_tl_op_past_12m pct_tl_nvr_dlq  percent_bc_gt_75  \\\n",
       "0                NaN                NaN            NaN               NaN   \n",
       "1                NaN                NaN            NaN               NaN   \n",
       "2                NaN                NaN            NaN               NaN   \n",
       "3                NaN                NaN            NaN               NaN   \n",
       "4                NaN                NaN            NaN               NaN   \n",
       "\n",
       "  pub_rec_bankruptcies tax_liens tot_hi_cred_lim total_bal_ex_mort  \\\n",
       "0                  0.0       0.0             NaN               NaN   \n",
       "1                  0.0       0.0             NaN               NaN   \n",
       "2                  0.0       0.0             NaN               NaN   \n",
       "3                  0.0       0.0             NaN               NaN   \n",
       "4                  0.0       0.0             NaN               NaN   \n",
       "\n",
       "  total_bc_limit total_il_high_credit_limit  \n",
       "0            NaN                        NaN  \n",
       "1            NaN                        NaN  \n",
       "2            NaN                        NaN  \n",
       "3            NaN                        NaN  \n",
       "4            NaN                        NaN  \n",
       "\n",
       "[5 rows x 111 columns]"
      ]
     },
     "execution_count": 3,
     "metadata": {},
     "output_type": "execute_result"
    }
   ],
   "source": [
    "#Data Frame Inspection\n",
    "loan_df.head()"
   ]
  },
  {
   "cell_type": "code",
   "execution_count": 4,
   "metadata": {},
   "outputs": [
    {
     "data": {
      "text/plain": [
       "(39717, 111)"
      ]
     },
     "execution_count": 4,
     "metadata": {},
     "output_type": "execute_result"
    }
   ],
   "source": [
    "loan_df.shape"
   ]
  },
  {
   "cell_type": "code",
   "execution_count": 5,
   "metadata": {},
   "outputs": [
    {
     "data": {
      "text/plain": [
       "id                                  0.000000\n",
       "member_id                           0.000000\n",
       "loan_amnt                           0.000000\n",
       "funded_amnt                         0.000000\n",
       "funded_amnt_inv                     0.000000\n",
       "term                                0.000000\n",
       "int_rate                            0.000000\n",
       "installment                         0.000000\n",
       "grade                               0.000000\n",
       "sub_grade                           0.000000\n",
       "emp_title                           6.191303\n",
       "emp_length                          2.706650\n",
       "home_ownership                      0.000000\n",
       "annual_inc                          0.000000\n",
       "verification_status                 0.000000\n",
       "issue_d                             0.000000\n",
       "loan_status                         0.000000\n",
       "pymnt_plan                          0.000000\n",
       "url                                 0.000000\n",
       "desc                               32.580507\n",
       "purpose                             0.000000\n",
       "title                               0.027696\n",
       "zip_code                            0.000000\n",
       "addr_state                          0.000000\n",
       "dti                                 0.000000\n",
       "delinq_2yrs                         0.000000\n",
       "earliest_cr_line                    0.000000\n",
       "inq_last_6mths                      0.000000\n",
       "mths_since_last_delinq             64.662487\n",
       "mths_since_last_record             92.985372\n",
       "                                     ...    \n",
       "mo_sin_old_rev_tl_op              100.000000\n",
       "mo_sin_rcnt_rev_tl_op             100.000000\n",
       "mo_sin_rcnt_tl                    100.000000\n",
       "mort_acc                          100.000000\n",
       "mths_since_recent_bc              100.000000\n",
       "mths_since_recent_bc_dlq          100.000000\n",
       "mths_since_recent_inq             100.000000\n",
       "mths_since_recent_revol_delinq    100.000000\n",
       "num_accts_ever_120_pd             100.000000\n",
       "num_actv_bc_tl                    100.000000\n",
       "num_actv_rev_tl                   100.000000\n",
       "num_bc_sats                       100.000000\n",
       "num_bc_tl                         100.000000\n",
       "num_il_tl                         100.000000\n",
       "num_op_rev_tl                     100.000000\n",
       "num_rev_accts                     100.000000\n",
       "num_rev_tl_bal_gt_0               100.000000\n",
       "num_sats                          100.000000\n",
       "num_tl_120dpd_2m                  100.000000\n",
       "num_tl_30dpd                      100.000000\n",
       "num_tl_90g_dpd_24m                100.000000\n",
       "num_tl_op_past_12m                100.000000\n",
       "pct_tl_nvr_dlq                    100.000000\n",
       "percent_bc_gt_75                  100.000000\n",
       "pub_rec_bankruptcies                1.754916\n",
       "tax_liens                           0.098195\n",
       "tot_hi_cred_lim                   100.000000\n",
       "total_bal_ex_mort                 100.000000\n",
       "total_bc_limit                    100.000000\n",
       "total_il_high_credit_limit        100.000000\n",
       "Length: 111, dtype: float64"
      ]
     },
     "execution_count": 5,
     "metadata": {},
     "output_type": "execute_result"
    }
   ],
   "source": [
    "#Percentage of missing columns for various columns\n",
    "100*loan_df.isnull().sum()/len(loan_df.index)"
   ]
  },
  {
   "cell_type": "code",
   "execution_count": 6,
   "metadata": {},
   "outputs": [],
   "source": [
    "#Removing all columns which have more than 90% of NaN values\n",
    "loan_df.drop(loan_df.columns[100*loan_df.isnull().sum()/len(loan_df.index) > 90],axis=1,inplace=True)"
   ]
  },
  {
   "cell_type": "code",
   "execution_count": 7,
   "metadata": {},
   "outputs": [
    {
     "data": {
      "text/plain": [
       "55"
      ]
     },
     "execution_count": 7,
     "metadata": {},
     "output_type": "execute_result"
    }
   ],
   "source": [
    "#Checking the number of oolumns remaining\n",
    "len(loan_df.columns)"
   ]
  },
  {
   "cell_type": "code",
   "execution_count": 8,
   "metadata": {},
   "outputs": [
    {
     "data": {
      "text/plain": [
       "id                             0.000000\n",
       "member_id                      0.000000\n",
       "loan_amnt                      0.000000\n",
       "funded_amnt                    0.000000\n",
       "funded_amnt_inv                0.000000\n",
       "term                           0.000000\n",
       "int_rate                       0.000000\n",
       "installment                    0.000000\n",
       "grade                          0.000000\n",
       "sub_grade                      0.000000\n",
       "emp_title                      6.191303\n",
       "emp_length                     2.706650\n",
       "home_ownership                 0.000000\n",
       "annual_inc                     0.000000\n",
       "verification_status            0.000000\n",
       "issue_d                        0.000000\n",
       "loan_status                    0.000000\n",
       "pymnt_plan                     0.000000\n",
       "url                            0.000000\n",
       "desc                          32.580507\n",
       "purpose                        0.000000\n",
       "title                          0.027696\n",
       "zip_code                       0.000000\n",
       "addr_state                     0.000000\n",
       "dti                            0.000000\n",
       "delinq_2yrs                    0.000000\n",
       "earliest_cr_line               0.000000\n",
       "inq_last_6mths                 0.000000\n",
       "mths_since_last_delinq        64.662487\n",
       "open_acc                       0.000000\n",
       "pub_rec                        0.000000\n",
       "revol_bal                      0.000000\n",
       "revol_util                     0.125891\n",
       "total_acc                      0.000000\n",
       "initial_list_status            0.000000\n",
       "out_prncp                      0.000000\n",
       "out_prncp_inv                  0.000000\n",
       "total_pymnt                    0.000000\n",
       "total_pymnt_inv                0.000000\n",
       "total_rec_prncp                0.000000\n",
       "total_rec_int                  0.000000\n",
       "total_rec_late_fee             0.000000\n",
       "recoveries                     0.000000\n",
       "collection_recovery_fee        0.000000\n",
       "last_pymnt_d                   0.178765\n",
       "last_pymnt_amnt                0.000000\n",
       "last_credit_pull_d             0.005036\n",
       "collections_12_mths_ex_med     0.140998\n",
       "policy_code                    0.000000\n",
       "application_type               0.000000\n",
       "acc_now_delinq                 0.000000\n",
       "chargeoff_within_12_mths       0.140998\n",
       "delinq_amnt                    0.000000\n",
       "pub_rec_bankruptcies           1.754916\n",
       "tax_liens                      0.098195\n",
       "dtype: float64"
      ]
     },
     "execution_count": 8,
     "metadata": {},
     "output_type": "execute_result"
    }
   ],
   "source": [
    "#Percentage of missing values of various columns after extraction\n",
    "100*loan_df.isnull().sum()/len(loan_df.index)"
   ]
  },
  {
   "cell_type": "code",
   "execution_count": 9,
   "metadata": {},
   "outputs": [],
   "source": [
    "#Removing columns that are not likely to influence our analysis(static or no variation values)\n",
    "drop_columns = ['member_id', 'emp_title', 'url', 'desc','title', 'earliest_cr_line',\n",
    "              'last_pymnt_d','last_credit_pull_d','collection_recovery_fee']\n",
    "loan_df.drop(drop_columns,axis=1,inplace=True)"
   ]
  },
  {
   "cell_type": "code",
   "execution_count": 10,
   "metadata": {},
   "outputs": [
    {
     "name": "stdout",
     "output_type": "stream",
     "text": [
      "<class 'pandas.core.frame.DataFrame'>\n",
      "RangeIndex: 39717 entries, 0 to 39716\n",
      "Data columns (total 46 columns):\n",
      "id                            39717 non-null int64\n",
      "loan_amnt                     39717 non-null int64\n",
      "funded_amnt                   39717 non-null int64\n",
      "funded_amnt_inv               39717 non-null float64\n",
      "term                          39717 non-null object\n",
      "int_rate                      39717 non-null object\n",
      "installment                   39717 non-null float64\n",
      "grade                         39717 non-null object\n",
      "sub_grade                     39717 non-null object\n",
      "emp_length                    38642 non-null object\n",
      "home_ownership                39717 non-null object\n",
      "annual_inc                    39717 non-null float64\n",
      "verification_status           39717 non-null object\n",
      "issue_d                       39717 non-null object\n",
      "loan_status                   39717 non-null object\n",
      "pymnt_plan                    39717 non-null object\n",
      "purpose                       39717 non-null object\n",
      "zip_code                      39717 non-null object\n",
      "addr_state                    39717 non-null object\n",
      "dti                           39717 non-null float64\n",
      "delinq_2yrs                   39717 non-null int64\n",
      "inq_last_6mths                39717 non-null int64\n",
      "mths_since_last_delinq        14035 non-null float64\n",
      "open_acc                      39717 non-null int64\n",
      "pub_rec                       39717 non-null int64\n",
      "revol_bal                     39717 non-null int64\n",
      "revol_util                    39667 non-null object\n",
      "total_acc                     39717 non-null int64\n",
      "initial_list_status           39717 non-null object\n",
      "out_prncp                     39717 non-null float64\n",
      "out_prncp_inv                 39717 non-null float64\n",
      "total_pymnt                   39717 non-null float64\n",
      "total_pymnt_inv               39717 non-null float64\n",
      "total_rec_prncp               39717 non-null float64\n",
      "total_rec_int                 39717 non-null float64\n",
      "total_rec_late_fee            39717 non-null float64\n",
      "recoveries                    39717 non-null float64\n",
      "last_pymnt_amnt               39717 non-null float64\n",
      "collections_12_mths_ex_med    39661 non-null float64\n",
      "policy_code                   39717 non-null int64\n",
      "application_type              39717 non-null object\n",
      "acc_now_delinq                39717 non-null int64\n",
      "chargeoff_within_12_mths      39661 non-null float64\n",
      "delinq_amnt                   39717 non-null int64\n",
      "pub_rec_bankruptcies          39020 non-null float64\n",
      "tax_liens                     39678 non-null float64\n",
      "dtypes: float64(18), int64(12), object(16)\n",
      "memory usage: 13.9+ MB\n"
     ]
    }
   ],
   "source": [
    "#Columns remaining\n",
    "loan_df.info()"
   ]
  },
  {
   "cell_type": "code",
   "execution_count": 11,
   "metadata": {},
   "outputs": [
    {
     "data": {
      "text/plain": [
       "2.8703074250321023"
      ]
     },
     "execution_count": 11,
     "metadata": {},
     "output_type": "execute_result"
    }
   ],
   "source": [
    "#proportion of values where loan status is \"Current\"\n",
    "100*len(loan_df[(loan_df.loan_status=='Current')])/len(loan_df)"
   ]
  },
  {
   "cell_type": "markdown",
   "metadata": {},
   "source": [
    "Since this percentage is very low, these rows won't add much value to our analysis and hence can be removed"
   ]
  },
  {
   "cell_type": "code",
   "execution_count": 12,
   "metadata": {},
   "outputs": [],
   "source": [
    "loan_df = loan_df[~(loan_df.loan_status=='Current')]"
   ]
  },
  {
   "cell_type": "code",
   "execution_count": 13,
   "metadata": {},
   "outputs": [],
   "source": [
    "#Removing the leading spaces in the \"term\" column and extracting the term value and converting to integer\n",
    "loan_df.term = loan_df.term.str.strip()\n",
    "loan_df.term = loan_df.term.apply(lambda x: int(x[0:2]))"
   ]
  },
  {
   "cell_type": "code",
   "execution_count": 14,
   "metadata": {},
   "outputs": [],
   "source": [
    "#Converting interest rate to number\n",
    "loan_df.int_rate = loan_df.int_rate.apply(lambda x:x if pd.isnull(x) else x.split('%')[0])\n",
    "loan_df.int_rate = loan_df.int_rate.astype('float')"
   ]
  },
  {
   "cell_type": "markdown",
   "metadata": {},
   "source": [
    "## Data Understanding and Analysis\n",
    "\n",
    "The strategy in this section is to analyze all the variables thus finding the variables impacting the the default tendency of an applicant.\n",
    "\n",
    "Derived metrics are created wherever required."
   ]
  },
  {
   "cell_type": "code",
   "execution_count": 15,
   "metadata": {},
   "outputs": [],
   "source": [
    "##Creating a derived metric 'loan_Default' with values 1/0 based on whether loan is default or not\n",
    "\n",
    "#Creating function\n",
    "def isLoanDefault(x):\n",
    "    if x == \"Charged Off\":\n",
    "        return 1\n",
    "    else:\n",
    "        return 0\n",
    "#Creating derived metric\n",
    "loan_df[\"loan_default\"] = loan_df.loan_status.apply(isLoanDefault)"
   ]
  },
  {
   "cell_type": "code",
   "execution_count": 16,
   "metadata": {},
   "outputs": [
    {
     "name": "stdout",
     "output_type": "stream",
     "text": [
      "0.146\n",
      "0.35\n"
     ]
    }
   ],
   "source": [
    "#Mean for loan_default\n",
    "loan_default_mean = round(loan_df.loan_default.mean(),3)\n",
    "print(loan_default_mean)\n",
    "#Standard Deviation for loan_default\n",
    "loan_default_std = round(loan_df.loan_default.std(),2)\n",
    "print(loan_default_std)"
   ]
  },
  {
   "cell_type": "code",
   "execution_count": 17,
   "metadata": {},
   "outputs": [
    {
     "name": "stdout",
     "output_type": "stream",
     "text": [
      "0.0034927341984407425\n"
     ]
    }
   ],
   "source": [
    "#Calculation of UCL and LCL based on t-statistic\n",
    "delta = (sc.stats.t.ppf(1-0.025, len(loan_df.loan_default)-1))*loan_default_std*(1/m.sqrt(len(loan_df.loan_default)))\n",
    "print(delta)"
   ]
  },
  {
   "cell_type": "code",
   "execution_count": 18,
   "metadata": {},
   "outputs": [
    {
     "name": "stdout",
     "output_type": "stream",
     "text": [
      "UCL:  0.1495\n",
      "LCL:  0.1425\n"
     ]
    }
   ],
   "source": [
    "print('UCL: ',round(loan_default_mean+delta,4))\n",
    "print('LCL: ',round(loan_default_mean-delta,4))"
   ]
  },
  {
   "cell_type": "markdown",
   "metadata": {},
   "source": [
    "The above values can be considered as control limits for looking at driver variables\n"
   ]
  },
  {
   "cell_type": "code",
   "execution_count": 19,
   "metadata": {},
   "outputs": [],
   "source": [
    "#Correlation matrix between quantitative variables to understand how each of them are correlated\n",
    "quant_col = ['revol_util','dti','loan_amnt','funded_amnt','funded_amnt_inv'\n",
    "            ,'int_rate','installment','annual_inc','total_pymnt','total_pymnt_inv','total_rec_prncp'\n",
    "            ,'total_rec_int','revol_bal','total_acc','term','total_rec_late_fee','recoveries']\n"
   ]
  },
  {
   "cell_type": "code",
   "execution_count": 20,
   "metadata": {},
   "outputs": [
    {
     "data": {
      "image/png": "[encoded data removed]",
      "text/plain": [
       "<Figure size 720x576 with 2 Axes>"
      ]
     },
     "metadata": {},
     "output_type": "display_data"
    }
   ],
   "source": [
    "plt.figure(figsize=(10, 8))\n",
    "sns.heatmap(loan_df[quant_col].corr(), cmap=\"YlGnBu\")\n",
    "plt.show()"
   ]
  },
  {
   "cell_type": "markdown",
   "metadata": {},
   "source": [
    "The following variables are highly correlated\n",
    "loan_amnt,funded_amnt,funded_amnt_inv,installment,total_pymnt,total_pymnt_inv,total_rec_prncp,total_rec_int.\n",
    "\n",
    "But most of these variables generated after the loan has been granted to loan applicant and when loan cycle has started. Hence these cannot be considered as driver variables."
   ]
  },
  {
   "cell_type": "code",
   "execution_count": 21,
   "metadata": {},
   "outputs": [],
   "source": [
    "#Removing all such variables generated post loan grant\n",
    "loan_df.drop(['out_prncp','out_prncp_inv', 'funded_amnt_inv','funded_amnt','total_rec_prncp',\n",
    "                  'total_rec_int','total_pymnt','total_pymnt_inv','total_rec_late_fee','recoveries',\n",
    "                   'last_pymnt_amnt','issue_d'\n",
    "                  ,'installment'],axis=1,inplace=True)"
   ]
  },
  {
   "cell_type": "code",
   "execution_count": 22,
   "metadata": {},
   "outputs": [
    {
     "name": "stdout",
     "output_type": "stream",
     "text": [
      "<class 'pandas.core.frame.DataFrame'>\n",
      "Int64Index: 38577 entries, 0 to 39716\n",
      "Data columns (total 34 columns):\n",
      "id                            38577 non-null int64\n",
      "loan_amnt                     38577 non-null int64\n",
      "term                          38577 non-null int64\n",
      "int_rate                      38577 non-null float64\n",
      "grade                         38577 non-null object\n",
      "sub_grade                     38577 non-null object\n",
      "emp_length                    37544 non-null object\n",
      "home_ownership                38577 non-null object\n",
      "annual_inc                    38577 non-null float64\n",
      "verification_status           38577 non-null object\n",
      "loan_status                   38577 non-null object\n",
      "pymnt_plan                    38577 non-null object\n",
      "purpose                       38577 non-null object\n",
      "zip_code                      38577 non-null object\n",
      "addr_state                    38577 non-null object\n",
      "dti                           38577 non-null float64\n",
      "delinq_2yrs                   38577 non-null int64\n",
      "inq_last_6mths                38577 non-null int64\n",
      "mths_since_last_delinq        13672 non-null float64\n",
      "open_acc                      38577 non-null int64\n",
      "pub_rec                       38577 non-null int64\n",
      "revol_bal                     38577 non-null int64\n",
      "revol_util                    38527 non-null object\n",
      "total_acc                     38577 non-null int64\n",
      "initial_list_status           38577 non-null object\n",
      "collections_12_mths_ex_med    38521 non-null float64\n",
      "policy_code                   38577 non-null int64\n",
      "application_type              38577 non-null object\n",
      "acc_now_delinq                38577 non-null int64\n",
      "chargeoff_within_12_mths      38521 non-null float64\n",
      "delinq_amnt                   38577 non-null int64\n",
      "pub_rec_bankruptcies          37880 non-null float64\n",
      "tax_liens                     38538 non-null float64\n",
      "loan_default                  38577 non-null int64\n",
      "dtypes: float64(8), int64(13), object(13)\n",
      "memory usage: 10.3+ MB\n"
     ]
    }
   ],
   "source": [
    "#Remaining variables for analysis\n",
    "loan_df.info()"
   ]
  },
  {
   "cell_type": "markdown",
   "metadata": {},
   "source": [
    "## Visualising the Data\n",
    "\n",
    "Let's now spend some time doing what is arguably the most important step - **understanding the data**.\n",
    "- If there is some obvious multicollinearity going on, this is the first place to catch it\n",
    "- Here's where you'll also identify if some predictors directly have a strong association with the outcome variable\n",
    "\n",
    "We'll visualise our data using `matplotlib` and `seaborn`."
   ]
  },
  {
   "cell_type": "markdown",
   "metadata": {},
   "source": [
    "### Segmented Univariate Analysis\n",
    "\n",
    "Finding the percentage of defaults for each variable compared to the total number of records for that variable."
   ]
  },
  {
   "cell_type": "code",
   "execution_count": 23,
   "metadata": {},
   "outputs": [],
   "source": [
    "#Defining a new function to find the grouped percentages of \"Charged off\" accounts\n",
    "def group_proportion(x):\n",
    "    gp =100*loan_df.groupby([x,'loan_status'])['id'].count()/loan_df.groupby([x])['id'].count()\n",
    "    gp = gp.reset_index()\n",
    "    gp.rename(columns={'id':'proportion(%)'},inplace=True)\n",
    "    return gp[gp.loan_status=='Charged Off'].sort_values(by='proportion(%)',ascending=False)"
   ]
  },
  {
   "cell_type": "markdown",
   "metadata": {},
   "source": [
    "#### Variable wise analysis\n",
    "\n",
    "1. Term"
   ]
  },
  {
   "cell_type": "code",
   "execution_count": 24,
   "metadata": {},
   "outputs": [
    {
     "data": {
      "text/html": [
       "<div>\n",
       "<style scoped>\n",
       "    .dataframe tbody tr th:only-of-type {\n",
       "        vertical-align: middle;\n",
       "    }\n",
       "\n",
       "    .dataframe tbody tr th {\n",
       "        vertical-align: top;\n",
       "    }\n",
       "\n",
       "    .dataframe thead th {\n",
       "        text-align: right;\n",
       "    }\n",
       "</style>\n",
       "<table border=\"1\" class=\"dataframe\">\n",
       "  <thead>\n",
       "    <tr style=\"text-align: right;\">\n",
       "      <th></th>\n",
       "      <th>term</th>\n",
       "      <th>loan_status</th>\n",
       "      <th>proportion(%)</th>\n",
       "    </tr>\n",
       "  </thead>\n",
       "  <tbody>\n",
       "    <tr>\n",
       "      <th>2</th>\n",
       "      <td>60</td>\n",
       "      <td>Charged Off</td>\n",
       "      <td>25.313785</td>\n",
       "    </tr>\n",
       "    <tr>\n",
       "      <th>0</th>\n",
       "      <td>36</td>\n",
       "      <td>Charged Off</td>\n",
       "      <td>11.090872</td>\n",
       "    </tr>\n",
       "  </tbody>\n",
       "</table>\n",
       "</div>"
      ],
      "text/plain": [
       "   term  loan_status  proportion(%)\n",
       "2    60  Charged Off      25.313785\n",
       "0    36  Charged Off      11.090872"
      ]
     },
     "execution_count": 24,
     "metadata": {},
     "output_type": "execute_result"
    }
   ],
   "source": [
    "#Percentage of default accounts based on term\n",
    "group_proportion('term')"
   ]
  },
  {
   "cell_type": "markdown",
   "metadata": {},
   "source": [
    "It can be observed that almost 25% of the \"60 term\" accounts are default while only 11% of the \"36 term\" accounts are default"
   ]
  },
  {
   "cell_type": "code",
   "execution_count": 25,
   "metadata": {},
   "outputs": [
    {
     "data": {
      "image/png": "[encoded data removed]",
      "text/plain": [
       "<Figure size 432x288 with 1 Axes>"
      ]
     },
     "metadata": {},
     "output_type": "display_data"
    }
   ],
   "source": [
    "sns.barplot(x='term',y='loan_default',data=loan_df,estimator=np.mean)\n",
    "plt.show()"
   ]
  },
  {
   "cell_type": "markdown",
   "metadata": {},
   "source": [
    "Though the tendency to default increased with increase in loan term,we cannot consider it because it is controlled by the lender."
   ]
  },
  {
   "cell_type": "markdown",
   "metadata": {},
   "source": [
    "2. Purpose\n"
   ]
  },
  {
   "cell_type": "code",
   "execution_count": 26,
   "metadata": {},
   "outputs": [
    {
     "data": {
      "image/png": "[encoded data removed]",
      "text/plain": [
       "<Figure size 864x576 with 1 Axes>"
      ]
     },
     "metadata": {},
     "output_type": "display_data"
    }
   ],
   "source": [
    "#Distribution of purpose variable \n",
    "plt.figure(figsize=(12,8))\n",
    "sns.countplot(y=loan_df.purpose)\n",
    "plt.show()"
   ]
  },
  {
   "cell_type": "code",
   "execution_count": 27,
   "metadata": {},
   "outputs": [
    {
     "data": {
      "text/html": [
       "<div>\n",
       "<style scoped>\n",
       "    .dataframe tbody tr th:only-of-type {\n",
       "        vertical-align: middle;\n",
       "    }\n",
       "\n",
       "    .dataframe tbody tr th {\n",
       "        vertical-align: top;\n",
       "    }\n",
       "\n",
       "    .dataframe thead th {\n",
       "        text-align: right;\n",
       "    }\n",
       "</style>\n",
       "<table border=\"1\" class=\"dataframe\">\n",
       "  <thead>\n",
       "    <tr style=\"text-align: right;\">\n",
       "      <th></th>\n",
       "      <th>purpose</th>\n",
       "      <th>loan_status</th>\n",
       "      <th>proportion(%)</th>\n",
       "    </tr>\n",
       "  </thead>\n",
       "  <tbody>\n",
       "    <tr>\n",
       "      <th>22</th>\n",
       "      <td>small_business</td>\n",
       "      <td>Charged Off</td>\n",
       "      <td>27.080958</td>\n",
       "    </tr>\n",
       "    <tr>\n",
       "      <th>20</th>\n",
       "      <td>renewable_energy</td>\n",
       "      <td>Charged Off</td>\n",
       "      <td>18.627451</td>\n",
       "    </tr>\n",
       "    <tr>\n",
       "      <th>6</th>\n",
       "      <td>educational</td>\n",
       "      <td>Charged Off</td>\n",
       "      <td>17.230769</td>\n",
       "    </tr>\n",
       "    <tr>\n",
       "      <th>18</th>\n",
       "      <td>other</td>\n",
       "      <td>Charged Off</td>\n",
       "      <td>16.377749</td>\n",
       "    </tr>\n",
       "    <tr>\n",
       "      <th>10</th>\n",
       "      <td>house</td>\n",
       "      <td>Charged Off</td>\n",
       "      <td>16.076294</td>\n",
       "    </tr>\n",
       "    <tr>\n",
       "      <th>16</th>\n",
       "      <td>moving</td>\n",
       "      <td>Charged Off</td>\n",
       "      <td>15.972222</td>\n",
       "    </tr>\n",
       "    <tr>\n",
       "      <th>14</th>\n",
       "      <td>medical</td>\n",
       "      <td>Charged Off</td>\n",
       "      <td>15.565345</td>\n",
       "    </tr>\n",
       "    <tr>\n",
       "      <th>4</th>\n",
       "      <td>debt_consolidation</td>\n",
       "      <td>Charged Off</td>\n",
       "      <td>15.325395</td>\n",
       "    </tr>\n",
       "    <tr>\n",
       "      <th>24</th>\n",
       "      <td>vacation</td>\n",
       "      <td>Charged Off</td>\n",
       "      <td>14.133333</td>\n",
       "    </tr>\n",
       "    <tr>\n",
       "      <th>8</th>\n",
       "      <td>home_improvement</td>\n",
       "      <td>Charged Off</td>\n",
       "      <td>12.069565</td>\n",
       "    </tr>\n",
       "    <tr>\n",
       "      <th>2</th>\n",
       "      <td>credit_card</td>\n",
       "      <td>Charged Off</td>\n",
       "      <td>10.781778</td>\n",
       "    </tr>\n",
       "    <tr>\n",
       "      <th>0</th>\n",
       "      <td>car</td>\n",
       "      <td>Charged Off</td>\n",
       "      <td>10.673783</td>\n",
       "    </tr>\n",
       "    <tr>\n",
       "      <th>26</th>\n",
       "      <td>wedding</td>\n",
       "      <td>Charged Off</td>\n",
       "      <td>10.367171</td>\n",
       "    </tr>\n",
       "    <tr>\n",
       "      <th>12</th>\n",
       "      <td>major_purchase</td>\n",
       "      <td>Charged Off</td>\n",
       "      <td>10.325581</td>\n",
       "    </tr>\n",
       "  </tbody>\n",
       "</table>\n",
       "</div>"
      ],
      "text/plain": [
       "               purpose  loan_status  proportion(%)\n",
       "22      small_business  Charged Off      27.080958\n",
       "20    renewable_energy  Charged Off      18.627451\n",
       "6          educational  Charged Off      17.230769\n",
       "18               other  Charged Off      16.377749\n",
       "10               house  Charged Off      16.076294\n",
       "16              moving  Charged Off      15.972222\n",
       "14             medical  Charged Off      15.565345\n",
       "4   debt_consolidation  Charged Off      15.325395\n",
       "24            vacation  Charged Off      14.133333\n",
       "8     home_improvement  Charged Off      12.069565\n",
       "2          credit_card  Charged Off      10.781778\n",
       "0                  car  Charged Off      10.673783\n",
       "26             wedding  Charged Off      10.367171\n",
       "12      major_purchase  Charged Off      10.325581"
      ]
     },
     "execution_count": 27,
     "metadata": {},
     "output_type": "execute_result"
    }
   ],
   "source": [
    "#Percentage of default accounts based on purpose\n",
    "group_proportion('purpose')"
   ]
  },
  {
   "cell_type": "code",
   "execution_count": 28,
   "metadata": {},
   "outputs": [
    {
     "data": {
      "image/png": "[encoded data removed]",
      "text/plain": [
       "<Figure size 864x576 with 1 Axes>"
      ]
     },
     "metadata": {},
     "output_type": "display_data"
    }
   ],
   "source": [
    "plt.figure(figsize=(12,8))\n",
    "g = group_proportion('purpose')\n",
    "sns.barplot(y='purpose',x='proportion(%)',data=g,estimator=np.mean)\n",
    "plt.axvline(x=15)\n",
    "plt.xlabel('proportion(%) of loan default')\n",
    "plt.ylabel('purpose of loan')\n",
    "plt.show()"
   ]
  },
  {
   "cell_type": "code",
   "execution_count": 29,
   "metadata": {},
   "outputs": [
    {
     "data": {
      "image/png": "[encoded data removed]",
      "text/plain": [
       "<Figure size 1080x504 with 1 Axes>"
      ]
     },
     "metadata": {},
     "output_type": "display_data"
    }
   ],
   "source": [
    "# Comparison of interest rates for each purpose\n",
    "plt.figure(figsize=(15,7))\n",
    "sns.boxplot(x=\"purpose\", y=\"int_rate\", data=loan_df)\n",
    "plt.xticks(rotation=90)\n",
    "plt.show()"
   ]
  },
  {
   "cell_type": "markdown",
   "metadata": {},
   "source": [
    "The median interest rates are simiarly distributed for each purpose except for small_businesses which is relatively higher.\n",
    "\n",
    "Thus * purpose can be defined as a driver * with about 27% default rate and other purposes with impactful default tendency are renewable energy, educational and other."
   ]
  },
  {
   "cell_type": "code",
   "execution_count": 30,
   "metadata": {},
   "outputs": [],
   "source": [
    "#Adding purpose as a driver variable\n",
    "driver_var = ['purpose']"
   ]
  },
  {
   "cell_type": "markdown",
   "metadata": {},
   "source": [
    "3. emp_length"
   ]
  },
  {
   "cell_type": "code",
   "execution_count": 31,
   "metadata": {},
   "outputs": [
    {
     "data": {
      "text/html": [
       "<div>\n",
       "<style scoped>\n",
       "    .dataframe tbody tr th:only-of-type {\n",
       "        vertical-align: middle;\n",
       "    }\n",
       "\n",
       "    .dataframe tbody tr th {\n",
       "        vertical-align: top;\n",
       "    }\n",
       "\n",
       "    .dataframe thead th {\n",
       "        text-align: right;\n",
       "    }\n",
       "</style>\n",
       "<table border=\"1\" class=\"dataframe\">\n",
       "  <thead>\n",
       "    <tr style=\"text-align: right;\">\n",
       "      <th></th>\n",
       "      <th>emp_length</th>\n",
       "      <th>loan_status</th>\n",
       "      <th>proportion(%)</th>\n",
       "    </tr>\n",
       "  </thead>\n",
       "  <tbody>\n",
       "    <tr>\n",
       "      <th>2</th>\n",
       "      <td>10+ years</td>\n",
       "      <td>Charged Off</td>\n",
       "      <td>15.680961</td>\n",
       "    </tr>\n",
       "    <tr>\n",
       "      <th>14</th>\n",
       "      <td>7 years</td>\n",
       "      <td>Charged Off</td>\n",
       "      <td>15.371128</td>\n",
       "    </tr>\n",
       "    <tr>\n",
       "      <th>0</th>\n",
       "      <td>1 year</td>\n",
       "      <td>Charged Off</td>\n",
       "      <td>14.389397</td>\n",
       "    </tr>\n",
       "    <tr>\n",
       "      <th>10</th>\n",
       "      <td>5 years</td>\n",
       "      <td>Charged Off</td>\n",
       "      <td>14.339386</td>\n",
       "    </tr>\n",
       "    <tr>\n",
       "      <th>20</th>\n",
       "      <td>&lt; 1 year</td>\n",
       "      <td>Charged Off</td>\n",
       "      <td>14.174800</td>\n",
       "    </tr>\n",
       "    <tr>\n",
       "      <th>12</th>\n",
       "      <td>6 years</td>\n",
       "      <td>Charged Off</td>\n",
       "      <td>14.160517</td>\n",
       "    </tr>\n",
       "    <tr>\n",
       "      <th>16</th>\n",
       "      <td>8 years</td>\n",
       "      <td>Charged Off</td>\n",
       "      <td>14.146341</td>\n",
       "    </tr>\n",
       "    <tr>\n",
       "      <th>6</th>\n",
       "      <td>3 years</td>\n",
       "      <td>Charged Off</td>\n",
       "      <td>13.833500</td>\n",
       "    </tr>\n",
       "    <tr>\n",
       "      <th>8</th>\n",
       "      <td>4 years</td>\n",
       "      <td>Charged Off</td>\n",
       "      <td>13.824057</td>\n",
       "    </tr>\n",
       "    <tr>\n",
       "      <th>4</th>\n",
       "      <td>2 years</td>\n",
       "      <td>Charged Off</td>\n",
       "      <td>13.213703</td>\n",
       "    </tr>\n",
       "    <tr>\n",
       "      <th>18</th>\n",
       "      <td>9 years</td>\n",
       "      <td>Charged Off</td>\n",
       "      <td>12.887439</td>\n",
       "    </tr>\n",
       "  </tbody>\n",
       "</table>\n",
       "</div>"
      ],
      "text/plain": [
       "   emp_length  loan_status  proportion(%)\n",
       "2   10+ years  Charged Off      15.680961\n",
       "14    7 years  Charged Off      15.371128\n",
       "0      1 year  Charged Off      14.389397\n",
       "10    5 years  Charged Off      14.339386\n",
       "20   < 1 year  Charged Off      14.174800\n",
       "12    6 years  Charged Off      14.160517\n",
       "16    8 years  Charged Off      14.146341\n",
       "6     3 years  Charged Off      13.833500\n",
       "8     4 years  Charged Off      13.824057\n",
       "4     2 years  Charged Off      13.213703\n",
       "18    9 years  Charged Off      12.887439"
      ]
     },
     "execution_count": 31,
     "metadata": {},
     "output_type": "execute_result"
    }
   ],
   "source": [
    "#it indicates the number of years of employment of loan applicant\n",
    "group_proportion('emp_length')"
   ]
  },
  {
   "cell_type": "code",
   "execution_count": 32,
   "metadata": {},
   "outputs": [
    {
     "data": {
      "image/png": "[encoded data removed]",
      "text/plain": [
       "<Figure size 864x432 with 1 Axes>"
      ]
     },
     "metadata": {},
     "output_type": "display_data"
    }
   ],
   "source": [
    "loan_df.emp_length[0:10]\n",
    "plt.figure(figsize=(12,6))\n",
    "sns.barplot(x='emp_length',y='loan_default',data=loan_df, estimator=np.mean)\n",
    "plt.show()"
   ]
  },
  {
   "cell_type": "markdown",
   "metadata": {},
   "source": [
    "No pattern between emp_length and default percentage"
   ]
  },
  {
   "cell_type": "markdown",
   "metadata": {},
   "source": [
    "4. addr_state"
   ]
  },
  {
   "cell_type": "code",
   "execution_count": 33,
   "metadata": {},
   "outputs": [
    {
     "data": {
      "image/png": "[encoded data removed]",
      "text/plain": [
       "<Figure size 1080x576 with 1 Axes>"
      ]
     },
     "metadata": {},
     "output_type": "display_data"
    }
   ],
   "source": [
    "#it indicates the state of the applicant\n",
    "#Percentage of default wrt to state of residence\n",
    "plt.figure(figsize=(15,8))\n",
    "sns.barplot(x='addr_state',y='loan_default',data=loan_df, estimator=np.mean)\n",
    "plt.show()\n"
   ]
  },
  {
   "cell_type": "code",
   "execution_count": 34,
   "metadata": {},
   "outputs": [
    {
     "name": "stdout",
     "output_type": "stream",
     "text": [
      "Number of NE values 5\n",
      "% of values with state NE 0.01\n"
     ]
    }
   ],
   "source": [
    "print('Number of NE values',len(loan_df[loan_df.addr_state=='NE']))\n",
    "print('% of values with state NE',round(100*len(loan_df[loan_df.addr_state=='NE'])/len(loan_df),2))"
   ]
  },
  {
   "cell_type": "markdown",
   "metadata": {},
   "source": [
    "Since NE has few records compared to other states we cannot conclude anything"
   ]
  },
  {
   "cell_type": "markdown",
   "metadata": {},
   "source": [
    "5. inq_last_6_mnths"
   ]
  },
  {
   "cell_type": "code",
   "execution_count": 35,
   "metadata": {},
   "outputs": [
    {
     "data": {
      "image/png": "[encoded data removed]",
      "text/plain": [
       "<Figure size 432x288 with 1 Axes>"
      ]
     },
     "metadata": {},
     "output_type": "display_data"
    }
   ],
   "source": [
    "#Percentage of default wrt to inq_last_6_months\n",
    "sns.countplot(loan_df.inq_last_6mths)\n",
    "plt.show()"
   ]
  },
  {
   "cell_type": "code",
   "execution_count": 36,
   "metadata": {},
   "outputs": [
    {
     "data": {
      "image/png": "[encoded data removed]",
      "text/plain": [
       "<Figure size 1080x504 with 1 Axes>"
      ]
     },
     "metadata": {},
     "output_type": "display_data"
    }
   ],
   "source": [
    "plt.figure(figsize=(15,7))\n",
    "sns.barplot(x='inq_last_6mths',y='loan_default',data=loan_df, estimator=np.mean,ci=None)\n",
    "plt.axhline(y=0.15)\n",
    "plt.xlabel('The no of credit inquiries in past 6 months')\n",
    "plt.ylabel('percentage of loan default')\n",
    "plt.show()"
   ]
  },
  {
   "cell_type": "code",
   "execution_count": 37,
   "metadata": {},
   "outputs": [
    {
     "data": {
      "text/html": [
       "<div>\n",
       "<style scoped>\n",
       "    .dataframe tbody tr th:only-of-type {\n",
       "        vertical-align: middle;\n",
       "    }\n",
       "\n",
       "    .dataframe tbody tr th {\n",
       "        vertical-align: top;\n",
       "    }\n",
       "\n",
       "    .dataframe thead th {\n",
       "        text-align: right;\n",
       "    }\n",
       "</style>\n",
       "<table border=\"1\" class=\"dataframe\">\n",
       "  <thead>\n",
       "    <tr style=\"text-align: right;\">\n",
       "      <th></th>\n",
       "      <th>inq_last_6mths</th>\n",
       "      <th>loan_status</th>\n",
       "      <th>proportion(%)</th>\n",
       "    </tr>\n",
       "  </thead>\n",
       "  <tbody>\n",
       "    <tr>\n",
       "      <th>14</th>\n",
       "      <td>7</td>\n",
       "      <td>Charged Off</td>\n",
       "      <td>29.411765</td>\n",
       "    </tr>\n",
       "    <tr>\n",
       "      <th>12</th>\n",
       "      <td>6</td>\n",
       "      <td>Charged Off</td>\n",
       "      <td>25.396825</td>\n",
       "    </tr>\n",
       "    <tr>\n",
       "      <th>16</th>\n",
       "      <td>8</td>\n",
       "      <td>Charged Off</td>\n",
       "      <td>21.428571</td>\n",
       "    </tr>\n",
       "    <tr>\n",
       "      <th>6</th>\n",
       "      <td>3</td>\n",
       "      <td>Charged Off</td>\n",
       "      <td>20.750922</td>\n",
       "    </tr>\n",
       "    <tr>\n",
       "      <th>10</th>\n",
       "      <td>5</td>\n",
       "      <td>Charged Off</td>\n",
       "      <td>19.444444</td>\n",
       "    </tr>\n",
       "    <tr>\n",
       "      <th>4</th>\n",
       "      <td>2</td>\n",
       "      <td>Charged Off</td>\n",
       "      <td>16.678458</td>\n",
       "    </tr>\n",
       "    <tr>\n",
       "      <th>8</th>\n",
       "      <td>4</td>\n",
       "      <td>Charged Off</td>\n",
       "      <td>16.139241</td>\n",
       "    </tr>\n",
       "    <tr>\n",
       "      <th>2</th>\n",
       "      <td>1</td>\n",
       "      <td>Charged Off</td>\n",
       "      <td>15.731707</td>\n",
       "    </tr>\n",
       "    <tr>\n",
       "      <th>0</th>\n",
       "      <td>0</td>\n",
       "      <td>Charged Off</td>\n",
       "      <td>12.186648</td>\n",
       "    </tr>\n",
       "  </tbody>\n",
       "</table>\n",
       "</div>"
      ],
      "text/plain": [
       "    inq_last_6mths  loan_status  proportion(%)\n",
       "14               7  Charged Off      29.411765\n",
       "12               6  Charged Off      25.396825\n",
       "16               8  Charged Off      21.428571\n",
       "6                3  Charged Off      20.750922\n",
       "10               5  Charged Off      19.444444\n",
       "4                2  Charged Off      16.678458\n",
       "8                4  Charged Off      16.139241\n",
       "2                1  Charged Off      15.731707\n",
       "0                0  Charged Off      12.186648"
      ]
     },
     "execution_count": 37,
     "metadata": {},
     "output_type": "execute_result"
    }
   ],
   "source": [
    "group_proportion('inq_last_6mths')"
   ]
  },
  {
   "cell_type": "markdown",
   "metadata": {},
   "source": [
    "As we can observe that the default tendency is increasing with increase in the number of inquiries. Hence * inq_last_6mths * is considered as driver variable."
   ]
  },
  {
   "cell_type": "code",
   "execution_count": 38,
   "metadata": {},
   "outputs": [],
   "source": [
    "# Adding to the list of driver variable\n",
    "driver_var.append('inq_last_6mths')"
   ]
  },
  {
   "cell_type": "markdown",
   "metadata": {},
   "source": [
    "6. pub_rec_bankruptcies\n",
    "7. pub_rec"
   ]
  },
  {
   "cell_type": "code",
   "execution_count": 39,
   "metadata": {},
   "outputs": [
    {
     "data": {
      "image/png": "[encoded data removed]",
      "text/plain": [
       "<Figure size 432x288 with 1 Axes>"
      ]
     },
     "metadata": {},
     "output_type": "display_data"
    }
   ],
   "source": [
    "#Percentage of default wrt to pub_rec_bankruptcies\n",
    "sns.countplot(loan_df.pub_rec_bankruptcies)\n",
    "plt.show()"
   ]
  },
  {
   "cell_type": "code",
   "execution_count": 40,
   "metadata": {},
   "outputs": [
    {
     "data": {
      "text/plain": [
       "697"
      ]
     },
     "execution_count": 40,
     "metadata": {},
     "output_type": "execute_result"
    }
   ],
   "source": [
    "#Checking the missing values\n",
    "loan_df.pub_rec_bankruptcies.isnull().sum()"
   ]
  },
  {
   "cell_type": "code",
   "execution_count": 41,
   "metadata": {},
   "outputs": [],
   "source": [
    "#Since this is low compared to the total records available, replacing missing values with '0'\n",
    "loan_df.loc[loan_df.pub_rec_bankruptcies.isnull(),'pub_rec_bankruptcies'] = 0"
   ]
  },
  {
   "cell_type": "code",
   "execution_count": 42,
   "metadata": {},
   "outputs": [],
   "source": [
    "#Defining a new categorical variable to indicate bankruptcy record\n",
    "loan_df['bankrupt']= loan_df.pub_rec_bankruptcies.apply(lambda x: 1 if x !=0 else 0)"
   ]
  },
  {
   "cell_type": "code",
   "execution_count": 43,
   "metadata": {},
   "outputs": [
    {
     "data": {
      "image/png": "[encoded data removed]",
      "text/plain": [
       "<Figure size 432x288 with 1 Axes>"
      ]
     },
     "metadata": {},
     "output_type": "display_data"
    }
   ],
   "source": [
    "#distribution of default\n",
    "sns.barplot(x='bankrupt',y='loan_default',data=loan_df, estimator=np.mean,ci=None)\n",
    "plt.axhline(y= 0.15)\n",
    "plt.xlabel('bankruptcy record')\n",
    "plt.ylabel('proportion of loan default')\n",
    "plt.show()"
   ]
  },
  {
   "cell_type": "markdown",
   "metadata": {},
   "source": [
    "Thus, *pub_rec_bankruptcy* can be considered as a negative driver variable"
   ]
  },
  {
   "cell_type": "code",
   "execution_count": 44,
   "metadata": {},
   "outputs": [],
   "source": [
    "#Adding to the list of driver variables\n",
    "driver_var.append('pub_rec_bankruptcies')"
   ]
  },
  {
   "cell_type": "markdown",
   "metadata": {},
   "source": [
    "8. delinq_2yrs"
   ]
  },
  {
   "cell_type": "code",
   "execution_count": 45,
   "metadata": {},
   "outputs": [
    {
     "data": {
      "image/png": "[encoded data removed]",
      "text/plain": [
       "<Figure size 432x288 with 1 Axes>"
      ]
     },
     "metadata": {},
     "output_type": "display_data"
    }
   ],
   "source": [
    "#indicates the number of 30+ days past-due incidences of delinquency in the borrower's credit file for the past 2 years\n",
    "#percntage of default wrt delinq_2yrs\n",
    "sns.countplot(loan_df.delinq_2yrs)\n",
    "plt.show()"
   ]
  },
  {
   "cell_type": "code",
   "execution_count": 46,
   "metadata": {},
   "outputs": [
    {
     "data": {
      "image/png": "[encoded data removed]",
      "text/plain": [
       "<Figure size 936x576 with 1 Axes>"
      ]
     },
     "metadata": {},
     "output_type": "display_data"
    }
   ],
   "source": [
    "plt.figure(figsize=(13,8))\n",
    "sns.barplot(x='delinq_2yrs',y='loan_default',data=loan_df, estimator=np.mean,ci=None)\n",
    "plt.xlabel('30+ days delinquency in past 2 years')\n",
    "plt.ylabel('proportion of loan default')\n",
    "plt.axhline(y=0.15)\n",
    "plt.show()"
   ]
  },
  {
   "cell_type": "code",
   "execution_count": 47,
   "metadata": {},
   "outputs": [
    {
     "data": {
      "text/html": [
       "<div>\n",
       "<style scoped>\n",
       "    .dataframe tbody tr th:only-of-type {\n",
       "        vertical-align: middle;\n",
       "    }\n",
       "\n",
       "    .dataframe tbody tr th {\n",
       "        vertical-align: top;\n",
       "    }\n",
       "\n",
       "    .dataframe thead th {\n",
       "        text-align: right;\n",
       "    }\n",
       "</style>\n",
       "<table border=\"1\" class=\"dataframe\">\n",
       "  <thead>\n",
       "    <tr style=\"text-align: right;\">\n",
       "      <th></th>\n",
       "      <th>delinq_2yrs</th>\n",
       "      <th>loan_status</th>\n",
       "      <th>proportion(%)</th>\n",
       "    </tr>\n",
       "  </thead>\n",
       "  <tbody>\n",
       "    <tr>\n",
       "      <th>16</th>\n",
       "      <td>8</td>\n",
       "      <td>Charged Off</td>\n",
       "      <td>50.000000</td>\n",
       "    </tr>\n",
       "    <tr>\n",
       "      <th>14</th>\n",
       "      <td>7</td>\n",
       "      <td>Charged Off</td>\n",
       "      <td>25.000000</td>\n",
       "    </tr>\n",
       "    <tr>\n",
       "      <th>8</th>\n",
       "      <td>4</td>\n",
       "      <td>Charged Off</td>\n",
       "      <td>21.666667</td>\n",
       "    </tr>\n",
       "    <tr>\n",
       "      <th>4</th>\n",
       "      <td>2</td>\n",
       "      <td>Charged Off</td>\n",
       "      <td>19.316493</td>\n",
       "    </tr>\n",
       "    <tr>\n",
       "      <th>6</th>\n",
       "      <td>3</td>\n",
       "      <td>Charged Off</td>\n",
       "      <td>16.509434</td>\n",
       "    </tr>\n",
       "    <tr>\n",
       "      <th>2</th>\n",
       "      <td>1</td>\n",
       "      <td>Charged Off</td>\n",
       "      <td>15.809167</td>\n",
       "    </tr>\n",
       "    <tr>\n",
       "      <th>0</th>\n",
       "      <td>0</td>\n",
       "      <td>Charged Off</td>\n",
       "      <td>14.354679</td>\n",
       "    </tr>\n",
       "    <tr>\n",
       "      <th>10</th>\n",
       "      <td>5</td>\n",
       "      <td>Charged Off</td>\n",
       "      <td>14.285714</td>\n",
       "    </tr>\n",
       "    <tr>\n",
       "      <th>12</th>\n",
       "      <td>6</td>\n",
       "      <td>Charged Off</td>\n",
       "      <td>10.000000</td>\n",
       "    </tr>\n",
       "  </tbody>\n",
       "</table>\n",
       "</div>"
      ],
      "text/plain": [
       "    delinq_2yrs  loan_status  proportion(%)\n",
       "16            8  Charged Off      50.000000\n",
       "14            7  Charged Off      25.000000\n",
       "8             4  Charged Off      21.666667\n",
       "4             2  Charged Off      19.316493\n",
       "6             3  Charged Off      16.509434\n",
       "2             1  Charged Off      15.809167\n",
       "0             0  Charged Off      14.354679\n",
       "10            5  Charged Off      14.285714\n",
       "12            6  Charged Off      10.000000"
      ]
     },
     "execution_count": 47,
     "metadata": {},
     "output_type": "execute_result"
    }
   ],
   "source": [
    "# The proportion of default for delinq_2yrs\n",
    "group_proportion('delinq_2yrs')"
   ]
  },
  {
   "cell_type": "markdown",
   "metadata": {},
   "source": [
    "It can be observed that with the increase in delinq_2yrs the default tendency increases and hence can be considered as driver variable"
   ]
  },
  {
   "cell_type": "code",
   "execution_count": 48,
   "metadata": {},
   "outputs": [],
   "source": [
    "#Adding to the list of driver variables\n",
    "driver_var.append('delinq_2yrs')"
   ]
  },
  {
   "cell_type": "markdown",
   "metadata": {},
   "source": [
    "9. home_ownership"
   ]
  },
  {
   "cell_type": "code",
   "execution_count": 49,
   "metadata": {},
   "outputs": [
    {
     "data": {
      "image/png": "[encoded data removed]",
      "text/plain": [
       "<Figure size 432x288 with 1 Axes>"
      ]
     },
     "metadata": {},
     "output_type": "display_data"
    }
   ],
   "source": [
    "#percentage of default wrt home_ownership\n",
    "sns.barplot(x='home_ownership',y='loan_default',data=loan_df, estimator=np.mean)\n",
    "plt.show()"
   ]
  },
  {
   "cell_type": "code",
   "execution_count": 50,
   "metadata": {},
   "outputs": [
    {
     "data": {
      "text/html": [
       "<div>\n",
       "<style scoped>\n",
       "    .dataframe tbody tr th:only-of-type {\n",
       "        vertical-align: middle;\n",
       "    }\n",
       "\n",
       "    .dataframe tbody tr th {\n",
       "        vertical-align: top;\n",
       "    }\n",
       "\n",
       "    .dataframe thead th {\n",
       "        text-align: right;\n",
       "    }\n",
       "</style>\n",
       "<table border=\"1\" class=\"dataframe\">\n",
       "  <thead>\n",
       "    <tr style=\"text-align: right;\">\n",
       "      <th></th>\n",
       "      <th>home_ownership</th>\n",
       "      <th>loan_status</th>\n",
       "      <th>proportion(%)</th>\n",
       "    </tr>\n",
       "  </thead>\n",
       "  <tbody>\n",
       "    <tr>\n",
       "      <th>3</th>\n",
       "      <td>OTHER</td>\n",
       "      <td>Charged Off</td>\n",
       "      <td>18.367347</td>\n",
       "    </tr>\n",
       "    <tr>\n",
       "      <th>7</th>\n",
       "      <td>RENT</td>\n",
       "      <td>Charged Off</td>\n",
       "      <td>15.362554</td>\n",
       "    </tr>\n",
       "    <tr>\n",
       "      <th>5</th>\n",
       "      <td>OWN</td>\n",
       "      <td>Charged Off</td>\n",
       "      <td>14.890756</td>\n",
       "    </tr>\n",
       "    <tr>\n",
       "      <th>0</th>\n",
       "      <td>MORTGAGE</td>\n",
       "      <td>Charged Off</td>\n",
       "      <td>13.671347</td>\n",
       "    </tr>\n",
       "  </tbody>\n",
       "</table>\n",
       "</div>"
      ],
      "text/plain": [
       "  home_ownership  loan_status  proportion(%)\n",
       "3          OTHER  Charged Off      18.367347\n",
       "7           RENT  Charged Off      15.362554\n",
       "5            OWN  Charged Off      14.890756\n",
       "0       MORTGAGE  Charged Off      13.671347"
      ]
     },
     "execution_count": 50,
     "metadata": {},
     "output_type": "execute_result"
    }
   ],
   "source": [
    "# proportion of default.\n",
    "group_proportion('home_ownership')"
   ]
  },
  {
   "cell_type": "markdown",
   "metadata": {},
   "source": [
    "Since the proportions do not have a wide difference, we cannot conclude anything"
   ]
  },
  {
   "cell_type": "markdown",
   "metadata": {},
   "source": [
    "9. annual_inc\n",
    "10. loan_amnt"
   ]
  },
  {
   "cell_type": "code",
   "execution_count": 51,
   "metadata": {},
   "outputs": [],
   "source": [
    "#creating a new variable loan income ratio\n",
    "loan_df['loan_inc_ratio'] = loan_df.loan_amnt/loan_df.annual_inc"
   ]
  },
  {
   "cell_type": "code",
   "execution_count": 52,
   "metadata": {},
   "outputs": [
    {
     "data": {
      "image/png": "[encoded data removed]",
      "text/plain": [
       "<Figure size 432x288 with 1 Axes>"
      ]
     },
     "metadata": {},
     "output_type": "display_data"
    }
   ],
   "source": [
    "# distribution of loan income ratio\n",
    "sns.distplot(loan_df.loan_inc_ratio)\n",
    "plt.show()"
   ]
  },
  {
   "cell_type": "code",
   "execution_count": 53,
   "metadata": {},
   "outputs": [],
   "source": [
    "#function to divide loan_income_ratio into buckets\n",
    "def loan_income_ratio_range(x):\n",
    "    if x >=0 and x <0.1:\n",
    "        return '0-0.1'\n",
    "    if x>=0.1 and x < 0.2:\n",
    "        return '0.1-0.2'\n",
    "    elif x>=0.2 and x < 0.3:\n",
    "        return '0.2-0.3'\n",
    "    elif x>=0.3 and x < 0.4:\n",
    "        return '0.3-0.4'\n",
    "    elif x>=0.4 and x < 0.5:\n",
    "        return '0.4-0.5'\n",
    "    elif x>=0.5 and x < 0.6:\n",
    "        return '0.5-0.6'\n",
    "    elif x>=0.6 and x < 0.7:\n",
    "        return '0.6-0.7'\n",
    "    elif x>=0.7 and x < 0.8:\n",
    "        return '0.7-0.8'\n",
    "    else:\n",
    "        return 'above 0.8'"
   ]
  },
  {
   "cell_type": "code",
   "execution_count": 54,
   "metadata": {},
   "outputs": [],
   "source": [
    "loan_df['total_loan_inc_ratio_range'] = loan_df.loan_inc_ratio.apply(loan_income_ratio_range)"
   ]
  },
  {
   "cell_type": "code",
   "execution_count": 55,
   "metadata": {},
   "outputs": [
    {
     "data": {
      "text/html": [
       "<div>\n",
       "<style scoped>\n",
       "    .dataframe tbody tr th:only-of-type {\n",
       "        vertical-align: middle;\n",
       "    }\n",
       "\n",
       "    .dataframe tbody tr th {\n",
       "        vertical-align: top;\n",
       "    }\n",
       "\n",
       "    .dataframe thead th {\n",
       "        text-align: right;\n",
       "    }\n",
       "</style>\n",
       "<table border=\"1\" class=\"dataframe\">\n",
       "  <thead>\n",
       "    <tr style=\"text-align: right;\">\n",
       "      <th></th>\n",
       "      <th>total_loan_inc_ratio_range</th>\n",
       "      <th>loan_status</th>\n",
       "      <th>proportion(%)</th>\n",
       "    </tr>\n",
       "  </thead>\n",
       "  <tbody>\n",
       "    <tr>\n",
       "      <th>16</th>\n",
       "      <td>above 0.8</td>\n",
       "      <td>Charged Off</td>\n",
       "      <td>50.000000</td>\n",
       "    </tr>\n",
       "    <tr>\n",
       "      <th>10</th>\n",
       "      <td>0.5-0.6</td>\n",
       "      <td>Charged Off</td>\n",
       "      <td>32.624113</td>\n",
       "    </tr>\n",
       "    <tr>\n",
       "      <th>12</th>\n",
       "      <td>0.6-0.7</td>\n",
       "      <td>Charged Off</td>\n",
       "      <td>27.710843</td>\n",
       "    </tr>\n",
       "    <tr>\n",
       "      <th>8</th>\n",
       "      <td>0.4-0.5</td>\n",
       "      <td>Charged Off</td>\n",
       "      <td>24.921924</td>\n",
       "    </tr>\n",
       "    <tr>\n",
       "      <th>14</th>\n",
       "      <td>0.7-0.8</td>\n",
       "      <td>Charged Off</td>\n",
       "      <td>23.529412</td>\n",
       "    </tr>\n",
       "    <tr>\n",
       "      <th>6</th>\n",
       "      <td>0.3-0.4</td>\n",
       "      <td>Charged Off</td>\n",
       "      <td>20.220588</td>\n",
       "    </tr>\n",
       "    <tr>\n",
       "      <th>4</th>\n",
       "      <td>0.2-0.3</td>\n",
       "      <td>Charged Off</td>\n",
       "      <td>15.903027</td>\n",
       "    </tr>\n",
       "    <tr>\n",
       "      <th>2</th>\n",
       "      <td>0.1-0.2</td>\n",
       "      <td>Charged Off</td>\n",
       "      <td>12.406804</td>\n",
       "    </tr>\n",
       "    <tr>\n",
       "      <th>0</th>\n",
       "      <td>0-0.1</td>\n",
       "      <td>Charged Off</td>\n",
       "      <td>11.292628</td>\n",
       "    </tr>\n",
       "  </tbody>\n",
       "</table>\n",
       "</div>"
      ],
      "text/plain": [
       "   total_loan_inc_ratio_range  loan_status  proportion(%)\n",
       "16                  above 0.8  Charged Off      50.000000\n",
       "10                    0.5-0.6  Charged Off      32.624113\n",
       "12                    0.6-0.7  Charged Off      27.710843\n",
       "8                     0.4-0.5  Charged Off      24.921924\n",
       "14                    0.7-0.8  Charged Off      23.529412\n",
       "6                     0.3-0.4  Charged Off      20.220588\n",
       "4                     0.2-0.3  Charged Off      15.903027\n",
       "2                     0.1-0.2  Charged Off      12.406804\n",
       "0                       0-0.1  Charged Off      11.292628"
      ]
     },
     "execution_count": 55,
     "metadata": {},
     "output_type": "execute_result"
    }
   ],
   "source": [
    "group_proportion('total_loan_inc_ratio_range')"
   ]
  },
  {
   "cell_type": "code",
   "execution_count": 56,
   "metadata": {},
   "outputs": [
    {
     "data": {
      "image/png": "[encoded data removed]",
      "text/plain": [
       "<Figure size 720x576 with 1 Axes>"
      ]
     },
     "metadata": {},
     "output_type": "display_data"
    }
   ],
   "source": [
    "plt.figure(figsize=(10,8))\n",
    "sns.barplot(y='total_loan_inc_ratio_range',x='loan_default',data=loan_df, estimator=np.mean,ci=None)\n",
    "plt.axvline(x=0.15)\n",
    "plt.ylabel('loan income ratio range')\n",
    "plt.xlabel('proportion of loan default')\n",
    "plt.show()"
   ]
  },
  {
   "cell_type": "markdown",
   "metadata": {},
   "source": [
    "There is an increase in default tendency as the loan to income ratio increases more than 40%.\n",
    "Hence loan to income ratio is a driver variable."
   ]
  },
  {
   "cell_type": "code",
   "execution_count": 57,
   "metadata": {},
   "outputs": [],
   "source": [
    "#Adding to the list\n",
    "driver_var.append('loan_inc_ratio')"
   ]
  },
  {
   "cell_type": "markdown",
   "metadata": {},
   "source": [
    "11. dti"
   ]
  },
  {
   "cell_type": "code",
   "execution_count": 58,
   "metadata": {},
   "outputs": [
    {
     "data": {
      "image/png": "[encoded data removed]",
      "text/plain": [
       "<Figure size 432x288 with 1 Axes>"
      ]
     },
     "metadata": {},
     "output_type": "display_data"
    }
   ],
   "source": [
    "# distribution of dti variables\n",
    "sns.distplot(loan_df.dti)\n",
    "plt.show()"
   ]
  },
  {
   "cell_type": "code",
   "execution_count": 59,
   "metadata": {},
   "outputs": [],
   "source": [
    "#  function to divide dti into buckets\n",
    "def DTI_Range(x):\n",
    "    if x >=0 and x <2.5:\n",
    "        return '0-2.5'\n",
    "    if x>=2.5 and x < 5:\n",
    "        return '2.5-5'\n",
    "    elif x>=5 and x < 7.5:\n",
    "        return '5-7.5'\n",
    "    elif x>=7.5 and x < 10:\n",
    "        return '7.5-10'\n",
    "    elif x>=10 and x < 12.5:\n",
    "        return '10-12.5'\n",
    "    elif x>=12.5 and x < 15:\n",
    "        return '12.5-15'\n",
    "    elif x>=15 and x < 17.5:\n",
    "        return '15-17.5'\n",
    "    elif x>=17.5 and x < 20:\n",
    "        return '17.5-20'\n",
    "    elif x>=20 and x < 22.5:\n",
    "        return '20-22.5'\n",
    "    elif x>=22.5 and x < 25:\n",
    "        return '22.5-25'\n",
    "    else:\n",
    "        return 'above 25'"
   ]
  },
  {
   "cell_type": "code",
   "execution_count": 60,
   "metadata": {},
   "outputs": [],
   "source": [
    "loan_df['dti_range'] = loan_df.dti.apply(DTI_Range)"
   ]
  },
  {
   "cell_type": "code",
   "execution_count": 61,
   "metadata": {},
   "outputs": [
    {
     "data": {
      "image/png": "[encoded data removed]",
      "text/plain": [
       "<Figure size 720x576 with 1 Axes>"
      ]
     },
     "metadata": {},
     "output_type": "display_data"
    }
   ],
   "source": [
    "plt.figure(figsize=(10, 8))\n",
    "sns.barplot(y=loan_df.dti_range.sort_values(),x=loan_df.loan_default,data=loan_df,estimator=np.mean,ci=None)\n",
    "plt.axvline(x=0.15)\n",
    "plt.xlabel('proportion of loan default')\n",
    "plt.ylabel('dti range')\n",
    "plt.show()"
   ]
  },
  {
   "cell_type": "code",
   "execution_count": 62,
   "metadata": {},
   "outputs": [
    {
     "data": {
      "text/html": [
       "<div>\n",
       "<style scoped>\n",
       "    .dataframe tbody tr th:only-of-type {\n",
       "        vertical-align: middle;\n",
       "    }\n",
       "\n",
       "    .dataframe tbody tr th {\n",
       "        vertical-align: top;\n",
       "    }\n",
       "\n",
       "    .dataframe thead th {\n",
       "        text-align: right;\n",
       "    }\n",
       "</style>\n",
       "<table border=\"1\" class=\"dataframe\">\n",
       "  <thead>\n",
       "    <tr style=\"text-align: right;\">\n",
       "      <th></th>\n",
       "      <th>dti_range</th>\n",
       "      <th>loan_status</th>\n",
       "      <th>proportion(%)</th>\n",
       "    </tr>\n",
       "  </thead>\n",
       "  <tbody>\n",
       "    <tr>\n",
       "      <th>14</th>\n",
       "      <td>22.5-25</td>\n",
       "      <td>Charged Off</td>\n",
       "      <td>17.006803</td>\n",
       "    </tr>\n",
       "    <tr>\n",
       "      <th>12</th>\n",
       "      <td>20-22.5</td>\n",
       "      <td>Charged Off</td>\n",
       "      <td>16.971850</td>\n",
       "    </tr>\n",
       "    <tr>\n",
       "      <th>8</th>\n",
       "      <td>17.5-20</td>\n",
       "      <td>Charged Off</td>\n",
       "      <td>16.544725</td>\n",
       "    </tr>\n",
       "    <tr>\n",
       "      <th>6</th>\n",
       "      <td>15-17.5</td>\n",
       "      <td>Charged Off</td>\n",
       "      <td>15.107914</td>\n",
       "    </tr>\n",
       "    <tr>\n",
       "      <th>4</th>\n",
       "      <td>12.5-15</td>\n",
       "      <td>Charged Off</td>\n",
       "      <td>15.094340</td>\n",
       "    </tr>\n",
       "    <tr>\n",
       "      <th>2</th>\n",
       "      <td>10-12.5</td>\n",
       "      <td>Charged Off</td>\n",
       "      <td>13.937958</td>\n",
       "    </tr>\n",
       "    <tr>\n",
       "      <th>20</th>\n",
       "      <td>above 25</td>\n",
       "      <td>Charged Off</td>\n",
       "      <td>13.920000</td>\n",
       "    </tr>\n",
       "    <tr>\n",
       "      <th>18</th>\n",
       "      <td>7.5-10</td>\n",
       "      <td>Charged Off</td>\n",
       "      <td>13.307105</td>\n",
       "    </tr>\n",
       "    <tr>\n",
       "      <th>0</th>\n",
       "      <td>0-2.5</td>\n",
       "      <td>Charged Off</td>\n",
       "      <td>12.641674</td>\n",
       "    </tr>\n",
       "    <tr>\n",
       "      <th>10</th>\n",
       "      <td>2.5-5</td>\n",
       "      <td>Charged Off</td>\n",
       "      <td>12.181818</td>\n",
       "    </tr>\n",
       "    <tr>\n",
       "      <th>16</th>\n",
       "      <td>5-7.5</td>\n",
       "      <td>Charged Off</td>\n",
       "      <td>12.033898</td>\n",
       "    </tr>\n",
       "  </tbody>\n",
       "</table>\n",
       "</div>"
      ],
      "text/plain": [
       "   dti_range  loan_status  proportion(%)\n",
       "14   22.5-25  Charged Off      17.006803\n",
       "12   20-22.5  Charged Off      16.971850\n",
       "8    17.5-20  Charged Off      16.544725\n",
       "6    15-17.5  Charged Off      15.107914\n",
       "4    12.5-15  Charged Off      15.094340\n",
       "2    10-12.5  Charged Off      13.937958\n",
       "20  above 25  Charged Off      13.920000\n",
       "18    7.5-10  Charged Off      13.307105\n",
       "0      0-2.5  Charged Off      12.641674\n",
       "10     2.5-5  Charged Off      12.181818\n",
       "16     5-7.5  Charged Off      12.033898"
      ]
     },
     "execution_count": 62,
     "metadata": {},
     "output_type": "execute_result"
    }
   ],
   "source": [
    "group_proportion('dti_range')"
   ]
  },
  {
   "cell_type": "markdown",
   "metadata": {},
   "source": [
    "The default tendency increases as dti ratio increases beyond 17.5%. Hence considered as a driver"
   ]
  },
  {
   "cell_type": "code",
   "execution_count": 63,
   "metadata": {},
   "outputs": [],
   "source": [
    "driver_var.append('dti')"
   ]
  },
  {
   "cell_type": "markdown",
   "metadata": {},
   "source": [
    "12. revol_util"
   ]
  },
  {
   "cell_type": "code",
   "execution_count": 64,
   "metadata": {},
   "outputs": [
    {
     "data": {
      "text/plain": [
       "0    83.70%\n",
       "1     9.40%\n",
       "2    98.50%\n",
       "3       21%\n",
       "5    28.30%\n",
       "Name: revol_util, dtype: object"
      ]
     },
     "execution_count": 64,
     "metadata": {},
     "output_type": "execute_result"
    }
   ],
   "source": [
    "loan_df.revol_util.head()"
   ]
  },
  {
   "cell_type": "code",
   "execution_count": 65,
   "metadata": {},
   "outputs": [],
   "source": [
    "# convert to value removing % sign\n",
    "loan_df.revol_util = loan_df.revol_util.apply(lambda x: x if pd.isnull(x) else float(x.split('%')[0]))"
   ]
  },
  {
   "cell_type": "code",
   "execution_count": 66,
   "metadata": {},
   "outputs": [],
   "source": [
    "# function to divide revolving utilization into buckets\n",
    "def revol_util_range(x):\n",
    "    if x >=0 and x <10:\n",
    "        return '0-10'\n",
    "    if x>=10 and x < 20:\n",
    "        return '10-20'\n",
    "    elif x>=20 and x < 30:\n",
    "        return '20-30'\n",
    "    elif x>=30 and x < 40:\n",
    "        return '30-40'\n",
    "    elif x>=40 and x < 50:\n",
    "        return '40-50'\n",
    "    elif x>=50 and x < 60:\n",
    "        return '50-60'\n",
    "    elif x>=60 and x < 70:\n",
    "        return '60-70'\n",
    "    elif x>=70 and x < 80:\n",
    "        return '70-80'\n",
    "    elif x>=80 and x < 90:\n",
    "        return '80-90'\n",
    "    elif x>=90 and x < 100:\n",
    "        return '90-100'\n",
    "    else:\n",
    "        return 'above 100'"
   ]
  },
  {
   "cell_type": "code",
   "execution_count": 67,
   "metadata": {},
   "outputs": [],
   "source": [
    "loan_df['revol_util_range'] = loan_df.revol_util.apply(revol_util_range)"
   ]
  },
  {
   "cell_type": "code",
   "execution_count": 68,
   "metadata": {},
   "outputs": [
    {
     "data": {
      "text/html": [
       "<div>\n",
       "<style scoped>\n",
       "    .dataframe tbody tr th:only-of-type {\n",
       "        vertical-align: middle;\n",
       "    }\n",
       "\n",
       "    .dataframe tbody tr th {\n",
       "        vertical-align: top;\n",
       "    }\n",
       "\n",
       "    .dataframe thead th {\n",
       "        text-align: right;\n",
       "    }\n",
       "</style>\n",
       "<table border=\"1\" class=\"dataframe\">\n",
       "  <thead>\n",
       "    <tr style=\"text-align: right;\">\n",
       "      <th></th>\n",
       "      <th>revol_util_range</th>\n",
       "      <th>loan_status</th>\n",
       "      <th>proportion(%)</th>\n",
       "    </tr>\n",
       "  </thead>\n",
       "  <tbody>\n",
       "    <tr>\n",
       "      <th>20</th>\n",
       "      <td>above 100</td>\n",
       "      <td>Charged Off</td>\n",
       "      <td>32.000000</td>\n",
       "    </tr>\n",
       "    <tr>\n",
       "      <th>18</th>\n",
       "      <td>90-100</td>\n",
       "      <td>Charged Off</td>\n",
       "      <td>21.407907</td>\n",
       "    </tr>\n",
       "    <tr>\n",
       "      <th>16</th>\n",
       "      <td>80-90</td>\n",
       "      <td>Charged Off</td>\n",
       "      <td>18.868981</td>\n",
       "    </tr>\n",
       "    <tr>\n",
       "      <th>14</th>\n",
       "      <td>70-80</td>\n",
       "      <td>Charged Off</td>\n",
       "      <td>17.815945</td>\n",
       "    </tr>\n",
       "    <tr>\n",
       "      <th>12</th>\n",
       "      <td>60-70</td>\n",
       "      <td>Charged Off</td>\n",
       "      <td>16.151788</td>\n",
       "    </tr>\n",
       "    <tr>\n",
       "      <th>10</th>\n",
       "      <td>50-60</td>\n",
       "      <td>Charged Off</td>\n",
       "      <td>15.070456</td>\n",
       "    </tr>\n",
       "    <tr>\n",
       "      <th>8</th>\n",
       "      <td>40-50</td>\n",
       "      <td>Charged Off</td>\n",
       "      <td>14.258600</td>\n",
       "    </tr>\n",
       "    <tr>\n",
       "      <th>6</th>\n",
       "      <td>30-40</td>\n",
       "      <td>Charged Off</td>\n",
       "      <td>12.425000</td>\n",
       "    </tr>\n",
       "    <tr>\n",
       "      <th>4</th>\n",
       "      <td>20-30</td>\n",
       "      <td>Charged Off</td>\n",
       "      <td>11.197847</td>\n",
       "    </tr>\n",
       "    <tr>\n",
       "      <th>2</th>\n",
       "      <td>10-20</td>\n",
       "      <td>Charged Off</td>\n",
       "      <td>10.078455</td>\n",
       "    </tr>\n",
       "    <tr>\n",
       "      <th>0</th>\n",
       "      <td>0-10</td>\n",
       "      <td>Charged Off</td>\n",
       "      <td>9.838673</td>\n",
       "    </tr>\n",
       "  </tbody>\n",
       "</table>\n",
       "</div>"
      ],
      "text/plain": [
       "   revol_util_range  loan_status  proportion(%)\n",
       "20        above 100  Charged Off      32.000000\n",
       "18           90-100  Charged Off      21.407907\n",
       "16            80-90  Charged Off      18.868981\n",
       "14            70-80  Charged Off      17.815945\n",
       "12            60-70  Charged Off      16.151788\n",
       "10            50-60  Charged Off      15.070456\n",
       "8             40-50  Charged Off      14.258600\n",
       "6             30-40  Charged Off      12.425000\n",
       "4             20-30  Charged Off      11.197847\n",
       "2             10-20  Charged Off      10.078455\n",
       "0              0-10  Charged Off       9.838673"
      ]
     },
     "execution_count": 68,
     "metadata": {},
     "output_type": "execute_result"
    }
   ],
   "source": [
    "group_proportion('revol_util_range')"
   ]
  },
  {
   "cell_type": "code",
   "execution_count": 69,
   "metadata": {},
   "outputs": [
    {
     "data": {
      "image/png": "[encoded data removed]",
      "text/plain": [
       "<Figure size 720x576 with 1 Axes>"
      ]
     },
     "metadata": {},
     "output_type": "display_data"
    }
   ],
   "source": [
    "plt.figure(figsize=(10, 8))\n",
    "sns.barplot(y=loan_df.revol_util_range,x=loan_df.loan_default,data=loan_df,estimator=np.mean,ci=None)\n",
    "plt.axvline(x= 0.15)\n",
    "plt.ylabel('revolving utilization range')\n",
    "plt.xlabel('proportion of loan default')\n",
    "plt.show()"
   ]
  },
  {
   "cell_type": "markdown",
   "metadata": {},
   "source": [
    "Default Tendency increases as revolving line utilization rate increased beyond 60% and hence considered as a driver variable"
   ]
  },
  {
   "cell_type": "code",
   "execution_count": 70,
   "metadata": {},
   "outputs": [],
   "source": [
    "#Adding as a driver variable\n",
    "driver_var.append('revol_util')"
   ]
  },
  {
   "cell_type": "markdown",
   "metadata": {},
   "source": [
    "### Conclusion\n",
    "\n",
    "Checking the correlations between the identified driver variables and int_Rate and term"
   ]
  },
  {
   "cell_type": "code",
   "execution_count": 71,
   "metadata": {},
   "outputs": [
    {
     "data": {
      "text/html": [
       "<div>\n",
       "<style scoped>\n",
       "    .dataframe tbody tr th:only-of-type {\n",
       "        vertical-align: middle;\n",
       "    }\n",
       "\n",
       "    .dataframe tbody tr th {\n",
       "        vertical-align: top;\n",
       "    }\n",
       "\n",
       "    .dataframe thead th {\n",
       "        text-align: right;\n",
       "    }\n",
       "</style>\n",
       "<table border=\"1\" class=\"dataframe\">\n",
       "  <thead>\n",
       "    <tr style=\"text-align: right;\">\n",
       "      <th></th>\n",
       "      <th>loan_inc_ratio</th>\n",
       "      <th>revol_util</th>\n",
       "      <th>dti</th>\n",
       "      <th>loan_amnt</th>\n",
       "      <th>int_rate</th>\n",
       "      <th>annual_inc</th>\n",
       "      <th>revol_bal</th>\n",
       "      <th>term</th>\n",
       "    </tr>\n",
       "  </thead>\n",
       "  <tbody>\n",
       "    <tr>\n",
       "      <th>0</th>\n",
       "      <td>0.208333</td>\n",
       "      <td>83.7</td>\n",
       "      <td>27.65</td>\n",
       "      <td>5000</td>\n",
       "      <td>10.65</td>\n",
       "      <td>24000.0</td>\n",
       "      <td>13648</td>\n",
       "      <td>36</td>\n",
       "    </tr>\n",
       "    <tr>\n",
       "      <th>1</th>\n",
       "      <td>0.083333</td>\n",
       "      <td>9.4</td>\n",
       "      <td>1.00</td>\n",
       "      <td>2500</td>\n",
       "      <td>15.27</td>\n",
       "      <td>30000.0</td>\n",
       "      <td>1687</td>\n",
       "      <td>60</td>\n",
       "    </tr>\n",
       "    <tr>\n",
       "      <th>2</th>\n",
       "      <td>0.195886</td>\n",
       "      <td>98.5</td>\n",
       "      <td>8.72</td>\n",
       "      <td>2400</td>\n",
       "      <td>15.96</td>\n",
       "      <td>12252.0</td>\n",
       "      <td>2956</td>\n",
       "      <td>36</td>\n",
       "    </tr>\n",
       "    <tr>\n",
       "      <th>3</th>\n",
       "      <td>0.203252</td>\n",
       "      <td>21.0</td>\n",
       "      <td>20.00</td>\n",
       "      <td>10000</td>\n",
       "      <td>13.49</td>\n",
       "      <td>49200.0</td>\n",
       "      <td>5598</td>\n",
       "      <td>36</td>\n",
       "    </tr>\n",
       "    <tr>\n",
       "      <th>5</th>\n",
       "      <td>0.138889</td>\n",
       "      <td>28.3</td>\n",
       "      <td>11.20</td>\n",
       "      <td>5000</td>\n",
       "      <td>7.90</td>\n",
       "      <td>36000.0</td>\n",
       "      <td>7963</td>\n",
       "      <td>36</td>\n",
       "    </tr>\n",
       "  </tbody>\n",
       "</table>\n",
       "</div>"
      ],
      "text/plain": [
       "   loan_inc_ratio  revol_util    dti  loan_amnt  int_rate  annual_inc  \\\n",
       "0        0.208333        83.7  27.65       5000     10.65     24000.0   \n",
       "1        0.083333         9.4   1.00       2500     15.27     30000.0   \n",
       "2        0.195886        98.5   8.72       2400     15.96     12252.0   \n",
       "3        0.203252        21.0  20.00      10000     13.49     49200.0   \n",
       "5        0.138889        28.3  11.20       5000      7.90     36000.0   \n",
       "\n",
       "   revol_bal  term  \n",
       "0      13648    36  \n",
       "1       1687    60  \n",
       "2       2956    36  \n",
       "3       5598    36  \n",
       "5       7963    36  "
      ]
     },
     "execution_count": 71,
     "metadata": {},
     "output_type": "execute_result"
    }
   ],
   "source": [
    "loan_df[['loan_inc_ratio','revol_util','dti','loan_amnt'\n",
    "            ,'int_rate','annual_inc','revol_bal','term']].head()"
   ]
  },
  {
   "cell_type": "code",
   "execution_count": 72,
   "metadata": {},
   "outputs": [
    {
     "data": {
      "image/png": "[encoded data removed]",
      "text/plain": [
       "<Figure size 720x432 with 2 Axes>"
      ]
     },
     "metadata": {},
     "output_type": "display_data"
    }
   ],
   "source": [
    "plt.figure(figsize=(10, 6))\n",
    "sns.heatmap(loan_df[['loan_inc_ratio','revol_util','dti','loan_amnt'\n",
    "            ,'int_rate','annual_inc','revol_bal','term']].corr(), cmap=\"YlGnBu\")\n",
    "plt.show()"
   ]
  },
  {
   "cell_type": "markdown",
   "metadata": {},
   "source": [
    "From the above heat map, it can be observed that no two variables having strong correlation were considered as driver variables."
   ]
  },
  {
   "cell_type": "code",
   "execution_count": 73,
   "metadata": {},
   "outputs": [
    {
     "name": "stdout",
     "output_type": "stream",
     "text": [
      "['purpose', 'inq_last_6mths', 'pub_rec_bankruptcies', 'delinq_2yrs', 'loan_inc_ratio', 'dti', 'revol_util']\n"
     ]
    }
   ],
   "source": [
    "# list of driver variables influencing the default tendency\n",
    "print(driver_var)"
   ]
  },
  {
   "cell_type": "markdown",
   "metadata": {},
   "source": [
    "## Summary\n",
    "\n",
    "The following are the driver variables influencing the default tendency and recommendations:\n",
    "\n",
    "1. **purpose**: purpose of loan: Purposes like small business, renewable energy, education and others have higher default tendency owing to the risk of these ventures.\n",
    "\n",
    "2. **inq_last_6mths**: The number of inquiries in past 6 months: With increase in the number of inquires in the past 6 months, default tendency increases. \n",
    "\n",
    "3. **pub_rec_bankruptcies**: Number of derogatory public records: If the applicant has a record of derogatory public records the tendency for default increases.\n",
    "\n",
    "4. **delinq_2yrs**: number of 30+ days delinquencies for applicant in past 2 years: There is a increase in default tendency if higher number of delinquencies are reported. \n",
    "\n",
    "5. **loan_inc_ratio**: loan to income ratio: The tendency to default increases if loan to income ratio goes beyond 40%. \n",
    "\n",
    "6. **revol_util**:Revolving line utilization rate, or the amount of credit the borrower is using relative to all available revolving credit: There is an increasing tendency to default as tbe revol_util increase beyond 60%.\n",
    "\n",
    "7. **dti**: Debt to Income Ratio: The increase in dti is increasing the tendency to default.\n",
    "\n",
    "The potential loss in these cases can be minimized either by increasing the interest rate, lowering the funding amount or increasing the term if the interest rate is already high.\n"
   ]
  },
  {
   "cell_type": "markdown",
   "metadata": {},
   "source": [
    "# Building Logistic Regression Model:"
   ]
  },
  {
   "cell_type": "markdown",
   "metadata": {},
   "source": [
    "Let's build a logistic regrssion model for the parameters obtained from the above analysis"
   ]
  },
  {
   "cell_type": "code",
   "execution_count": 74,
   "metadata": {},
   "outputs": [
    {
     "data": {
      "text/plain": [
       "Index(['id', 'loan_amnt', 'term', 'int_rate', 'grade', 'sub_grade',\n",
       "       'emp_length', 'home_ownership', 'annual_inc', 'verification_status',\n",
       "       'loan_status', 'pymnt_plan', 'purpose', 'zip_code', 'addr_state', 'dti',\n",
       "       'delinq_2yrs', 'inq_last_6mths', 'mths_since_last_delinq', 'open_acc',\n",
       "       'pub_rec', 'revol_bal', 'revol_util', 'total_acc',\n",
       "       'initial_list_status', 'collections_12_mths_ex_med', 'policy_code',\n",
       "       'application_type', 'acc_now_delinq', 'chargeoff_within_12_mths',\n",
       "       'delinq_amnt', 'pub_rec_bankruptcies', 'tax_liens', 'loan_default',\n",
       "       'bankrupt', 'loan_inc_ratio', 'total_loan_inc_ratio_range', 'dti_range',\n",
       "       'revol_util_range'],\n",
       "      dtype='object')"
      ]
     },
     "execution_count": 74,
     "metadata": {},
     "output_type": "execute_result"
    }
   ],
   "source": [
    "loan_df.columns"
   ]
  },
  {
   "cell_type": "code",
   "execution_count": 75,
   "metadata": {},
   "outputs": [
    {
     "data": {
      "text/plain": [
       "['purpose',\n",
       " 'inq_last_6mths',\n",
       " 'pub_rec_bankruptcies',\n",
       " 'delinq_2yrs',\n",
       " 'loan_inc_ratio',\n",
       " 'dti',\n",
       " 'revol_util']"
      ]
     },
     "execution_count": 75,
     "metadata": {},
     "output_type": "execute_result"
    }
   ],
   "source": [
    "driver_var"
   ]
  },
  {
   "cell_type": "code",
   "execution_count": 76,
   "metadata": {},
   "outputs": [],
   "source": [
    "dfm = loan_df[['loan_default','purpose','inq_last_6mths','pub_rec_bankruptcies','delinq_2yrs','loan_inc_ratio','revol_util','dti']]"
   ]
  },
  {
   "cell_type": "code",
   "execution_count": 77,
   "metadata": {},
   "outputs": [
    {
     "data": {
      "text/plain": [
       "array(['credit_card', 'car', 'small_business', 'other', 'wedding',\n",
       "       'debt_consolidation', 'home_improvement', 'major_purchase',\n",
       "       'medical', 'moving', 'vacation', 'house', 'renewable_energy',\n",
       "       'educational'], dtype=object)"
      ]
     },
     "execution_count": 77,
     "metadata": {},
     "output_type": "execute_result"
    }
   ],
   "source": [
    "dfm.purpose.unique()"
   ]
  },
  {
   "cell_type": "code",
   "execution_count": 78,
   "metadata": {},
   "outputs": [
    {
     "name": "stdout",
     "output_type": "stream",
     "text": [
      "<class 'pandas.core.frame.DataFrame'>\n",
      "Int64Index: 38577 entries, 0 to 39716\n",
      "Data columns (total 8 columns):\n",
      "loan_default            38577 non-null int64\n",
      "purpose                 38577 non-null object\n",
      "inq_last_6mths          38577 non-null int64\n",
      "pub_rec_bankruptcies    38577 non-null float64\n",
      "delinq_2yrs             38577 non-null int64\n",
      "loan_inc_ratio          38577 non-null float64\n",
      "revol_util              38527 non-null float64\n",
      "dti                     38577 non-null float64\n",
      "dtypes: float64(4), int64(3), object(1)\n",
      "memory usage: 3.9+ MB\n"
     ]
    }
   ],
   "source": [
    "dfm.info()"
   ]
  },
  {
   "cell_type": "code",
   "execution_count": 79,
   "metadata": {},
   "outputs": [
    {
     "data": {
      "text/plain": [
       "loan_default             0\n",
       "purpose                  0\n",
       "inq_last_6mths           0\n",
       "pub_rec_bankruptcies     0\n",
       "delinq_2yrs              0\n",
       "loan_inc_ratio           0\n",
       "revol_util              50\n",
       "dti                      0\n",
       "dtype: int64"
      ]
     },
     "execution_count": 79,
     "metadata": {},
     "output_type": "execute_result"
    }
   ],
   "source": [
    "dfm.isnull().sum()"
   ]
  },
  {
   "cell_type": "markdown",
   "metadata": {},
   "source": [
    "* Since there are 50 missing values in revol_util, we'll try to impute the null values with average"
   ]
  },
  {
   "cell_type": "code",
   "execution_count": 80,
   "metadata": {},
   "outputs": [
    {
     "data": {
      "text/plain": [
       "48.70277675396472"
      ]
     },
     "execution_count": 80,
     "metadata": {},
     "output_type": "execute_result"
    }
   ],
   "source": [
    "dfm['revol_util'].mean()"
   ]
  },
  {
   "cell_type": "code",
   "execution_count": 81,
   "metadata": {},
   "outputs": [
    {
     "name": "stderr",
     "output_type": "stream",
     "text": [
      "C:\\Users\\ux012045\\AppData\\Local\\Continuum\\anaconda3\\lib\\site-packages\\pandas\\core\\generic.py:5430: SettingWithCopyWarning: \n",
      "A value is trying to be set on a copy of a slice from a DataFrame\n",
      "\n",
      "See the caveats in the documentation: http://pandas.pydata.org/pandas-docs/stable/indexing.html#indexing-view-versus-copy\n",
      "  self._update_inplace(new_data)\n"
     ]
    }
   ],
   "source": [
    "dfm['revol_util'].fillna((dfm['revol_util'].mean()), inplace=True)"
   ]
  },
  {
   "cell_type": "code",
   "execution_count": 82,
   "metadata": {},
   "outputs": [],
   "source": [
    "# Creating dummy variables for the variable 'purpose'\n",
    "ml = pd.get_dummies(dfm['purpose'], prefix='purpose')\n",
    "# Dropping purpose_other column\n",
    "#ml1 = ml.drop(['purpose_other'], axis=1)\n",
    "#Adding the results to the master dataframe\n",
    "dfm=pd.concat([dfm,ml], axis=1)"
   ]
  },
  {
   "cell_type": "code",
   "execution_count": 83,
   "metadata": {},
   "outputs": [
    {
     "data": {
      "text/html": [
       "<div>\n",
       "<style scoped>\n",
       "    .dataframe tbody tr th:only-of-type {\n",
       "        vertical-align: middle;\n",
       "    }\n",
       "\n",
       "    .dataframe tbody tr th {\n",
       "        vertical-align: top;\n",
       "    }\n",
       "\n",
       "    .dataframe thead th {\n",
       "        text-align: right;\n",
       "    }\n",
       "</style>\n",
       "<table border=\"1\" class=\"dataframe\">\n",
       "  <thead>\n",
       "    <tr style=\"text-align: right;\">\n",
       "      <th></th>\n",
       "      <th>loan_default</th>\n",
       "      <th>purpose</th>\n",
       "      <th>inq_last_6mths</th>\n",
       "      <th>pub_rec_bankruptcies</th>\n",
       "      <th>delinq_2yrs</th>\n",
       "      <th>loan_inc_ratio</th>\n",
       "      <th>revol_util</th>\n",
       "      <th>dti</th>\n",
       "      <th>purpose_car</th>\n",
       "      <th>purpose_credit_card</th>\n",
       "      <th>...</th>\n",
       "      <th>purpose_home_improvement</th>\n",
       "      <th>purpose_house</th>\n",
       "      <th>purpose_major_purchase</th>\n",
       "      <th>purpose_medical</th>\n",
       "      <th>purpose_moving</th>\n",
       "      <th>purpose_other</th>\n",
       "      <th>purpose_renewable_energy</th>\n",
       "      <th>purpose_small_business</th>\n",
       "      <th>purpose_vacation</th>\n",
       "      <th>purpose_wedding</th>\n",
       "    </tr>\n",
       "  </thead>\n",
       "  <tbody>\n",
       "    <tr>\n",
       "      <th>0</th>\n",
       "      <td>0</td>\n",
       "      <td>credit_card</td>\n",
       "      <td>1</td>\n",
       "      <td>0.0</td>\n",
       "      <td>0</td>\n",
       "      <td>0.208333</td>\n",
       "      <td>83.7</td>\n",
       "      <td>27.65</td>\n",
       "      <td>0</td>\n",
       "      <td>1</td>\n",
       "      <td>...</td>\n",
       "      <td>0</td>\n",
       "      <td>0</td>\n",
       "      <td>0</td>\n",
       "      <td>0</td>\n",
       "      <td>0</td>\n",
       "      <td>0</td>\n",
       "      <td>0</td>\n",
       "      <td>0</td>\n",
       "      <td>0</td>\n",
       "      <td>0</td>\n",
       "    </tr>\n",
       "    <tr>\n",
       "      <th>1</th>\n",
       "      <td>1</td>\n",
       "      <td>car</td>\n",
       "      <td>5</td>\n",
       "      <td>0.0</td>\n",
       "      <td>0</td>\n",
       "      <td>0.083333</td>\n",
       "      <td>9.4</td>\n",
       "      <td>1.00</td>\n",
       "      <td>1</td>\n",
       "      <td>0</td>\n",
       "      <td>...</td>\n",
       "      <td>0</td>\n",
       "      <td>0</td>\n",
       "      <td>0</td>\n",
       "      <td>0</td>\n",
       "      <td>0</td>\n",
       "      <td>0</td>\n",
       "      <td>0</td>\n",
       "      <td>0</td>\n",
       "      <td>0</td>\n",
       "      <td>0</td>\n",
       "    </tr>\n",
       "    <tr>\n",
       "      <th>2</th>\n",
       "      <td>0</td>\n",
       "      <td>small_business</td>\n",
       "      <td>2</td>\n",
       "      <td>0.0</td>\n",
       "      <td>0</td>\n",
       "      <td>0.195886</td>\n",
       "      <td>98.5</td>\n",
       "      <td>8.72</td>\n",
       "      <td>0</td>\n",
       "      <td>0</td>\n",
       "      <td>...</td>\n",
       "      <td>0</td>\n",
       "      <td>0</td>\n",
       "      <td>0</td>\n",
       "      <td>0</td>\n",
       "      <td>0</td>\n",
       "      <td>0</td>\n",
       "      <td>0</td>\n",
       "      <td>1</td>\n",
       "      <td>0</td>\n",
       "      <td>0</td>\n",
       "    </tr>\n",
       "    <tr>\n",
       "      <th>3</th>\n",
       "      <td>0</td>\n",
       "      <td>other</td>\n",
       "      <td>1</td>\n",
       "      <td>0.0</td>\n",
       "      <td>0</td>\n",
       "      <td>0.203252</td>\n",
       "      <td>21.0</td>\n",
       "      <td>20.00</td>\n",
       "      <td>0</td>\n",
       "      <td>0</td>\n",
       "      <td>...</td>\n",
       "      <td>0</td>\n",
       "      <td>0</td>\n",
       "      <td>0</td>\n",
       "      <td>0</td>\n",
       "      <td>0</td>\n",
       "      <td>1</td>\n",
       "      <td>0</td>\n",
       "      <td>0</td>\n",
       "      <td>0</td>\n",
       "      <td>0</td>\n",
       "    </tr>\n",
       "    <tr>\n",
       "      <th>5</th>\n",
       "      <td>0</td>\n",
       "      <td>wedding</td>\n",
       "      <td>3</td>\n",
       "      <td>0.0</td>\n",
       "      <td>0</td>\n",
       "      <td>0.138889</td>\n",
       "      <td>28.3</td>\n",
       "      <td>11.20</td>\n",
       "      <td>0</td>\n",
       "      <td>0</td>\n",
       "      <td>...</td>\n",
       "      <td>0</td>\n",
       "      <td>0</td>\n",
       "      <td>0</td>\n",
       "      <td>0</td>\n",
       "      <td>0</td>\n",
       "      <td>0</td>\n",
       "      <td>0</td>\n",
       "      <td>0</td>\n",
       "      <td>0</td>\n",
       "      <td>1</td>\n",
       "    </tr>\n",
       "  </tbody>\n",
       "</table>\n",
       "<p>5 rows × 22 columns</p>\n",
       "</div>"
      ],
      "text/plain": [
       "   loan_default         purpose  inq_last_6mths  pub_rec_bankruptcies  \\\n",
       "0             0     credit_card               1                   0.0   \n",
       "1             1             car               5                   0.0   \n",
       "2             0  small_business               2                   0.0   \n",
       "3             0           other               1                   0.0   \n",
       "5             0         wedding               3                   0.0   \n",
       "\n",
       "   delinq_2yrs  loan_inc_ratio  revol_util    dti  purpose_car  \\\n",
       "0            0        0.208333        83.7  27.65            0   \n",
       "1            0        0.083333         9.4   1.00            1   \n",
       "2            0        0.195886        98.5   8.72            0   \n",
       "3            0        0.203252        21.0  20.00            0   \n",
       "5            0        0.138889        28.3  11.20            0   \n",
       "\n",
       "   purpose_credit_card       ...         purpose_home_improvement  \\\n",
       "0                    1       ...                                0   \n",
       "1                    0       ...                                0   \n",
       "2                    0       ...                                0   \n",
       "3                    0       ...                                0   \n",
       "5                    0       ...                                0   \n",
       "\n",
       "   purpose_house  purpose_major_purchase  purpose_medical  purpose_moving  \\\n",
       "0              0                       0                0               0   \n",
       "1              0                       0                0               0   \n",
       "2              0                       0                0               0   \n",
       "3              0                       0                0               0   \n",
       "5              0                       0                0               0   \n",
       "\n",
       "   purpose_other  purpose_renewable_energy  purpose_small_business  \\\n",
       "0              0                         0                       0   \n",
       "1              0                         0                       0   \n",
       "2              0                         0                       1   \n",
       "3              1                         0                       0   \n",
       "5              0                         0                       0   \n",
       "\n",
       "   purpose_vacation  purpose_wedding  \n",
       "0                 0                0  \n",
       "1                 0                0  \n",
       "2                 0                0  \n",
       "3                 0                0  \n",
       "5                 0                1  \n",
       "\n",
       "[5 rows x 22 columns]"
      ]
     },
     "execution_count": 83,
     "metadata": {},
     "output_type": "execute_result"
    }
   ],
   "source": [
    "dfm.head()"
   ]
  },
  {
   "cell_type": "code",
   "execution_count": 84,
   "metadata": {},
   "outputs": [],
   "source": [
    "pd.set_option('display.max_columns', None)"
   ]
  },
  {
   "cell_type": "code",
   "execution_count": 85,
   "metadata": {},
   "outputs": [
    {
     "data": {
      "text/html": [
       "<div>\n",
       "<style scoped>\n",
       "    .dataframe tbody tr th:only-of-type {\n",
       "        vertical-align: middle;\n",
       "    }\n",
       "\n",
       "    .dataframe tbody tr th {\n",
       "        vertical-align: top;\n",
       "    }\n",
       "\n",
       "    .dataframe thead th {\n",
       "        text-align: right;\n",
       "    }\n",
       "</style>\n",
       "<table border=\"1\" class=\"dataframe\">\n",
       "  <thead>\n",
       "    <tr style=\"text-align: right;\">\n",
       "      <th></th>\n",
       "      <th>loan_default</th>\n",
       "      <th>purpose</th>\n",
       "      <th>inq_last_6mths</th>\n",
       "      <th>pub_rec_bankruptcies</th>\n",
       "      <th>delinq_2yrs</th>\n",
       "      <th>loan_inc_ratio</th>\n",
       "      <th>revol_util</th>\n",
       "      <th>dti</th>\n",
       "      <th>purpose_car</th>\n",
       "      <th>purpose_credit_card</th>\n",
       "      <th>purpose_debt_consolidation</th>\n",
       "      <th>purpose_educational</th>\n",
       "      <th>purpose_home_improvement</th>\n",
       "      <th>purpose_house</th>\n",
       "      <th>purpose_major_purchase</th>\n",
       "      <th>purpose_medical</th>\n",
       "      <th>purpose_moving</th>\n",
       "      <th>purpose_other</th>\n",
       "      <th>purpose_renewable_energy</th>\n",
       "      <th>purpose_small_business</th>\n",
       "      <th>purpose_vacation</th>\n",
       "      <th>purpose_wedding</th>\n",
       "    </tr>\n",
       "  </thead>\n",
       "  <tbody>\n",
       "    <tr>\n",
       "      <th>0</th>\n",
       "      <td>0</td>\n",
       "      <td>credit_card</td>\n",
       "      <td>1</td>\n",
       "      <td>0.0</td>\n",
       "      <td>0</td>\n",
       "      <td>0.208333</td>\n",
       "      <td>83.7</td>\n",
       "      <td>27.65</td>\n",
       "      <td>0</td>\n",
       "      <td>1</td>\n",
       "      <td>0</td>\n",
       "      <td>0</td>\n",
       "      <td>0</td>\n",
       "      <td>0</td>\n",
       "      <td>0</td>\n",
       "      <td>0</td>\n",
       "      <td>0</td>\n",
       "      <td>0</td>\n",
       "      <td>0</td>\n",
       "      <td>0</td>\n",
       "      <td>0</td>\n",
       "      <td>0</td>\n",
       "    </tr>\n",
       "    <tr>\n",
       "      <th>1</th>\n",
       "      <td>1</td>\n",
       "      <td>car</td>\n",
       "      <td>5</td>\n",
       "      <td>0.0</td>\n",
       "      <td>0</td>\n",
       "      <td>0.083333</td>\n",
       "      <td>9.4</td>\n",
       "      <td>1.00</td>\n",
       "      <td>1</td>\n",
       "      <td>0</td>\n",
       "      <td>0</td>\n",
       "      <td>0</td>\n",
       "      <td>0</td>\n",
       "      <td>0</td>\n",
       "      <td>0</td>\n",
       "      <td>0</td>\n",
       "      <td>0</td>\n",
       "      <td>0</td>\n",
       "      <td>0</td>\n",
       "      <td>0</td>\n",
       "      <td>0</td>\n",
       "      <td>0</td>\n",
       "    </tr>\n",
       "    <tr>\n",
       "      <th>2</th>\n",
       "      <td>0</td>\n",
       "      <td>small_business</td>\n",
       "      <td>2</td>\n",
       "      <td>0.0</td>\n",
       "      <td>0</td>\n",
       "      <td>0.195886</td>\n",
       "      <td>98.5</td>\n",
       "      <td>8.72</td>\n",
       "      <td>0</td>\n",
       "      <td>0</td>\n",
       "      <td>0</td>\n",
       "      <td>0</td>\n",
       "      <td>0</td>\n",
       "      <td>0</td>\n",
       "      <td>0</td>\n",
       "      <td>0</td>\n",
       "      <td>0</td>\n",
       "      <td>0</td>\n",
       "      <td>0</td>\n",
       "      <td>1</td>\n",
       "      <td>0</td>\n",
       "      <td>0</td>\n",
       "    </tr>\n",
       "    <tr>\n",
       "      <th>3</th>\n",
       "      <td>0</td>\n",
       "      <td>other</td>\n",
       "      <td>1</td>\n",
       "      <td>0.0</td>\n",
       "      <td>0</td>\n",
       "      <td>0.203252</td>\n",
       "      <td>21.0</td>\n",
       "      <td>20.00</td>\n",
       "      <td>0</td>\n",
       "      <td>0</td>\n",
       "      <td>0</td>\n",
       "      <td>0</td>\n",
       "      <td>0</td>\n",
       "      <td>0</td>\n",
       "      <td>0</td>\n",
       "      <td>0</td>\n",
       "      <td>0</td>\n",
       "      <td>1</td>\n",
       "      <td>0</td>\n",
       "      <td>0</td>\n",
       "      <td>0</td>\n",
       "      <td>0</td>\n",
       "    </tr>\n",
       "    <tr>\n",
       "      <th>5</th>\n",
       "      <td>0</td>\n",
       "      <td>wedding</td>\n",
       "      <td>3</td>\n",
       "      <td>0.0</td>\n",
       "      <td>0</td>\n",
       "      <td>0.138889</td>\n",
       "      <td>28.3</td>\n",
       "      <td>11.20</td>\n",
       "      <td>0</td>\n",
       "      <td>0</td>\n",
       "      <td>0</td>\n",
       "      <td>0</td>\n",
       "      <td>0</td>\n",
       "      <td>0</td>\n",
       "      <td>0</td>\n",
       "      <td>0</td>\n",
       "      <td>0</td>\n",
       "      <td>0</td>\n",
       "      <td>0</td>\n",
       "      <td>0</td>\n",
       "      <td>0</td>\n",
       "      <td>1</td>\n",
       "    </tr>\n",
       "  </tbody>\n",
       "</table>\n",
       "</div>"
      ],
      "text/plain": [
       "   loan_default         purpose  inq_last_6mths  pub_rec_bankruptcies  \\\n",
       "0             0     credit_card               1                   0.0   \n",
       "1             1             car               5                   0.0   \n",
       "2             0  small_business               2                   0.0   \n",
       "3             0           other               1                   0.0   \n",
       "5             0         wedding               3                   0.0   \n",
       "\n",
       "   delinq_2yrs  loan_inc_ratio  revol_util    dti  purpose_car  \\\n",
       "0            0        0.208333        83.7  27.65            0   \n",
       "1            0        0.083333         9.4   1.00            1   \n",
       "2            0        0.195886        98.5   8.72            0   \n",
       "3            0        0.203252        21.0  20.00            0   \n",
       "5            0        0.138889        28.3  11.20            0   \n",
       "\n",
       "   purpose_credit_card  purpose_debt_consolidation  purpose_educational  \\\n",
       "0                    1                           0                    0   \n",
       "1                    0                           0                    0   \n",
       "2                    0                           0                    0   \n",
       "3                    0                           0                    0   \n",
       "5                    0                           0                    0   \n",
       "\n",
       "   purpose_home_improvement  purpose_house  purpose_major_purchase  \\\n",
       "0                         0              0                       0   \n",
       "1                         0              0                       0   \n",
       "2                         0              0                       0   \n",
       "3                         0              0                       0   \n",
       "5                         0              0                       0   \n",
       "\n",
       "   purpose_medical  purpose_moving  purpose_other  purpose_renewable_energy  \\\n",
       "0                0               0              0                         0   \n",
       "1                0               0              0                         0   \n",
       "2                0               0              0                         0   \n",
       "3                0               0              1                         0   \n",
       "5                0               0              0                         0   \n",
       "\n",
       "   purpose_small_business  purpose_vacation  purpose_wedding  \n",
       "0                       0                 0                0  \n",
       "1                       0                 0                0  \n",
       "2                       1                 0                0  \n",
       "3                       0                 0                0  \n",
       "5                       0                 0                1  "
      ]
     },
     "execution_count": 85,
     "metadata": {},
     "output_type": "execute_result"
    }
   ],
   "source": [
    "dfm.head()"
   ]
  },
  {
   "cell_type": "code",
   "execution_count": 86,
   "metadata": {},
   "outputs": [
    {
     "data": {
      "text/html": [
       "<div>\n",
       "<style scoped>\n",
       "    .dataframe tbody tr th:only-of-type {\n",
       "        vertical-align: middle;\n",
       "    }\n",
       "\n",
       "    .dataframe tbody tr th {\n",
       "        vertical-align: top;\n",
       "    }\n",
       "\n",
       "    .dataframe thead th {\n",
       "        text-align: right;\n",
       "    }\n",
       "</style>\n",
       "<table border=\"1\" class=\"dataframe\">\n",
       "  <thead>\n",
       "    <tr style=\"text-align: right;\">\n",
       "      <th></th>\n",
       "      <th>loan_default</th>\n",
       "      <th>inq_last_6mths</th>\n",
       "      <th>pub_rec_bankruptcies</th>\n",
       "      <th>delinq_2yrs</th>\n",
       "      <th>loan_inc_ratio</th>\n",
       "      <th>revol_util</th>\n",
       "      <th>dti</th>\n",
       "      <th>purpose_car</th>\n",
       "      <th>purpose_credit_card</th>\n",
       "      <th>purpose_debt_consolidation</th>\n",
       "      <th>purpose_educational</th>\n",
       "      <th>purpose_home_improvement</th>\n",
       "      <th>purpose_house</th>\n",
       "      <th>purpose_major_purchase</th>\n",
       "      <th>purpose_medical</th>\n",
       "      <th>purpose_moving</th>\n",
       "      <th>purpose_other</th>\n",
       "      <th>purpose_renewable_energy</th>\n",
       "      <th>purpose_small_business</th>\n",
       "      <th>purpose_vacation</th>\n",
       "      <th>purpose_wedding</th>\n",
       "    </tr>\n",
       "  </thead>\n",
       "  <tbody>\n",
       "    <tr>\n",
       "      <th>count</th>\n",
       "      <td>38577.000000</td>\n",
       "      <td>38577.000000</td>\n",
       "      <td>38577.000000</td>\n",
       "      <td>38577.000000</td>\n",
       "      <td>38577.000000</td>\n",
       "      <td>38577.000000</td>\n",
       "      <td>38577.000000</td>\n",
       "      <td>38577.000000</td>\n",
       "      <td>38577.000000</td>\n",
       "      <td>38577.000000</td>\n",
       "      <td>38577.000000</td>\n",
       "      <td>38577.000000</td>\n",
       "      <td>38577.000000</td>\n",
       "      <td>38577.000000</td>\n",
       "      <td>38577.000000</td>\n",
       "      <td>38577.000000</td>\n",
       "      <td>38577.000000</td>\n",
       "      <td>38577.000000</td>\n",
       "      <td>38577.000000</td>\n",
       "      <td>38577.000000</td>\n",
       "      <td>38577.000000</td>\n",
       "    </tr>\n",
       "    <tr>\n",
       "      <th>mean</th>\n",
       "      <td>0.145864</td>\n",
       "      <td>0.871737</td>\n",
       "      <td>0.042694</td>\n",
       "      <td>0.146668</td>\n",
       "      <td>0.185833</td>\n",
       "      <td>48.702777</td>\n",
       "      <td>13.272727</td>\n",
       "      <td>0.038857</td>\n",
       "      <td>0.130311</td>\n",
       "      <td>0.468025</td>\n",
       "      <td>0.008425</td>\n",
       "      <td>0.074526</td>\n",
       "      <td>0.009513</td>\n",
       "      <td>0.055733</td>\n",
       "      <td>0.017653</td>\n",
       "      <td>0.014931</td>\n",
       "      <td>0.100189</td>\n",
       "      <td>0.002644</td>\n",
       "      <td>0.045468</td>\n",
       "      <td>0.009721</td>\n",
       "      <td>0.024004</td>\n",
       "    </tr>\n",
       "    <tr>\n",
       "      <th>std</th>\n",
       "      <td>0.352975</td>\n",
       "      <td>1.071546</td>\n",
       "      <td>0.202809</td>\n",
       "      <td>0.492271</td>\n",
       "      <td>0.115243</td>\n",
       "      <td>28.346353</td>\n",
       "      <td>6.673044</td>\n",
       "      <td>0.193257</td>\n",
       "      <td>0.336649</td>\n",
       "      <td>0.498983</td>\n",
       "      <td>0.091400</td>\n",
       "      <td>0.262629</td>\n",
       "      <td>0.097073</td>\n",
       "      <td>0.229408</td>\n",
       "      <td>0.131688</td>\n",
       "      <td>0.121279</td>\n",
       "      <td>0.300256</td>\n",
       "      <td>0.051353</td>\n",
       "      <td>0.208330</td>\n",
       "      <td>0.098115</td>\n",
       "      <td>0.153063</td>\n",
       "    </tr>\n",
       "    <tr>\n",
       "      <th>min</th>\n",
       "      <td>0.000000</td>\n",
       "      <td>0.000000</td>\n",
       "      <td>0.000000</td>\n",
       "      <td>0.000000</td>\n",
       "      <td>0.000789</td>\n",
       "      <td>0.000000</td>\n",
       "      <td>0.000000</td>\n",
       "      <td>0.000000</td>\n",
       "      <td>0.000000</td>\n",
       "      <td>0.000000</td>\n",
       "      <td>0.000000</td>\n",
       "      <td>0.000000</td>\n",
       "      <td>0.000000</td>\n",
       "      <td>0.000000</td>\n",
       "      <td>0.000000</td>\n",
       "      <td>0.000000</td>\n",
       "      <td>0.000000</td>\n",
       "      <td>0.000000</td>\n",
       "      <td>0.000000</td>\n",
       "      <td>0.000000</td>\n",
       "      <td>0.000000</td>\n",
       "    </tr>\n",
       "    <tr>\n",
       "      <th>25%</th>\n",
       "      <td>0.000000</td>\n",
       "      <td>0.000000</td>\n",
       "      <td>0.000000</td>\n",
       "      <td>0.000000</td>\n",
       "      <td>0.098039</td>\n",
       "      <td>25.200000</td>\n",
       "      <td>8.130000</td>\n",
       "      <td>0.000000</td>\n",
       "      <td>0.000000</td>\n",
       "      <td>0.000000</td>\n",
       "      <td>0.000000</td>\n",
       "      <td>0.000000</td>\n",
       "      <td>0.000000</td>\n",
       "      <td>0.000000</td>\n",
       "      <td>0.000000</td>\n",
       "      <td>0.000000</td>\n",
       "      <td>0.000000</td>\n",
       "      <td>0.000000</td>\n",
       "      <td>0.000000</td>\n",
       "      <td>0.000000</td>\n",
       "      <td>0.000000</td>\n",
       "    </tr>\n",
       "    <tr>\n",
       "      <th>50%</th>\n",
       "      <td>0.000000</td>\n",
       "      <td>1.000000</td>\n",
       "      <td>0.000000</td>\n",
       "      <td>0.000000</td>\n",
       "      <td>0.163043</td>\n",
       "      <td>49.000000</td>\n",
       "      <td>13.370000</td>\n",
       "      <td>0.000000</td>\n",
       "      <td>0.000000</td>\n",
       "      <td>0.000000</td>\n",
       "      <td>0.000000</td>\n",
       "      <td>0.000000</td>\n",
       "      <td>0.000000</td>\n",
       "      <td>0.000000</td>\n",
       "      <td>0.000000</td>\n",
       "      <td>0.000000</td>\n",
       "      <td>0.000000</td>\n",
       "      <td>0.000000</td>\n",
       "      <td>0.000000</td>\n",
       "      <td>0.000000</td>\n",
       "      <td>0.000000</td>\n",
       "    </tr>\n",
       "    <tr>\n",
       "      <th>75%</th>\n",
       "      <td>0.000000</td>\n",
       "      <td>1.000000</td>\n",
       "      <td>0.000000</td>\n",
       "      <td>0.000000</td>\n",
       "      <td>0.250000</td>\n",
       "      <td>72.200000</td>\n",
       "      <td>18.560000</td>\n",
       "      <td>0.000000</td>\n",
       "      <td>0.000000</td>\n",
       "      <td>1.000000</td>\n",
       "      <td>0.000000</td>\n",
       "      <td>0.000000</td>\n",
       "      <td>0.000000</td>\n",
       "      <td>0.000000</td>\n",
       "      <td>0.000000</td>\n",
       "      <td>0.000000</td>\n",
       "      <td>0.000000</td>\n",
       "      <td>0.000000</td>\n",
       "      <td>0.000000</td>\n",
       "      <td>0.000000</td>\n",
       "      <td>0.000000</td>\n",
       "    </tr>\n",
       "    <tr>\n",
       "      <th>90%</th>\n",
       "      <td>1.000000</td>\n",
       "      <td>2.000000</td>\n",
       "      <td>0.000000</td>\n",
       "      <td>1.000000</td>\n",
       "      <td>0.347222</td>\n",
       "      <td>87.800000</td>\n",
       "      <td>22.290000</td>\n",
       "      <td>0.000000</td>\n",
       "      <td>1.000000</td>\n",
       "      <td>1.000000</td>\n",
       "      <td>0.000000</td>\n",
       "      <td>0.000000</td>\n",
       "      <td>0.000000</td>\n",
       "      <td>0.000000</td>\n",
       "      <td>0.000000</td>\n",
       "      <td>0.000000</td>\n",
       "      <td>1.000000</td>\n",
       "      <td>0.000000</td>\n",
       "      <td>0.000000</td>\n",
       "      <td>0.000000</td>\n",
       "      <td>0.000000</td>\n",
       "    </tr>\n",
       "    <tr>\n",
       "      <th>95%</th>\n",
       "      <td>1.000000</td>\n",
       "      <td>3.000000</td>\n",
       "      <td>0.000000</td>\n",
       "      <td>1.000000</td>\n",
       "      <td>0.410636</td>\n",
       "      <td>93.500000</td>\n",
       "      <td>23.800000</td>\n",
       "      <td>0.000000</td>\n",
       "      <td>1.000000</td>\n",
       "      <td>1.000000</td>\n",
       "      <td>0.000000</td>\n",
       "      <td>1.000000</td>\n",
       "      <td>0.000000</td>\n",
       "      <td>1.000000</td>\n",
       "      <td>0.000000</td>\n",
       "      <td>0.000000</td>\n",
       "      <td>1.000000</td>\n",
       "      <td>0.000000</td>\n",
       "      <td>0.000000</td>\n",
       "      <td>0.000000</td>\n",
       "      <td>0.000000</td>\n",
       "    </tr>\n",
       "    <tr>\n",
       "      <th>99%</th>\n",
       "      <td>1.000000</td>\n",
       "      <td>4.000000</td>\n",
       "      <td>1.000000</td>\n",
       "      <td>2.000000</td>\n",
       "      <td>0.520000</td>\n",
       "      <td>98.500000</td>\n",
       "      <td>26.530000</td>\n",
       "      <td>1.000000</td>\n",
       "      <td>1.000000</td>\n",
       "      <td>1.000000</td>\n",
       "      <td>0.000000</td>\n",
       "      <td>1.000000</td>\n",
       "      <td>0.000000</td>\n",
       "      <td>1.000000</td>\n",
       "      <td>1.000000</td>\n",
       "      <td>1.000000</td>\n",
       "      <td>1.000000</td>\n",
       "      <td>0.000000</td>\n",
       "      <td>1.000000</td>\n",
       "      <td>0.000000</td>\n",
       "      <td>1.000000</td>\n",
       "    </tr>\n",
       "    <tr>\n",
       "      <th>max</th>\n",
       "      <td>1.000000</td>\n",
       "      <td>8.000000</td>\n",
       "      <td>2.000000</td>\n",
       "      <td>11.000000</td>\n",
       "      <td>0.830000</td>\n",
       "      <td>99.900000</td>\n",
       "      <td>29.990000</td>\n",
       "      <td>1.000000</td>\n",
       "      <td>1.000000</td>\n",
       "      <td>1.000000</td>\n",
       "      <td>1.000000</td>\n",
       "      <td>1.000000</td>\n",
       "      <td>1.000000</td>\n",
       "      <td>1.000000</td>\n",
       "      <td>1.000000</td>\n",
       "      <td>1.000000</td>\n",
       "      <td>1.000000</td>\n",
       "      <td>1.000000</td>\n",
       "      <td>1.000000</td>\n",
       "      <td>1.000000</td>\n",
       "      <td>1.000000</td>\n",
       "    </tr>\n",
       "  </tbody>\n",
       "</table>\n",
       "</div>"
      ],
      "text/plain": [
       "       loan_default  inq_last_6mths  pub_rec_bankruptcies   delinq_2yrs  \\\n",
       "count  38577.000000    38577.000000          38577.000000  38577.000000   \n",
       "mean       0.145864        0.871737              0.042694      0.146668   \n",
       "std        0.352975        1.071546              0.202809      0.492271   \n",
       "min        0.000000        0.000000              0.000000      0.000000   \n",
       "25%        0.000000        0.000000              0.000000      0.000000   \n",
       "50%        0.000000        1.000000              0.000000      0.000000   \n",
       "75%        0.000000        1.000000              0.000000      0.000000   \n",
       "90%        1.000000        2.000000              0.000000      1.000000   \n",
       "95%        1.000000        3.000000              0.000000      1.000000   \n",
       "99%        1.000000        4.000000              1.000000      2.000000   \n",
       "max        1.000000        8.000000              2.000000     11.000000   \n",
       "\n",
       "       loan_inc_ratio    revol_util           dti   purpose_car  \\\n",
       "count    38577.000000  38577.000000  38577.000000  38577.000000   \n",
       "mean         0.185833     48.702777     13.272727      0.038857   \n",
       "std          0.115243     28.346353      6.673044      0.193257   \n",
       "min          0.000789      0.000000      0.000000      0.000000   \n",
       "25%          0.098039     25.200000      8.130000      0.000000   \n",
       "50%          0.163043     49.000000     13.370000      0.000000   \n",
       "75%          0.250000     72.200000     18.560000      0.000000   \n",
       "90%          0.347222     87.800000     22.290000      0.000000   \n",
       "95%          0.410636     93.500000     23.800000      0.000000   \n",
       "99%          0.520000     98.500000     26.530000      1.000000   \n",
       "max          0.830000     99.900000     29.990000      1.000000   \n",
       "\n",
       "       purpose_credit_card  purpose_debt_consolidation  purpose_educational  \\\n",
       "count         38577.000000                38577.000000         38577.000000   \n",
       "mean              0.130311                    0.468025             0.008425   \n",
       "std               0.336649                    0.498983             0.091400   \n",
       "min               0.000000                    0.000000             0.000000   \n",
       "25%               0.000000                    0.000000             0.000000   \n",
       "50%               0.000000                    0.000000             0.000000   \n",
       "75%               0.000000                    1.000000             0.000000   \n",
       "90%               1.000000                    1.000000             0.000000   \n",
       "95%               1.000000                    1.000000             0.000000   \n",
       "99%               1.000000                    1.000000             0.000000   \n",
       "max               1.000000                    1.000000             1.000000   \n",
       "\n",
       "       purpose_home_improvement  purpose_house  purpose_major_purchase  \\\n",
       "count              38577.000000   38577.000000            38577.000000   \n",
       "mean                   0.074526       0.009513                0.055733   \n",
       "std                    0.262629       0.097073                0.229408   \n",
       "min                    0.000000       0.000000                0.000000   \n",
       "25%                    0.000000       0.000000                0.000000   \n",
       "50%                    0.000000       0.000000                0.000000   \n",
       "75%                    0.000000       0.000000                0.000000   \n",
       "90%                    0.000000       0.000000                0.000000   \n",
       "95%                    1.000000       0.000000                1.000000   \n",
       "99%                    1.000000       0.000000                1.000000   \n",
       "max                    1.000000       1.000000                1.000000   \n",
       "\n",
       "       purpose_medical  purpose_moving  purpose_other  \\\n",
       "count     38577.000000    38577.000000   38577.000000   \n",
       "mean          0.017653        0.014931       0.100189   \n",
       "std           0.131688        0.121279       0.300256   \n",
       "min           0.000000        0.000000       0.000000   \n",
       "25%           0.000000        0.000000       0.000000   \n",
       "50%           0.000000        0.000000       0.000000   \n",
       "75%           0.000000        0.000000       0.000000   \n",
       "90%           0.000000        0.000000       1.000000   \n",
       "95%           0.000000        0.000000       1.000000   \n",
       "99%           1.000000        1.000000       1.000000   \n",
       "max           1.000000        1.000000       1.000000   \n",
       "\n",
       "       purpose_renewable_energy  purpose_small_business  purpose_vacation  \\\n",
       "count              38577.000000            38577.000000      38577.000000   \n",
       "mean                   0.002644                0.045468          0.009721   \n",
       "std                    0.051353                0.208330          0.098115   \n",
       "min                    0.000000                0.000000          0.000000   \n",
       "25%                    0.000000                0.000000          0.000000   \n",
       "50%                    0.000000                0.000000          0.000000   \n",
       "75%                    0.000000                0.000000          0.000000   \n",
       "90%                    0.000000                0.000000          0.000000   \n",
       "95%                    0.000000                0.000000          0.000000   \n",
       "99%                    0.000000                1.000000          0.000000   \n",
       "max                    1.000000                1.000000          1.000000   \n",
       "\n",
       "       purpose_wedding  \n",
       "count     38577.000000  \n",
       "mean          0.024004  \n",
       "std           0.153063  \n",
       "min           0.000000  \n",
       "25%           0.000000  \n",
       "50%           0.000000  \n",
       "75%           0.000000  \n",
       "90%           0.000000  \n",
       "95%           0.000000  \n",
       "99%           1.000000  \n",
       "max           1.000000  "
      ]
     },
     "execution_count": 86,
     "metadata": {},
     "output_type": "execute_result"
    }
   ],
   "source": [
    "# Checking outliers at 25%, 50%, 75%, 90%, 95% and 99%\n",
    "dfm.describe(percentiles=[.25, .5, .75, .90, .95, .99])"
   ]
  },
  {
   "cell_type": "markdown",
   "metadata": {},
   "source": [
    "## Test-Train Split\n",
    "\n",
    "### Model Building\n",
    "\n",
    "Fit a regression line through the training data using `statsmodels`. Remember that in `statsmodels`, you need to explicitly fit a constant using `sm.add_constant(X)` because if we don't perform this step, `statsmodels` fits a regression line passing through the origin, by default.\n",
    "Let's start by splitting our data into a training set and a test set."
   ]
  },
  {
   "cell_type": "code",
   "execution_count": 87,
   "metadata": {},
   "outputs": [],
   "source": [
    "from sklearn.model_selection import train_test_split"
   ]
  },
  {
   "cell_type": "code",
   "execution_count": 88,
   "metadata": {},
   "outputs": [
    {
     "data": {
      "text/html": [
       "<div>\n",
       "<style scoped>\n",
       "    .dataframe tbody tr th:only-of-type {\n",
       "        vertical-align: middle;\n",
       "    }\n",
       "\n",
       "    .dataframe tbody tr th {\n",
       "        vertical-align: top;\n",
       "    }\n",
       "\n",
       "    .dataframe thead th {\n",
       "        text-align: right;\n",
       "    }\n",
       "</style>\n",
       "<table border=\"1\" class=\"dataframe\">\n",
       "  <thead>\n",
       "    <tr style=\"text-align: right;\">\n",
       "      <th></th>\n",
       "      <th>inq_last_6mths</th>\n",
       "      <th>pub_rec_bankruptcies</th>\n",
       "      <th>delinq_2yrs</th>\n",
       "      <th>loan_inc_ratio</th>\n",
       "      <th>revol_util</th>\n",
       "      <th>dti</th>\n",
       "      <th>purpose_car</th>\n",
       "      <th>purpose_credit_card</th>\n",
       "      <th>purpose_debt_consolidation</th>\n",
       "      <th>purpose_educational</th>\n",
       "      <th>purpose_home_improvement</th>\n",
       "      <th>purpose_house</th>\n",
       "      <th>purpose_major_purchase</th>\n",
       "      <th>purpose_medical</th>\n",
       "      <th>purpose_moving</th>\n",
       "      <th>purpose_renewable_energy</th>\n",
       "      <th>purpose_small_business</th>\n",
       "      <th>purpose_vacation</th>\n",
       "      <th>purpose_wedding</th>\n",
       "    </tr>\n",
       "  </thead>\n",
       "  <tbody>\n",
       "    <tr>\n",
       "      <th>0</th>\n",
       "      <td>1</td>\n",
       "      <td>0.0</td>\n",
       "      <td>0</td>\n",
       "      <td>0.208333</td>\n",
       "      <td>83.7</td>\n",
       "      <td>27.65</td>\n",
       "      <td>0</td>\n",
       "      <td>1</td>\n",
       "      <td>0</td>\n",
       "      <td>0</td>\n",
       "      <td>0</td>\n",
       "      <td>0</td>\n",
       "      <td>0</td>\n",
       "      <td>0</td>\n",
       "      <td>0</td>\n",
       "      <td>0</td>\n",
       "      <td>0</td>\n",
       "      <td>0</td>\n",
       "      <td>0</td>\n",
       "    </tr>\n",
       "    <tr>\n",
       "      <th>1</th>\n",
       "      <td>5</td>\n",
       "      <td>0.0</td>\n",
       "      <td>0</td>\n",
       "      <td>0.083333</td>\n",
       "      <td>9.4</td>\n",
       "      <td>1.00</td>\n",
       "      <td>1</td>\n",
       "      <td>0</td>\n",
       "      <td>0</td>\n",
       "      <td>0</td>\n",
       "      <td>0</td>\n",
       "      <td>0</td>\n",
       "      <td>0</td>\n",
       "      <td>0</td>\n",
       "      <td>0</td>\n",
       "      <td>0</td>\n",
       "      <td>0</td>\n",
       "      <td>0</td>\n",
       "      <td>0</td>\n",
       "    </tr>\n",
       "    <tr>\n",
       "      <th>2</th>\n",
       "      <td>2</td>\n",
       "      <td>0.0</td>\n",
       "      <td>0</td>\n",
       "      <td>0.195886</td>\n",
       "      <td>98.5</td>\n",
       "      <td>8.72</td>\n",
       "      <td>0</td>\n",
       "      <td>0</td>\n",
       "      <td>0</td>\n",
       "      <td>0</td>\n",
       "      <td>0</td>\n",
       "      <td>0</td>\n",
       "      <td>0</td>\n",
       "      <td>0</td>\n",
       "      <td>0</td>\n",
       "      <td>0</td>\n",
       "      <td>1</td>\n",
       "      <td>0</td>\n",
       "      <td>0</td>\n",
       "    </tr>\n",
       "    <tr>\n",
       "      <th>3</th>\n",
       "      <td>1</td>\n",
       "      <td>0.0</td>\n",
       "      <td>0</td>\n",
       "      <td>0.203252</td>\n",
       "      <td>21.0</td>\n",
       "      <td>20.00</td>\n",
       "      <td>0</td>\n",
       "      <td>0</td>\n",
       "      <td>0</td>\n",
       "      <td>0</td>\n",
       "      <td>0</td>\n",
       "      <td>0</td>\n",
       "      <td>0</td>\n",
       "      <td>0</td>\n",
       "      <td>0</td>\n",
       "      <td>0</td>\n",
       "      <td>0</td>\n",
       "      <td>0</td>\n",
       "      <td>0</td>\n",
       "    </tr>\n",
       "    <tr>\n",
       "      <th>5</th>\n",
       "      <td>3</td>\n",
       "      <td>0.0</td>\n",
       "      <td>0</td>\n",
       "      <td>0.138889</td>\n",
       "      <td>28.3</td>\n",
       "      <td>11.20</td>\n",
       "      <td>0</td>\n",
       "      <td>0</td>\n",
       "      <td>0</td>\n",
       "      <td>0</td>\n",
       "      <td>0</td>\n",
       "      <td>0</td>\n",
       "      <td>0</td>\n",
       "      <td>0</td>\n",
       "      <td>0</td>\n",
       "      <td>0</td>\n",
       "      <td>0</td>\n",
       "      <td>0</td>\n",
       "      <td>1</td>\n",
       "    </tr>\n",
       "  </tbody>\n",
       "</table>\n",
       "</div>"
      ],
      "text/plain": [
       "   inq_last_6mths  pub_rec_bankruptcies  delinq_2yrs  loan_inc_ratio  \\\n",
       "0               1                   0.0            0        0.208333   \n",
       "1               5                   0.0            0        0.083333   \n",
       "2               2                   0.0            0        0.195886   \n",
       "3               1                   0.0            0        0.203252   \n",
       "5               3                   0.0            0        0.138889   \n",
       "\n",
       "   revol_util    dti  purpose_car  purpose_credit_card  \\\n",
       "0        83.7  27.65            0                    1   \n",
       "1         9.4   1.00            1                    0   \n",
       "2        98.5   8.72            0                    0   \n",
       "3        21.0  20.00            0                    0   \n",
       "5        28.3  11.20            0                    0   \n",
       "\n",
       "   purpose_debt_consolidation  purpose_educational  purpose_home_improvement  \\\n",
       "0                           0                    0                         0   \n",
       "1                           0                    0                         0   \n",
       "2                           0                    0                         0   \n",
       "3                           0                    0                         0   \n",
       "5                           0                    0                         0   \n",
       "\n",
       "   purpose_house  purpose_major_purchase  purpose_medical  purpose_moving  \\\n",
       "0              0                       0                0               0   \n",
       "1              0                       0                0               0   \n",
       "2              0                       0                0               0   \n",
       "3              0                       0                0               0   \n",
       "5              0                       0                0               0   \n",
       "\n",
       "   purpose_renewable_energy  purpose_small_business  purpose_vacation  \\\n",
       "0                         0                       0                 0   \n",
       "1                         0                       0                 0   \n",
       "2                         0                       1                 0   \n",
       "3                         0                       0                 0   \n",
       "5                         0                       0                 0   \n",
       "\n",
       "   purpose_wedding  \n",
       "0                0  \n",
       "1                0  \n",
       "2                0  \n",
       "3                0  \n",
       "5                1  "
      ]
     },
     "execution_count": 88,
     "metadata": {},
     "output_type": "execute_result"
    }
   ],
   "source": [
    "# Putting feature variable to X\n",
    "X = dfm.drop(['purpose','loan_default','purpose_other'],axis=1)\n",
    "\n",
    "X.head()"
   ]
  },
  {
   "cell_type": "code",
   "execution_count": 89,
   "metadata": {},
   "outputs": [
    {
     "data": {
      "text/plain": [
       "0    0\n",
       "1    1\n",
       "2    0\n",
       "3    0\n",
       "5    0\n",
       "Name: loan_default, dtype: int64"
      ]
     },
     "execution_count": 89,
     "metadata": {},
     "output_type": "execute_result"
    }
   ],
   "source": [
    "# Putting response variable to y\n",
    "y = dfm['loan_default']\n",
    "\n",
    "y.head()"
   ]
  },
  {
   "cell_type": "code",
   "execution_count": 90,
   "metadata": {},
   "outputs": [],
   "source": [
    "# Splitting the data into train and test\n",
    "X_train, X_test, y_train, y_test = train_test_split(X, y, train_size=0.7, test_size=0.3, random_state=100)"
   ]
  },
  {
   "cell_type": "markdown",
   "metadata": {},
   "source": [
    "### Rescaling the Features \n",
    "\n",
    "As you saw in the demonstration for Simple Linear Regression, scaling doesn't impact your model. Here we can see that except for `area`, all the columns have small integer values. So it is extremely important to rescale the variables so that they have a comparable scale. If we don't have comparable scales, then some of the coefficients as obtained by fitting the regression model might be very large or very small as compared to the other coefficients. This might become very annoying at the time of model evaluation. So it is advised to use standardization or normalization so that the units of the coefficients obtained are all on the same scale. As you know, there are two common ways of rescaling:\n",
    "\n",
    "1. Min-Max scaling \n",
    "2. Standardisation (mean-0, sigma-1) \n",
    "\n",
    "This time, we will use Standardisation (mean-0, sigma-1) scaling."
   ]
  },
  {
   "cell_type": "code",
   "execution_count": 91,
   "metadata": {},
   "outputs": [],
   "source": [
    "from sklearn.preprocessing import StandardScaler"
   ]
  },
  {
   "cell_type": "code",
   "execution_count": 92,
   "metadata": {},
   "outputs": [
    {
     "name": "stderr",
     "output_type": "stream",
     "text": [
      "C:\\Users\\ux012045\\AppData\\Local\\Continuum\\anaconda3\\lib\\site-packages\\ipykernel_launcher.py:3: SettingWithCopyWarning: \n",
      "A value is trying to be set on a copy of a slice from a DataFrame.\n",
      "Try using .loc[row_indexer,col_indexer] = value instead\n",
      "\n",
      "See the caveats in the documentation: http://pandas.pydata.org/pandas-docs/stable/indexing.html#indexing-view-versus-copy\n",
      "  This is separate from the ipykernel package so we can avoid doing imports until\n",
      "C:\\Users\\ux012045\\AppData\\Local\\Continuum\\anaconda3\\lib\\site-packages\\pandas\\core\\indexing.py:543: SettingWithCopyWarning: \n",
      "A value is trying to be set on a copy of a slice from a DataFrame.\n",
      "Try using .loc[row_indexer,col_indexer] = value instead\n",
      "\n",
      "See the caveats in the documentation: http://pandas.pydata.org/pandas-docs/stable/indexing.html#indexing-view-versus-copy\n",
      "  self.obj[item] = s\n"
     ]
    },
    {
     "data": {
      "text/html": [
       "<div>\n",
       "<style scoped>\n",
       "    .dataframe tbody tr th:only-of-type {\n",
       "        vertical-align: middle;\n",
       "    }\n",
       "\n",
       "    .dataframe tbody tr th {\n",
       "        vertical-align: top;\n",
       "    }\n",
       "\n",
       "    .dataframe thead th {\n",
       "        text-align: right;\n",
       "    }\n",
       "</style>\n",
       "<table border=\"1\" class=\"dataframe\">\n",
       "  <thead>\n",
       "    <tr style=\"text-align: right;\">\n",
       "      <th></th>\n",
       "      <th>inq_last_6mths</th>\n",
       "      <th>pub_rec_bankruptcies</th>\n",
       "      <th>delinq_2yrs</th>\n",
       "      <th>loan_inc_ratio</th>\n",
       "      <th>revol_util</th>\n",
       "      <th>dti</th>\n",
       "      <th>purpose_car</th>\n",
       "      <th>purpose_credit_card</th>\n",
       "      <th>purpose_debt_consolidation</th>\n",
       "      <th>purpose_educational</th>\n",
       "      <th>purpose_home_improvement</th>\n",
       "      <th>purpose_house</th>\n",
       "      <th>purpose_major_purchase</th>\n",
       "      <th>purpose_medical</th>\n",
       "      <th>purpose_moving</th>\n",
       "      <th>purpose_renewable_energy</th>\n",
       "      <th>purpose_small_business</th>\n",
       "      <th>purpose_vacation</th>\n",
       "      <th>purpose_wedding</th>\n",
       "    </tr>\n",
       "  </thead>\n",
       "  <tbody>\n",
       "    <tr>\n",
       "      <th>15947</th>\n",
       "      <td>1.983796</td>\n",
       "      <td>0.0</td>\n",
       "      <td>3.765017</td>\n",
       "      <td>-0.465100</td>\n",
       "      <td>-0.496154</td>\n",
       "      <td>1.064873</td>\n",
       "      <td>1</td>\n",
       "      <td>0</td>\n",
       "      <td>0</td>\n",
       "      <td>0</td>\n",
       "      <td>0</td>\n",
       "      <td>0</td>\n",
       "      <td>0</td>\n",
       "      <td>0</td>\n",
       "      <td>0</td>\n",
       "      <td>0</td>\n",
       "      <td>0</td>\n",
       "      <td>0</td>\n",
       "      <td>0</td>\n",
       "    </tr>\n",
       "    <tr>\n",
       "      <th>23862</th>\n",
       "      <td>0.119184</td>\n",
       "      <td>0.0</td>\n",
       "      <td>-0.300434</td>\n",
       "      <td>2.866063</td>\n",
       "      <td>-0.940003</td>\n",
       "      <td>-1.002856</td>\n",
       "      <td>0</td>\n",
       "      <td>0</td>\n",
       "      <td>1</td>\n",
       "      <td>0</td>\n",
       "      <td>0</td>\n",
       "      <td>0</td>\n",
       "      <td>0</td>\n",
       "      <td>0</td>\n",
       "      <td>0</td>\n",
       "      <td>0</td>\n",
       "      <td>0</td>\n",
       "      <td>0</td>\n",
       "      <td>0</td>\n",
       "    </tr>\n",
       "    <tr>\n",
       "      <th>11279</th>\n",
       "      <td>-0.813122</td>\n",
       "      <td>0.0</td>\n",
       "      <td>-0.300434</td>\n",
       "      <td>0.570856</td>\n",
       "      <td>1.212310</td>\n",
       "      <td>1.081331</td>\n",
       "      <td>0</td>\n",
       "      <td>1</td>\n",
       "      <td>0</td>\n",
       "      <td>0</td>\n",
       "      <td>0</td>\n",
       "      <td>0</td>\n",
       "      <td>0</td>\n",
       "      <td>0</td>\n",
       "      <td>0</td>\n",
       "      <td>0</td>\n",
       "      <td>0</td>\n",
       "      <td>0</td>\n",
       "      <td>0</td>\n",
       "    </tr>\n",
       "    <tr>\n",
       "      <th>32896</th>\n",
       "      <td>-0.813122</td>\n",
       "      <td>0.0</td>\n",
       "      <td>-0.300434</td>\n",
       "      <td>0.265517</td>\n",
       "      <td>0.264729</td>\n",
       "      <td>0.559162</td>\n",
       "      <td>0</td>\n",
       "      <td>0</td>\n",
       "      <td>1</td>\n",
       "      <td>0</td>\n",
       "      <td>0</td>\n",
       "      <td>0</td>\n",
       "      <td>0</td>\n",
       "      <td>0</td>\n",
       "      <td>0</td>\n",
       "      <td>0</td>\n",
       "      <td>0</td>\n",
       "      <td>0</td>\n",
       "      <td>0</td>\n",
       "    </tr>\n",
       "    <tr>\n",
       "      <th>36785</th>\n",
       "      <td>0.119184</td>\n",
       "      <td>0.0</td>\n",
       "      <td>-0.300434</td>\n",
       "      <td>-0.449830</td>\n",
       "      <td>-1.056249</td>\n",
       "      <td>0.303314</td>\n",
       "      <td>1</td>\n",
       "      <td>0</td>\n",
       "      <td>0</td>\n",
       "      <td>0</td>\n",
       "      <td>0</td>\n",
       "      <td>0</td>\n",
       "      <td>0</td>\n",
       "      <td>0</td>\n",
       "      <td>0</td>\n",
       "      <td>0</td>\n",
       "      <td>0</td>\n",
       "      <td>0</td>\n",
       "      <td>0</td>\n",
       "    </tr>\n",
       "  </tbody>\n",
       "</table>\n",
       "</div>"
      ],
      "text/plain": [
       "       inq_last_6mths  pub_rec_bankruptcies  delinq_2yrs  loan_inc_ratio  \\\n",
       "15947        1.983796                   0.0     3.765017       -0.465100   \n",
       "23862        0.119184                   0.0    -0.300434        2.866063   \n",
       "11279       -0.813122                   0.0    -0.300434        0.570856   \n",
       "32896       -0.813122                   0.0    -0.300434        0.265517   \n",
       "36785        0.119184                   0.0    -0.300434       -0.449830   \n",
       "\n",
       "       revol_util       dti  purpose_car  purpose_credit_card  \\\n",
       "15947   -0.496154  1.064873            1                    0   \n",
       "23862   -0.940003 -1.002856            0                    0   \n",
       "11279    1.212310  1.081331            0                    1   \n",
       "32896    0.264729  0.559162            0                    0   \n",
       "36785   -1.056249  0.303314            1                    0   \n",
       "\n",
       "       purpose_debt_consolidation  purpose_educational  \\\n",
       "15947                           0                    0   \n",
       "23862                           1                    0   \n",
       "11279                           0                    0   \n",
       "32896                           1                    0   \n",
       "36785                           0                    0   \n",
       "\n",
       "       purpose_home_improvement  purpose_house  purpose_major_purchase  \\\n",
       "15947                         0              0                       0   \n",
       "23862                         0              0                       0   \n",
       "11279                         0              0                       0   \n",
       "32896                         0              0                       0   \n",
       "36785                         0              0                       0   \n",
       "\n",
       "       purpose_medical  purpose_moving  purpose_renewable_energy  \\\n",
       "15947                0               0                         0   \n",
       "23862                0               0                         0   \n",
       "11279                0               0                         0   \n",
       "32896                0               0                         0   \n",
       "36785                0               0                         0   \n",
       "\n",
       "       purpose_small_business  purpose_vacation  purpose_wedding  \n",
       "15947                       0                 0                0  \n",
       "23862                       0                 0                0  \n",
       "11279                       0                 0                0  \n",
       "32896                       0                 0                0  \n",
       "36785                       0                 0                0  "
      ]
     },
     "execution_count": 92,
     "metadata": {},
     "output_type": "execute_result"
    }
   ],
   "source": [
    "scaler = StandardScaler()\n",
    "\n",
    "X_train[['inq_last_6mths','loan_inc_ratio','revol_util','dti','delinq_2yrs']] = scaler.fit_transform(X_train[['inq_last_6mths','loan_inc_ratio','revol_util','dti','delinq_2yrs']])\n",
    "\n",
    "X_train.head()"
   ]
  },
  {
   "cell_type": "code",
   "execution_count": 93,
   "metadata": {},
   "outputs": [
    {
     "data": {
      "text/plain": [
       "14.586411592399617"
      ]
     },
     "execution_count": 93,
     "metadata": {},
     "output_type": "execute_result"
    }
   ],
   "source": [
    "### Checking the Churn Rate\n",
    "defaulters = (sum(dfm['loan_default'])/len(dfm['loan_default'].index))*100\n",
    "defaulters"
   ]
  },
  {
   "cell_type": "markdown",
   "metadata": {},
   "source": [
    "We have almost 14.5% defaulters rate"
   ]
  },
  {
   "cell_type": "markdown",
   "metadata": {},
   "source": [
    " ### Looking at Correlations"
   ]
  },
  {
   "cell_type": "code",
   "execution_count": 94,
   "metadata": {},
   "outputs": [],
   "source": [
    "# Importing matplotlib and seaborn\n",
    "import matplotlib.pyplot as plt\n",
    "import seaborn as sns\n",
    "%matplotlib inline"
   ]
  },
  {
   "cell_type": "code",
   "execution_count": 95,
   "metadata": {},
   "outputs": [
    {
     "data": {
      "image/png": "[encoded data removed]",
      "text/plain": [
       "<Figure size 1440x720 with 2 Axes>"
      ]
     },
     "metadata": {},
     "output_type": "display_data"
    }
   ],
   "source": [
    "# Let's see the correlation matrix \n",
    "plt.figure(figsize = (20,10))        # Size of the figure\n",
    "sns.heatmap(dfm.corr(),annot = True,cmap='YlGnBu')\n",
    "plt.show()"
   ]
  },
  {
   "cell_type": "markdown",
   "metadata": {},
   "source": [
    "* We see no element is correlated to each other that strongly which could lay a good foundation for valid prediction "
   ]
  },
  {
   "cell_type": "markdown",
   "metadata": {},
   "source": [
    "#### Running Your First Training Model"
   ]
  },
  {
   "cell_type": "code",
   "execution_count": 96,
   "metadata": {},
   "outputs": [],
   "source": [
    "import statsmodels.api as sm"
   ]
  },
  {
   "cell_type": "code",
   "execution_count": 97,
   "metadata": {},
   "outputs": [
    {
     "data": {
      "text/html": [
       "<table class=\"simpletable\">\n",
       "<caption>Generalized Linear Model Regression Results</caption>\n",
       "<tr>\n",
       "  <th>Dep. Variable:</th>    <td>loan_default</td>   <th>  No. Observations:  </th>  <td> 27003</td>  \n",
       "</tr>\n",
       "<tr>\n",
       "  <th>Model:</th>                 <td>GLM</td>       <th>  Df Residuals:      </th>  <td> 26983</td>  \n",
       "</tr>\n",
       "<tr>\n",
       "  <th>Model Family:</th>       <td>Binomial</td>     <th>  Df Model:          </th>  <td>    19</td>  \n",
       "</tr>\n",
       "<tr>\n",
       "  <th>Link Function:</th>        <td>logit</td>      <th>  Scale:             </th> <td>  1.0000</td> \n",
       "</tr>\n",
       "<tr>\n",
       "  <th>Method:</th>               <td>IRLS</td>       <th>  Log-Likelihood:    </th> <td> -10629.</td> \n",
       "</tr>\n",
       "<tr>\n",
       "  <th>Date:</th>           <td>Mon, 25 Mar 2019</td> <th>  Deviance:          </th> <td>  21258.</td> \n",
       "</tr>\n",
       "<tr>\n",
       "  <th>Time:</th>               <td>20:02:02</td>     <th>  Pearson chi2:      </th> <td>2.68e+04</td> \n",
       "</tr>\n",
       "<tr>\n",
       "  <th>No. Iterations:</th>         <td>5</td>        <th>  Covariance Type:   </th> <td>nonrobust</td>\n",
       "</tr>\n",
       "</table>\n",
       "<table class=\"simpletable\">\n",
       "<tr>\n",
       "               <td></td>                 <th>coef</th>     <th>std err</th>      <th>z</th>      <th>P>|z|</th>  <th>[0.025</th>    <th>0.975]</th>  \n",
       "</tr>\n",
       "<tr>\n",
       "  <th>const</th>                      <td>   -1.5718</td> <td>    0.053</td> <td>  -29.849</td> <td> 0.000</td> <td>   -1.675</td> <td>   -1.469</td>\n",
       "</tr>\n",
       "<tr>\n",
       "  <th>inq_last_6mths</th>             <td>    0.2213</td> <td>    0.017</td> <td>   13.342</td> <td> 0.000</td> <td>    0.189</td> <td>    0.254</td>\n",
       "</tr>\n",
       "<tr>\n",
       "  <th>pub_rec_bankruptcies</th>       <td>    0.5210</td> <td>    0.074</td> <td>    7.016</td> <td> 0.000</td> <td>    0.375</td> <td>    0.667</td>\n",
       "</tr>\n",
       "<tr>\n",
       "  <th>delinq_2yrs</th>                <td>    0.0670</td> <td>    0.016</td> <td>    4.082</td> <td> 0.000</td> <td>    0.035</td> <td>    0.099</td>\n",
       "</tr>\n",
       "<tr>\n",
       "  <th>loan_inc_ratio</th>             <td>    0.3396</td> <td>    0.017</td> <td>   20.086</td> <td> 0.000</td> <td>    0.306</td> <td>    0.373</td>\n",
       "</tr>\n",
       "<tr>\n",
       "  <th>revol_util</th>                 <td>    0.3204</td> <td>    0.019</td> <td>   16.652</td> <td> 0.000</td> <td>    0.283</td> <td>    0.358</td>\n",
       "</tr>\n",
       "<tr>\n",
       "  <th>dti</th>                        <td>    0.0261</td> <td>    0.019</td> <td>    1.375</td> <td> 0.169</td> <td>   -0.011</td> <td>    0.063</td>\n",
       "</tr>\n",
       "<tr>\n",
       "  <th>purpose_car</th>                <td>   -0.4469</td> <td>    0.117</td> <td>   -3.814</td> <td> 0.000</td> <td>   -0.677</td> <td>   -0.217</td>\n",
       "</tr>\n",
       "<tr>\n",
       "  <th>purpose_credit_card</th>        <td>   -0.7381</td> <td>    0.077</td> <td>   -9.545</td> <td> 0.000</td> <td>   -0.890</td> <td>   -0.587</td>\n",
       "</tr>\n",
       "<tr>\n",
       "  <th>purpose_debt_consolidation</th> <td>   -0.3785</td> <td>    0.059</td> <td>   -6.366</td> <td> 0.000</td> <td>   -0.495</td> <td>   -0.262</td>\n",
       "</tr>\n",
       "<tr>\n",
       "  <th>purpose_educational</th>        <td>   -0.0962</td> <td>    0.195</td> <td>   -0.493</td> <td> 0.622</td> <td>   -0.478</td> <td>    0.286</td>\n",
       "</tr>\n",
       "<tr>\n",
       "  <th>purpose_home_improvement</th>   <td>   -0.3486</td> <td>    0.087</td> <td>   -4.025</td> <td> 0.000</td> <td>   -0.518</td> <td>   -0.179</td>\n",
       "</tr>\n",
       "<tr>\n",
       "  <th>purpose_house</th>              <td>   -0.2032</td> <td>    0.181</td> <td>   -1.123</td> <td> 0.261</td> <td>   -0.558</td> <td>    0.151</td>\n",
       "</tr>\n",
       "<tr>\n",
       "  <th>purpose_major_purchase</th>     <td>   -0.4739</td> <td>    0.100</td> <td>   -4.721</td> <td> 0.000</td> <td>   -0.671</td> <td>   -0.277</td>\n",
       "</tr>\n",
       "<tr>\n",
       "  <th>purpose_medical</th>            <td>   -0.0694</td> <td>    0.138</td> <td>   -0.503</td> <td> 0.615</td> <td>   -0.340</td> <td>    0.201</td>\n",
       "</tr>\n",
       "<tr>\n",
       "  <th>purpose_moving</th>             <td>    0.0675</td> <td>    0.146</td> <td>    0.461</td> <td> 0.645</td> <td>   -0.220</td> <td>    0.355</td>\n",
       "</tr>\n",
       "<tr>\n",
       "  <th>purpose_renewable_energy</th>   <td>    0.2368</td> <td>    0.309</td> <td>    0.767</td> <td> 0.443</td> <td>   -0.368</td> <td>    0.842</td>\n",
       "</tr>\n",
       "<tr>\n",
       "  <th>purpose_small_business</th>     <td>    0.5185</td> <td>    0.085</td> <td>    6.095</td> <td> 0.000</td> <td>    0.352</td> <td>    0.685</td>\n",
       "</tr>\n",
       "<tr>\n",
       "  <th>purpose_vacation</th>           <td>   -0.1579</td> <td>    0.199</td> <td>   -0.792</td> <td> 0.428</td> <td>   -0.549</td> <td>    0.233</td>\n",
       "</tr>\n",
       "<tr>\n",
       "  <th>purpose_wedding</th>            <td>   -0.5876</td> <td>    0.143</td> <td>   -4.101</td> <td> 0.000</td> <td>   -0.868</td> <td>   -0.307</td>\n",
       "</tr>\n",
       "</table>"
      ],
      "text/plain": [
       "<class 'statsmodels.iolib.summary.Summary'>\n",
       "\"\"\"\n",
       "                 Generalized Linear Model Regression Results                  \n",
       "==============================================================================\n",
       "Dep. Variable:           loan_default   No. Observations:                27003\n",
       "Model:                            GLM   Df Residuals:                    26983\n",
       "Model Family:                Binomial   Df Model:                           19\n",
       "Link Function:                  logit   Scale:                          1.0000\n",
       "Method:                          IRLS   Log-Likelihood:                -10629.\n",
       "Date:                Mon, 25 Mar 2019   Deviance:                       21258.\n",
       "Time:                        20:02:02   Pearson chi2:                 2.68e+04\n",
       "No. Iterations:                     5   Covariance Type:             nonrobust\n",
       "==============================================================================================\n",
       "                                 coef    std err          z      P>|z|      [0.025      0.975]\n",
       "----------------------------------------------------------------------------------------------\n",
       "const                         -1.5718      0.053    -29.849      0.000      -1.675      -1.469\n",
       "inq_last_6mths                 0.2213      0.017     13.342      0.000       0.189       0.254\n",
       "pub_rec_bankruptcies           0.5210      0.074      7.016      0.000       0.375       0.667\n",
       "delinq_2yrs                    0.0670      0.016      4.082      0.000       0.035       0.099\n",
       "loan_inc_ratio                 0.3396      0.017     20.086      0.000       0.306       0.373\n",
       "revol_util                     0.3204      0.019     16.652      0.000       0.283       0.358\n",
       "dti                            0.0261      0.019      1.375      0.169      -0.011       0.063\n",
       "purpose_car                   -0.4469      0.117     -3.814      0.000      -0.677      -0.217\n",
       "purpose_credit_card           -0.7381      0.077     -9.545      0.000      -0.890      -0.587\n",
       "purpose_debt_consolidation    -0.3785      0.059     -6.366      0.000      -0.495      -0.262\n",
       "purpose_educational           -0.0962      0.195     -0.493      0.622      -0.478       0.286\n",
       "purpose_home_improvement      -0.3486      0.087     -4.025      0.000      -0.518      -0.179\n",
       "purpose_house                 -0.2032      0.181     -1.123      0.261      -0.558       0.151\n",
       "purpose_major_purchase        -0.4739      0.100     -4.721      0.000      -0.671      -0.277\n",
       "purpose_medical               -0.0694      0.138     -0.503      0.615      -0.340       0.201\n",
       "purpose_moving                 0.0675      0.146      0.461      0.645      -0.220       0.355\n",
       "purpose_renewable_energy       0.2368      0.309      0.767      0.443      -0.368       0.842\n",
       "purpose_small_business         0.5185      0.085      6.095      0.000       0.352       0.685\n",
       "purpose_vacation              -0.1579      0.199     -0.792      0.428      -0.549       0.233\n",
       "purpose_wedding               -0.5876      0.143     -4.101      0.000      -0.868      -0.307\n",
       "==============================================================================================\n",
       "\"\"\""
      ]
     },
     "execution_count": 97,
     "metadata": {},
     "output_type": "execute_result"
    }
   ],
   "source": [
    "# Logistic regression model\n",
    "logm1 = sm.GLM(y_train,(sm.add_constant(X_train)), family = sm.families.Binomial())\n",
    "logm1.fit().summary()"
   ]
  },
  {
   "cell_type": "markdown",
   "metadata": {},
   "source": [
    " ### Feature Selection Using RFE"
   ]
  },
  {
   "cell_type": "code",
   "execution_count": 98,
   "metadata": {},
   "outputs": [],
   "source": [
    "from sklearn.linear_model import LogisticRegression\n",
    "logreg = LogisticRegression()"
   ]
  },
  {
   "cell_type": "code",
   "execution_count": 99,
   "metadata": {},
   "outputs": [],
   "source": [
    "from sklearn.feature_selection import RFE\n",
    "rfe = RFE(logreg, 15)             # running RFE with 13 variables as output\n",
    "rfe = rfe.fit(X_train, y_train)"
   ]
  },
  {
   "cell_type": "code",
   "execution_count": 100,
   "metadata": {},
   "outputs": [
    {
     "data": {
      "text/plain": [
       "array([ True,  True, False,  True,  True, False,  True,  True,  True,\n",
       "        True,  True,  True,  True, False, False,  True,  True,  True,\n",
       "        True])"
      ]
     },
     "execution_count": 100,
     "metadata": {},
     "output_type": "execute_result"
    }
   ],
   "source": [
    "rfe.support_"
   ]
  },
  {
   "cell_type": "code",
   "execution_count": 101,
   "metadata": {},
   "outputs": [
    {
     "data": {
      "text/plain": [
       "[('inq_last_6mths', True, 1),\n",
       " ('pub_rec_bankruptcies', True, 1),\n",
       " ('delinq_2yrs', False, 3),\n",
       " ('loan_inc_ratio', True, 1),\n",
       " ('revol_util', True, 1),\n",
       " ('dti', False, 5),\n",
       " ('purpose_car', True, 1),\n",
       " ('purpose_credit_card', True, 1),\n",
       " ('purpose_debt_consolidation', True, 1),\n",
       " ('purpose_educational', True, 1),\n",
       " ('purpose_home_improvement', True, 1),\n",
       " ('purpose_house', True, 1),\n",
       " ('purpose_major_purchase', True, 1),\n",
       " ('purpose_medical', False, 4),\n",
       " ('purpose_moving', False, 2),\n",
       " ('purpose_renewable_energy', True, 1),\n",
       " ('purpose_small_business', True, 1),\n",
       " ('purpose_vacation', True, 1),\n",
       " ('purpose_wedding', True, 1)]"
      ]
     },
     "execution_count": 101,
     "metadata": {},
     "output_type": "execute_result"
    }
   ],
   "source": [
    "list(zip(X_train.columns, rfe.support_, rfe.ranking_))"
   ]
  },
  {
   "cell_type": "code",
   "execution_count": 102,
   "metadata": {},
   "outputs": [],
   "source": [
    "col = X_train.columns[rfe.support_]"
   ]
  },
  {
   "cell_type": "code",
   "execution_count": 103,
   "metadata": {},
   "outputs": [
    {
     "data": {
      "text/plain": [
       "Index(['delinq_2yrs', 'dti', 'purpose_medical', 'purpose_moving'], dtype='object')"
      ]
     },
     "execution_count": 103,
     "metadata": {},
     "output_type": "execute_result"
    }
   ],
   "source": [
    "X_train.columns[~rfe.support_]"
   ]
  },
  {
   "cell_type": "markdown",
   "metadata": {},
   "source": [
    "##### Assessing the model with StatsModels"
   ]
  },
  {
   "cell_type": "code",
   "execution_count": 104,
   "metadata": {},
   "outputs": [
    {
     "data": {
      "text/plain": [
       "Index(['inq_last_6mths', 'pub_rec_bankruptcies', 'loan_inc_ratio',\n",
       "       'revol_util', 'purpose_car', 'purpose_credit_card',\n",
       "       'purpose_debt_consolidation', 'purpose_educational',\n",
       "       'purpose_home_improvement', 'purpose_house', 'purpose_major_purchase',\n",
       "       'purpose_renewable_energy', 'purpose_small_business',\n",
       "       'purpose_vacation', 'purpose_wedding'],\n",
       "      dtype='object')"
      ]
     },
     "execution_count": 104,
     "metadata": {},
     "output_type": "execute_result"
    }
   ],
   "source": [
    "col"
   ]
  },
  {
   "cell_type": "code",
   "execution_count": 105,
   "metadata": {},
   "outputs": [
    {
     "data": {
      "text/html": [
       "<table class=\"simpletable\">\n",
       "<caption>Generalized Linear Model Regression Results</caption>\n",
       "<tr>\n",
       "  <th>Dep. Variable:</th>    <td>loan_default</td>   <th>  No. Observations:  </th>  <td> 27003</td>  \n",
       "</tr>\n",
       "<tr>\n",
       "  <th>Model:</th>                 <td>GLM</td>       <th>  Df Residuals:      </th>  <td> 26987</td>  \n",
       "</tr>\n",
       "<tr>\n",
       "  <th>Model Family:</th>       <td>Binomial</td>     <th>  Df Model:          </th>  <td>    15</td>  \n",
       "</tr>\n",
       "<tr>\n",
       "  <th>Link Function:</th>        <td>logit</td>      <th>  Scale:             </th> <td>  1.0000</td> \n",
       "</tr>\n",
       "<tr>\n",
       "  <th>Method:</th>               <td>IRLS</td>       <th>  Log-Likelihood:    </th> <td> -10638.</td> \n",
       "</tr>\n",
       "<tr>\n",
       "  <th>Date:</th>           <td>Mon, 25 Mar 2019</td> <th>  Deviance:          </th> <td>  21276.</td> \n",
       "</tr>\n",
       "<tr>\n",
       "  <th>Time:</th>               <td>20:02:03</td>     <th>  Pearson chi2:      </th> <td>2.68e+04</td> \n",
       "</tr>\n",
       "<tr>\n",
       "  <th>No. Iterations:</th>         <td>5</td>        <th>  Covariance Type:   </th> <td>nonrobust</td>\n",
       "</tr>\n",
       "</table>\n",
       "<table class=\"simpletable\">\n",
       "<tr>\n",
       "               <td></td>                 <th>coef</th>     <th>std err</th>      <th>z</th>      <th>P>|z|</th>  <th>[0.025</th>    <th>0.975]</th>  \n",
       "</tr>\n",
       "<tr>\n",
       "  <th>const</th>                      <td>   -1.5718</td> <td>    0.046</td> <td>  -34.197</td> <td> 0.000</td> <td>   -1.662</td> <td>   -1.482</td>\n",
       "</tr>\n",
       "<tr>\n",
       "  <th>inq_last_6mths</th>             <td>    0.2214</td> <td>    0.017</td> <td>   13.364</td> <td> 0.000</td> <td>    0.189</td> <td>    0.254</td>\n",
       "</tr>\n",
       "<tr>\n",
       "  <th>pub_rec_bankruptcies</th>       <td>    0.5202</td> <td>    0.074</td> <td>    7.013</td> <td> 0.000</td> <td>    0.375</td> <td>    0.666</td>\n",
       "</tr>\n",
       "<tr>\n",
       "  <th>loan_inc_ratio</th>             <td>    0.3373</td> <td>    0.017</td> <td>   20.113</td> <td> 0.000</td> <td>    0.304</td> <td>    0.370</td>\n",
       "</tr>\n",
       "<tr>\n",
       "  <th>revol_util</th>                 <td>    0.3233</td> <td>    0.019</td> <td>   17.247</td> <td> 0.000</td> <td>    0.287</td> <td>    0.360</td>\n",
       "</tr>\n",
       "<tr>\n",
       "  <th>purpose_car</th>                <td>   -0.4543</td> <td>    0.114</td> <td>   -3.977</td> <td> 0.000</td> <td>   -0.678</td> <td>   -0.230</td>\n",
       "</tr>\n",
       "<tr>\n",
       "  <th>purpose_credit_card</th>        <td>   -0.7369</td> <td>    0.073</td> <td>  -10.123</td> <td> 0.000</td> <td>   -0.880</td> <td>   -0.594</td>\n",
       "</tr>\n",
       "<tr>\n",
       "  <th>purpose_debt_consolidation</th> <td>   -0.3736</td> <td>    0.054</td> <td>   -6.980</td> <td> 0.000</td> <td>   -0.479</td> <td>   -0.269</td>\n",
       "</tr>\n",
       "<tr>\n",
       "  <th>purpose_educational</th>        <td>   -0.1000</td> <td>    0.193</td> <td>   -0.518</td> <td> 0.605</td> <td>   -0.479</td> <td>    0.279</td>\n",
       "</tr>\n",
       "<tr>\n",
       "  <th>purpose_home_improvement</th>   <td>   -0.3488</td> <td>    0.083</td> <td>   -4.219</td> <td> 0.000</td> <td>   -0.511</td> <td>   -0.187</td>\n",
       "</tr>\n",
       "<tr>\n",
       "  <th>purpose_house</th>              <td>   -0.2061</td> <td>    0.179</td> <td>   -1.151</td> <td> 0.250</td> <td>   -0.557</td> <td>    0.145</td>\n",
       "</tr>\n",
       "<tr>\n",
       "  <th>purpose_major_purchase</th>     <td>   -0.4775</td> <td>    0.097</td> <td>   -4.924</td> <td> 0.000</td> <td>   -0.667</td> <td>   -0.287</td>\n",
       "</tr>\n",
       "<tr>\n",
       "  <th>purpose_renewable_energy</th>   <td>    0.2367</td> <td>    0.308</td> <td>    0.769</td> <td> 0.442</td> <td>   -0.367</td> <td>    0.840</td>\n",
       "</tr>\n",
       "<tr>\n",
       "  <th>purpose_small_business</th>     <td>    0.5202</td> <td>    0.081</td> <td>    6.419</td> <td> 0.000</td> <td>    0.361</td> <td>    0.679</td>\n",
       "</tr>\n",
       "<tr>\n",
       "  <th>purpose_vacation</th>           <td>   -0.1569</td> <td>    0.198</td> <td>   -0.794</td> <td> 0.427</td> <td>   -0.544</td> <td>    0.231</td>\n",
       "</tr>\n",
       "<tr>\n",
       "  <th>purpose_wedding</th>            <td>   -0.5834</td> <td>    0.141</td> <td>   -4.140</td> <td> 0.000</td> <td>   -0.860</td> <td>   -0.307</td>\n",
       "</tr>\n",
       "</table>"
      ],
      "text/plain": [
       "<class 'statsmodels.iolib.summary.Summary'>\n",
       "\"\"\"\n",
       "                 Generalized Linear Model Regression Results                  \n",
       "==============================================================================\n",
       "Dep. Variable:           loan_default   No. Observations:                27003\n",
       "Model:                            GLM   Df Residuals:                    26987\n",
       "Model Family:                Binomial   Df Model:                           15\n",
       "Link Function:                  logit   Scale:                          1.0000\n",
       "Method:                          IRLS   Log-Likelihood:                -10638.\n",
       "Date:                Mon, 25 Mar 2019   Deviance:                       21276.\n",
       "Time:                        20:02:03   Pearson chi2:                 2.68e+04\n",
       "No. Iterations:                     5   Covariance Type:             nonrobust\n",
       "==============================================================================================\n",
       "                                 coef    std err          z      P>|z|      [0.025      0.975]\n",
       "----------------------------------------------------------------------------------------------\n",
       "const                         -1.5718      0.046    -34.197      0.000      -1.662      -1.482\n",
       "inq_last_6mths                 0.2214      0.017     13.364      0.000       0.189       0.254\n",
       "pub_rec_bankruptcies           0.5202      0.074      7.013      0.000       0.375       0.666\n",
       "loan_inc_ratio                 0.3373      0.017     20.113      0.000       0.304       0.370\n",
       "revol_util                     0.3233      0.019     17.247      0.000       0.287       0.360\n",
       "purpose_car                   -0.4543      0.114     -3.977      0.000      -0.678      -0.230\n",
       "purpose_credit_card           -0.7369      0.073    -10.123      0.000      -0.880      -0.594\n",
       "purpose_debt_consolidation    -0.3736      0.054     -6.980      0.000      -0.479      -0.269\n",
       "purpose_educational           -0.1000      0.193     -0.518      0.605      -0.479       0.279\n",
       "purpose_home_improvement      -0.3488      0.083     -4.219      0.000      -0.511      -0.187\n",
       "purpose_house                 -0.2061      0.179     -1.151      0.250      -0.557       0.145\n",
       "purpose_major_purchase        -0.4775      0.097     -4.924      0.000      -0.667      -0.287\n",
       "purpose_renewable_energy       0.2367      0.308      0.769      0.442      -0.367       0.840\n",
       "purpose_small_business         0.5202      0.081      6.419      0.000       0.361       0.679\n",
       "purpose_vacation              -0.1569      0.198     -0.794      0.427      -0.544       0.231\n",
       "purpose_wedding               -0.5834      0.141     -4.140      0.000      -0.860      -0.307\n",
       "==============================================================================================\n",
       "\"\"\""
      ]
     },
     "execution_count": 105,
     "metadata": {},
     "output_type": "execute_result"
    }
   ],
   "source": [
    "X_train_sm = sm.add_constant(X_train[col])\n",
    "logm2 = sm.GLM(y_train,X_train_sm, family = sm.families.Binomial())\n",
    "res = logm2.fit()\n",
    "res.summary()"
   ]
  },
  {
   "cell_type": "markdown",
   "metadata": {},
   "source": [
    "### Checking VIF\n",
    "\n",
    "Variance Inflation Factor or VIF, gives a basic quantitative idea about how much the feature variables are correlated with each other. It is an extremely important parameter to test our linear model. The formula for calculating `VIF` is:\n",
    "\n",
    "### $ VIF_i = \\frac{1}{1 - {R_i}^2} $"
   ]
  },
  {
   "cell_type": "code",
   "execution_count": 106,
   "metadata": {},
   "outputs": [],
   "source": [
    "# Check for the VIF values of the feature variables. \n",
    "from statsmodels.stats.outliers_influence import variance_inflation_factor"
   ]
  },
  {
   "cell_type": "code",
   "execution_count": 107,
   "metadata": {},
   "outputs": [
    {
     "data": {
      "text/html": [
       "<div>\n",
       "<style scoped>\n",
       "    .dataframe tbody tr th:only-of-type {\n",
       "        vertical-align: middle;\n",
       "    }\n",
       "\n",
       "    .dataframe tbody tr th {\n",
       "        vertical-align: top;\n",
       "    }\n",
       "\n",
       "    .dataframe thead th {\n",
       "        text-align: right;\n",
       "    }\n",
       "</style>\n",
       "<table border=\"1\" class=\"dataframe\">\n",
       "  <thead>\n",
       "    <tr style=\"text-align: right;\">\n",
       "      <th></th>\n",
       "      <th>Features</th>\n",
       "      <th>VIF</th>\n",
       "    </tr>\n",
       "  </thead>\n",
       "  <tbody>\n",
       "    <tr>\n",
       "      <th>3</th>\n",
       "      <td>revol_util</td>\n",
       "      <td>1.08</td>\n",
       "    </tr>\n",
       "    <tr>\n",
       "      <th>6</th>\n",
       "      <td>purpose_debt_consolidation</td>\n",
       "      <td>1.07</td>\n",
       "    </tr>\n",
       "    <tr>\n",
       "      <th>1</th>\n",
       "      <td>pub_rec_bankruptcies</td>\n",
       "      <td>1.05</td>\n",
       "    </tr>\n",
       "    <tr>\n",
       "      <th>2</th>\n",
       "      <td>loan_inc_ratio</td>\n",
       "      <td>1.05</td>\n",
       "    </tr>\n",
       "    <tr>\n",
       "      <th>8</th>\n",
       "      <td>purpose_home_improvement</td>\n",
       "      <td>1.03</td>\n",
       "    </tr>\n",
       "    <tr>\n",
       "      <th>4</th>\n",
       "      <td>purpose_car</td>\n",
       "      <td>1.02</td>\n",
       "    </tr>\n",
       "    <tr>\n",
       "      <th>5</th>\n",
       "      <td>purpose_credit_card</td>\n",
       "      <td>1.02</td>\n",
       "    </tr>\n",
       "    <tr>\n",
       "      <th>10</th>\n",
       "      <td>purpose_major_purchase</td>\n",
       "      <td>1.02</td>\n",
       "    </tr>\n",
       "    <tr>\n",
       "      <th>0</th>\n",
       "      <td>inq_last_6mths</td>\n",
       "      <td>1.01</td>\n",
       "    </tr>\n",
       "    <tr>\n",
       "      <th>9</th>\n",
       "      <td>purpose_house</td>\n",
       "      <td>1.01</td>\n",
       "    </tr>\n",
       "    <tr>\n",
       "      <th>12</th>\n",
       "      <td>purpose_small_business</td>\n",
       "      <td>1.01</td>\n",
       "    </tr>\n",
       "    <tr>\n",
       "      <th>13</th>\n",
       "      <td>purpose_vacation</td>\n",
       "      <td>1.01</td>\n",
       "    </tr>\n",
       "    <tr>\n",
       "      <th>7</th>\n",
       "      <td>purpose_educational</td>\n",
       "      <td>1.00</td>\n",
       "    </tr>\n",
       "    <tr>\n",
       "      <th>11</th>\n",
       "      <td>purpose_renewable_energy</td>\n",
       "      <td>1.00</td>\n",
       "    </tr>\n",
       "    <tr>\n",
       "      <th>14</th>\n",
       "      <td>purpose_wedding</td>\n",
       "      <td>1.00</td>\n",
       "    </tr>\n",
       "  </tbody>\n",
       "</table>\n",
       "</div>"
      ],
      "text/plain": [
       "                      Features   VIF\n",
       "3                   revol_util  1.08\n",
       "6   purpose_debt_consolidation  1.07\n",
       "1         pub_rec_bankruptcies  1.05\n",
       "2               loan_inc_ratio  1.05\n",
       "8     purpose_home_improvement  1.03\n",
       "4                  purpose_car  1.02\n",
       "5          purpose_credit_card  1.02\n",
       "10      purpose_major_purchase  1.02\n",
       "0               inq_last_6mths  1.01\n",
       "9                purpose_house  1.01\n",
       "12      purpose_small_business  1.01\n",
       "13            purpose_vacation  1.01\n",
       "7          purpose_educational  1.00\n",
       "11    purpose_renewable_energy  1.00\n",
       "14             purpose_wedding  1.00"
      ]
     },
     "execution_count": 107,
     "metadata": {},
     "output_type": "execute_result"
    }
   ],
   "source": [
    "# Create a dataframe that will contain the names of all the feature variables and their respective VIFs\n",
    "vif = pd.DataFrame()\n",
    "vif['Features'] = X_train[col].columns\n",
    "vif['VIF'] = [variance_inflation_factor(X_train[col].values, i) for i in range(X_train[col].shape[1])]\n",
    "vif['VIF'] = round(vif['VIF'], 2)\n",
    "vif = vif.sort_values(by = \"VIF\", ascending = False)\n",
    "vif"
   ]
  },
  {
   "cell_type": "markdown",
   "metadata": {},
   "source": [
    "#### VIF less than 5 can be considered for analysis\n",
    "#### Looking at the VIF values, we can say that there is no collinearity between the variables. We are good with the flow. Let's remove all the variabels which have p-value > 0.06\n"
   ]
  },
  {
   "cell_type": "code",
   "execution_count": 108,
   "metadata": {},
   "outputs": [
    {
     "data": {
      "text/plain": [
       "Index(['inq_last_6mths', 'pub_rec_bankruptcies', 'loan_inc_ratio',\n",
       "       'revol_util', 'purpose_car', 'purpose_credit_card',\n",
       "       'purpose_debt_consolidation', 'purpose_home_improvement',\n",
       "       'purpose_house', 'purpose_major_purchase', 'purpose_renewable_energy',\n",
       "       'purpose_small_business', 'purpose_vacation', 'purpose_wedding'],\n",
       "      dtype='object')"
      ]
     },
     "execution_count": 108,
     "metadata": {},
     "output_type": "execute_result"
    }
   ],
   "source": [
    "# Removing the variables that has highest p-value\n",
    "col = col.drop('purpose_educational', 1)\n",
    "col"
   ]
  },
  {
   "cell_type": "code",
   "execution_count": 109,
   "metadata": {},
   "outputs": [
    {
     "data": {
      "text/html": [
       "<table class=\"simpletable\">\n",
       "<caption>Generalized Linear Model Regression Results</caption>\n",
       "<tr>\n",
       "  <th>Dep. Variable:</th>    <td>loan_default</td>   <th>  No. Observations:  </th>  <td> 27003</td>  \n",
       "</tr>\n",
       "<tr>\n",
       "  <th>Model:</th>                 <td>GLM</td>       <th>  Df Residuals:      </th>  <td> 26988</td>  \n",
       "</tr>\n",
       "<tr>\n",
       "  <th>Model Family:</th>       <td>Binomial</td>     <th>  Df Model:          </th>  <td>    14</td>  \n",
       "</tr>\n",
       "<tr>\n",
       "  <th>Link Function:</th>        <td>logit</td>      <th>  Scale:             </th> <td>  1.0000</td> \n",
       "</tr>\n",
       "<tr>\n",
       "  <th>Method:</th>               <td>IRLS</td>       <th>  Log-Likelihood:    </th> <td> -10638.</td> \n",
       "</tr>\n",
       "<tr>\n",
       "  <th>Date:</th>           <td>Mon, 25 Mar 2019</td> <th>  Deviance:          </th> <td>  21276.</td> \n",
       "</tr>\n",
       "<tr>\n",
       "  <th>Time:</th>               <td>20:02:04</td>     <th>  Pearson chi2:      </th> <td>2.68e+04</td> \n",
       "</tr>\n",
       "<tr>\n",
       "  <th>No. Iterations:</th>         <td>5</td>        <th>  Covariance Type:   </th> <td>nonrobust</td>\n",
       "</tr>\n",
       "</table>\n",
       "<table class=\"simpletable\">\n",
       "<tr>\n",
       "               <td></td>                 <th>coef</th>     <th>std err</th>      <th>z</th>      <th>P>|z|</th>  <th>[0.025</th>    <th>0.975]</th>  \n",
       "</tr>\n",
       "<tr>\n",
       "  <th>const</th>                      <td>   -1.5776</td> <td>    0.045</td> <td>  -35.322</td> <td> 0.000</td> <td>   -1.665</td> <td>   -1.490</td>\n",
       "</tr>\n",
       "<tr>\n",
       "  <th>inq_last_6mths</th>             <td>    0.2212</td> <td>    0.017</td> <td>   13.357</td> <td> 0.000</td> <td>    0.189</td> <td>    0.254</td>\n",
       "</tr>\n",
       "<tr>\n",
       "  <th>pub_rec_bankruptcies</th>       <td>    0.5206</td> <td>    0.074</td> <td>    7.019</td> <td> 0.000</td> <td>    0.375</td> <td>    0.666</td>\n",
       "</tr>\n",
       "<tr>\n",
       "  <th>loan_inc_ratio</th>             <td>    0.3371</td> <td>    0.017</td> <td>   20.108</td> <td> 0.000</td> <td>    0.304</td> <td>    0.370</td>\n",
       "</tr>\n",
       "<tr>\n",
       "  <th>revol_util</th>                 <td>    0.3235</td> <td>    0.019</td> <td>   17.261</td> <td> 0.000</td> <td>    0.287</td> <td>    0.360</td>\n",
       "</tr>\n",
       "<tr>\n",
       "  <th>purpose_car</th>                <td>   -0.4485</td> <td>    0.114</td> <td>   -3.944</td> <td> 0.000</td> <td>   -0.671</td> <td>   -0.226</td>\n",
       "</tr>\n",
       "<tr>\n",
       "  <th>purpose_credit_card</th>        <td>   -0.7311</td> <td>    0.072</td> <td>  -10.155</td> <td> 0.000</td> <td>   -0.872</td> <td>   -0.590</td>\n",
       "</tr>\n",
       "<tr>\n",
       "  <th>purpose_debt_consolidation</th> <td>   -0.3678</td> <td>    0.052</td> <td>   -7.017</td> <td> 0.000</td> <td>   -0.471</td> <td>   -0.265</td>\n",
       "</tr>\n",
       "<tr>\n",
       "  <th>purpose_home_improvement</th>   <td>   -0.3429</td> <td>    0.082</td> <td>   -4.186</td> <td> 0.000</td> <td>   -0.503</td> <td>   -0.182</td>\n",
       "</tr>\n",
       "<tr>\n",
       "  <th>purpose_house</th>              <td>   -0.2000</td> <td>    0.179</td> <td>   -1.120</td> <td> 0.263</td> <td>   -0.550</td> <td>    0.150</td>\n",
       "</tr>\n",
       "<tr>\n",
       "  <th>purpose_major_purchase</th>     <td>   -0.4716</td> <td>    0.096</td> <td>   -4.896</td> <td> 0.000</td> <td>   -0.660</td> <td>   -0.283</td>\n",
       "</tr>\n",
       "<tr>\n",
       "  <th>purpose_renewable_energy</th>   <td>    0.2424</td> <td>    0.308</td> <td>    0.788</td> <td> 0.431</td> <td>   -0.361</td> <td>    0.845</td>\n",
       "</tr>\n",
       "<tr>\n",
       "  <th>purpose_small_business</th>     <td>    0.5261</td> <td>    0.080</td> <td>    6.553</td> <td> 0.000</td> <td>    0.369</td> <td>    0.683</td>\n",
       "</tr>\n",
       "<tr>\n",
       "  <th>purpose_vacation</th>           <td>   -0.1512</td> <td>    0.197</td> <td>   -0.766</td> <td> 0.444</td> <td>   -0.538</td> <td>    0.236</td>\n",
       "</tr>\n",
       "<tr>\n",
       "  <th>purpose_wedding</th>            <td>   -0.5776</td> <td>    0.140</td> <td>   -4.111</td> <td> 0.000</td> <td>   -0.853</td> <td>   -0.302</td>\n",
       "</tr>\n",
       "</table>"
      ],
      "text/plain": [
       "<class 'statsmodels.iolib.summary.Summary'>\n",
       "\"\"\"\n",
       "                 Generalized Linear Model Regression Results                  \n",
       "==============================================================================\n",
       "Dep. Variable:           loan_default   No. Observations:                27003\n",
       "Model:                            GLM   Df Residuals:                    26988\n",
       "Model Family:                Binomial   Df Model:                           14\n",
       "Link Function:                  logit   Scale:                          1.0000\n",
       "Method:                          IRLS   Log-Likelihood:                -10638.\n",
       "Date:                Mon, 25 Mar 2019   Deviance:                       21276.\n",
       "Time:                        20:02:04   Pearson chi2:                 2.68e+04\n",
       "No. Iterations:                     5   Covariance Type:             nonrobust\n",
       "==============================================================================================\n",
       "                                 coef    std err          z      P>|z|      [0.025      0.975]\n",
       "----------------------------------------------------------------------------------------------\n",
       "const                         -1.5776      0.045    -35.322      0.000      -1.665      -1.490\n",
       "inq_last_6mths                 0.2212      0.017     13.357      0.000       0.189       0.254\n",
       "pub_rec_bankruptcies           0.5206      0.074      7.019      0.000       0.375       0.666\n",
       "loan_inc_ratio                 0.3371      0.017     20.108      0.000       0.304       0.370\n",
       "revol_util                     0.3235      0.019     17.261      0.000       0.287       0.360\n",
       "purpose_car                   -0.4485      0.114     -3.944      0.000      -0.671      -0.226\n",
       "purpose_credit_card           -0.7311      0.072    -10.155      0.000      -0.872      -0.590\n",
       "purpose_debt_consolidation    -0.3678      0.052     -7.017      0.000      -0.471      -0.265\n",
       "purpose_home_improvement      -0.3429      0.082     -4.186      0.000      -0.503      -0.182\n",
       "purpose_house                 -0.2000      0.179     -1.120      0.263      -0.550       0.150\n",
       "purpose_major_purchase        -0.4716      0.096     -4.896      0.000      -0.660      -0.283\n",
       "purpose_renewable_energy       0.2424      0.308      0.788      0.431      -0.361       0.845\n",
       "purpose_small_business         0.5261      0.080      6.553      0.000       0.369       0.683\n",
       "purpose_vacation              -0.1512      0.197     -0.766      0.444      -0.538       0.236\n",
       "purpose_wedding               -0.5776      0.140     -4.111      0.000      -0.853      -0.302\n",
       "==============================================================================================\n",
       "\"\"\""
      ]
     },
     "execution_count": 109,
     "metadata": {},
     "output_type": "execute_result"
    }
   ],
   "source": [
    "X_train_sm = sm.add_constant(X_train[col])\n",
    "logm3 = sm.GLM(y_train,X_train_sm, family = sm.families.Binomial())\n",
    "res = logm3.fit()\n",
    "res.summary()"
   ]
  },
  {
   "cell_type": "code",
   "execution_count": 110,
   "metadata": {},
   "outputs": [
    {
     "data": {
      "text/plain": [
       "Index(['inq_last_6mths', 'pub_rec_bankruptcies', 'loan_inc_ratio',\n",
       "       'revol_util', 'purpose_car', 'purpose_credit_card',\n",
       "       'purpose_debt_consolidation', 'purpose_home_improvement',\n",
       "       'purpose_house', 'purpose_major_purchase', 'purpose_renewable_energy',\n",
       "       'purpose_small_business', 'purpose_wedding'],\n",
       "      dtype='object')"
      ]
     },
     "execution_count": 110,
     "metadata": {},
     "output_type": "execute_result"
    }
   ],
   "source": [
    "# Removing the variables that has highest p-value\n",
    "col = col.drop('purpose_vacation', 1)\n",
    "col"
   ]
  },
  {
   "cell_type": "code",
   "execution_count": 111,
   "metadata": {},
   "outputs": [
    {
     "data": {
      "text/html": [
       "<table class=\"simpletable\">\n",
       "<caption>Generalized Linear Model Regression Results</caption>\n",
       "<tr>\n",
       "  <th>Dep. Variable:</th>    <td>loan_default</td>   <th>  No. Observations:  </th>  <td> 27003</td>  \n",
       "</tr>\n",
       "<tr>\n",
       "  <th>Model:</th>                 <td>GLM</td>       <th>  Df Residuals:      </th>  <td> 26989</td>  \n",
       "</tr>\n",
       "<tr>\n",
       "  <th>Model Family:</th>       <td>Binomial</td>     <th>  Df Model:          </th>  <td>    13</td>  \n",
       "</tr>\n",
       "<tr>\n",
       "  <th>Link Function:</th>        <td>logit</td>      <th>  Scale:             </th> <td>  1.0000</td> \n",
       "</tr>\n",
       "<tr>\n",
       "  <th>Method:</th>               <td>IRLS</td>       <th>  Log-Likelihood:    </th> <td> -10638.</td> \n",
       "</tr>\n",
       "<tr>\n",
       "  <th>Date:</th>           <td>Mon, 25 Mar 2019</td> <th>  Deviance:          </th> <td>  21276.</td> \n",
       "</tr>\n",
       "<tr>\n",
       "  <th>Time:</th>               <td>20:02:04</td>     <th>  Pearson chi2:      </th> <td>2.68e+04</td> \n",
       "</tr>\n",
       "<tr>\n",
       "  <th>No. Iterations:</th>         <td>5</td>        <th>  Covariance Type:   </th> <td>nonrobust</td>\n",
       "</tr>\n",
       "</table>\n",
       "<table class=\"simpletable\">\n",
       "<tr>\n",
       "               <td></td>                 <th>coef</th>     <th>std err</th>      <th>z</th>      <th>P>|z|</th>  <th>[0.025</th>    <th>0.975]</th>  \n",
       "</tr>\n",
       "<tr>\n",
       "  <th>const</th>                      <td>   -1.5855</td> <td>    0.044</td> <td>  -36.401</td> <td> 0.000</td> <td>   -1.671</td> <td>   -1.500</td>\n",
       "</tr>\n",
       "<tr>\n",
       "  <th>inq_last_6mths</th>             <td>    0.2213</td> <td>    0.017</td> <td>   13.363</td> <td> 0.000</td> <td>    0.189</td> <td>    0.254</td>\n",
       "</tr>\n",
       "<tr>\n",
       "  <th>pub_rec_bankruptcies</th>       <td>    0.5195</td> <td>    0.074</td> <td>    7.006</td> <td> 0.000</td> <td>    0.374</td> <td>    0.665</td>\n",
       "</tr>\n",
       "<tr>\n",
       "  <th>loan_inc_ratio</th>             <td>    0.3376</td> <td>    0.017</td> <td>   20.149</td> <td> 0.000</td> <td>    0.305</td> <td>    0.370</td>\n",
       "</tr>\n",
       "<tr>\n",
       "  <th>revol_util</th>                 <td>    0.3236</td> <td>    0.019</td> <td>   17.270</td> <td> 0.000</td> <td>    0.287</td> <td>    0.360</td>\n",
       "</tr>\n",
       "<tr>\n",
       "  <th>purpose_car</th>                <td>   -0.4404</td> <td>    0.113</td> <td>   -3.888</td> <td> 0.000</td> <td>   -0.662</td> <td>   -0.218</td>\n",
       "</tr>\n",
       "<tr>\n",
       "  <th>purpose_credit_card</th>        <td>   -0.7233</td> <td>    0.071</td> <td>  -10.139</td> <td> 0.000</td> <td>   -0.863</td> <td>   -0.583</td>\n",
       "</tr>\n",
       "<tr>\n",
       "  <th>purpose_debt_consolidation</th> <td>   -0.3601</td> <td>    0.052</td> <td>   -6.989</td> <td> 0.000</td> <td>   -0.461</td> <td>   -0.259</td>\n",
       "</tr>\n",
       "<tr>\n",
       "  <th>purpose_home_improvement</th>   <td>   -0.3349</td> <td>    0.081</td> <td>   -4.119</td> <td> 0.000</td> <td>   -0.494</td> <td>   -0.176</td>\n",
       "</tr>\n",
       "<tr>\n",
       "  <th>purpose_house</th>              <td>   -0.1923</td> <td>    0.178</td> <td>   -1.078</td> <td> 0.281</td> <td>   -0.542</td> <td>    0.157</td>\n",
       "</tr>\n",
       "<tr>\n",
       "  <th>purpose_major_purchase</th>     <td>   -0.4636</td> <td>    0.096</td> <td>   -4.838</td> <td> 0.000</td> <td>   -0.651</td> <td>   -0.276</td>\n",
       "</tr>\n",
       "<tr>\n",
       "  <th>purpose_renewable_energy</th>   <td>    0.2506</td> <td>    0.307</td> <td>    0.815</td> <td> 0.415</td> <td>   -0.352</td> <td>    0.853</td>\n",
       "</tr>\n",
       "<tr>\n",
       "  <th>purpose_small_business</th>     <td>    0.5339</td> <td>    0.080</td> <td>    6.700</td> <td> 0.000</td> <td>    0.378</td> <td>    0.690</td>\n",
       "</tr>\n",
       "<tr>\n",
       "  <th>purpose_wedding</th>            <td>   -0.5696</td> <td>    0.140</td> <td>   -4.065</td> <td> 0.000</td> <td>   -0.844</td> <td>   -0.295</td>\n",
       "</tr>\n",
       "</table>"
      ],
      "text/plain": [
       "<class 'statsmodels.iolib.summary.Summary'>\n",
       "\"\"\"\n",
       "                 Generalized Linear Model Regression Results                  \n",
       "==============================================================================\n",
       "Dep. Variable:           loan_default   No. Observations:                27003\n",
       "Model:                            GLM   Df Residuals:                    26989\n",
       "Model Family:                Binomial   Df Model:                           13\n",
       "Link Function:                  logit   Scale:                          1.0000\n",
       "Method:                          IRLS   Log-Likelihood:                -10638.\n",
       "Date:                Mon, 25 Mar 2019   Deviance:                       21276.\n",
       "Time:                        20:02:04   Pearson chi2:                 2.68e+04\n",
       "No. Iterations:                     5   Covariance Type:             nonrobust\n",
       "==============================================================================================\n",
       "                                 coef    std err          z      P>|z|      [0.025      0.975]\n",
       "----------------------------------------------------------------------------------------------\n",
       "const                         -1.5855      0.044    -36.401      0.000      -1.671      -1.500\n",
       "inq_last_6mths                 0.2213      0.017     13.363      0.000       0.189       0.254\n",
       "pub_rec_bankruptcies           0.5195      0.074      7.006      0.000       0.374       0.665\n",
       "loan_inc_ratio                 0.3376      0.017     20.149      0.000       0.305       0.370\n",
       "revol_util                     0.3236      0.019     17.270      0.000       0.287       0.360\n",
       "purpose_car                   -0.4404      0.113     -3.888      0.000      -0.662      -0.218\n",
       "purpose_credit_card           -0.7233      0.071    -10.139      0.000      -0.863      -0.583\n",
       "purpose_debt_consolidation    -0.3601      0.052     -6.989      0.000      -0.461      -0.259\n",
       "purpose_home_improvement      -0.3349      0.081     -4.119      0.000      -0.494      -0.176\n",
       "purpose_house                 -0.1923      0.178     -1.078      0.281      -0.542       0.157\n",
       "purpose_major_purchase        -0.4636      0.096     -4.838      0.000      -0.651      -0.276\n",
       "purpose_renewable_energy       0.2506      0.307      0.815      0.415      -0.352       0.853\n",
       "purpose_small_business         0.5339      0.080      6.700      0.000       0.378       0.690\n",
       "purpose_wedding               -0.5696      0.140     -4.065      0.000      -0.844      -0.295\n",
       "==============================================================================================\n",
       "\"\"\""
      ]
     },
     "execution_count": 111,
     "metadata": {},
     "output_type": "execute_result"
    }
   ],
   "source": [
    "X_train_sm = sm.add_constant(X_train[col])\n",
    "logm4 = sm.GLM(y_train,X_train_sm, family = sm.families.Binomial())\n",
    "res = logm4.fit()\n",
    "res.summary()"
   ]
  },
  {
   "cell_type": "code",
   "execution_count": 112,
   "metadata": {},
   "outputs": [
    {
     "data": {
      "text/plain": [
       "Index(['inq_last_6mths', 'pub_rec_bankruptcies', 'loan_inc_ratio',\n",
       "       'revol_util', 'purpose_car', 'purpose_credit_card',\n",
       "       'purpose_debt_consolidation', 'purpose_home_improvement',\n",
       "       'purpose_house', 'purpose_major_purchase', 'purpose_small_business',\n",
       "       'purpose_wedding'],\n",
       "      dtype='object')"
      ]
     },
     "execution_count": 112,
     "metadata": {},
     "output_type": "execute_result"
    }
   ],
   "source": [
    "# Removing the variables that has highest p-value\n",
    "col = col.drop('purpose_renewable_energy', 1)\n",
    "col"
   ]
  },
  {
   "cell_type": "code",
   "execution_count": 113,
   "metadata": {},
   "outputs": [
    {
     "data": {
      "text/html": [
       "<table class=\"simpletable\">\n",
       "<caption>Generalized Linear Model Regression Results</caption>\n",
       "<tr>\n",
       "  <th>Dep. Variable:</th>    <td>loan_default</td>   <th>  No. Observations:  </th>  <td> 27003</td>  \n",
       "</tr>\n",
       "<tr>\n",
       "  <th>Model:</th>                 <td>GLM</td>       <th>  Df Residuals:      </th>  <td> 26990</td>  \n",
       "</tr>\n",
       "<tr>\n",
       "  <th>Model Family:</th>       <td>Binomial</td>     <th>  Df Model:          </th>  <td>    12</td>  \n",
       "</tr>\n",
       "<tr>\n",
       "  <th>Link Function:</th>        <td>logit</td>      <th>  Scale:             </th> <td>  1.0000</td> \n",
       "</tr>\n",
       "<tr>\n",
       "  <th>Method:</th>               <td>IRLS</td>       <th>  Log-Likelihood:    </th> <td> -10639.</td> \n",
       "</tr>\n",
       "<tr>\n",
       "  <th>Date:</th>           <td>Mon, 25 Mar 2019</td> <th>  Deviance:          </th> <td>  21277.</td> \n",
       "</tr>\n",
       "<tr>\n",
       "  <th>Time:</th>               <td>20:02:04</td>     <th>  Pearson chi2:      </th> <td>2.68e+04</td> \n",
       "</tr>\n",
       "<tr>\n",
       "  <th>No. Iterations:</th>         <td>5</td>        <th>  Covariance Type:   </th> <td>nonrobust</td>\n",
       "</tr>\n",
       "</table>\n",
       "<table class=\"simpletable\">\n",
       "<tr>\n",
       "               <td></td>                 <th>coef</th>     <th>std err</th>      <th>z</th>      <th>P>|z|</th>  <th>[0.025</th>    <th>0.975]</th>  \n",
       "</tr>\n",
       "<tr>\n",
       "  <th>const</th>                      <td>   -1.5809</td> <td>    0.043</td> <td>  -36.651</td> <td> 0.000</td> <td>   -1.665</td> <td>   -1.496</td>\n",
       "</tr>\n",
       "<tr>\n",
       "  <th>inq_last_6mths</th>             <td>    0.2212</td> <td>    0.017</td> <td>   13.359</td> <td> 0.000</td> <td>    0.189</td> <td>    0.254</td>\n",
       "</tr>\n",
       "<tr>\n",
       "  <th>pub_rec_bankruptcies</th>       <td>    0.5205</td> <td>    0.074</td> <td>    7.020</td> <td> 0.000</td> <td>    0.375</td> <td>    0.666</td>\n",
       "</tr>\n",
       "<tr>\n",
       "  <th>loan_inc_ratio</th>             <td>    0.3375</td> <td>    0.017</td> <td>   20.145</td> <td> 0.000</td> <td>    0.305</td> <td>    0.370</td>\n",
       "</tr>\n",
       "<tr>\n",
       "  <th>revol_util</th>                 <td>    0.3236</td> <td>    0.019</td> <td>   17.271</td> <td> 0.000</td> <td>    0.287</td> <td>    0.360</td>\n",
       "</tr>\n",
       "<tr>\n",
       "  <th>purpose_car</th>                <td>   -0.4450</td> <td>    0.113</td> <td>   -3.935</td> <td> 0.000</td> <td>   -0.667</td> <td>   -0.223</td>\n",
       "</tr>\n",
       "<tr>\n",
       "  <th>purpose_credit_card</th>        <td>   -0.7279</td> <td>    0.071</td> <td>  -10.241</td> <td> 0.000</td> <td>   -0.867</td> <td>   -0.589</td>\n",
       "</tr>\n",
       "<tr>\n",
       "  <th>purpose_debt_consolidation</th> <td>   -0.3647</td> <td>    0.051</td> <td>   -7.127</td> <td> 0.000</td> <td>   -0.465</td> <td>   -0.264</td>\n",
       "</tr>\n",
       "<tr>\n",
       "  <th>purpose_home_improvement</th>   <td>   -0.3395</td> <td>    0.081</td> <td>   -4.187</td> <td> 0.000</td> <td>   -0.498</td> <td>   -0.181</td>\n",
       "</tr>\n",
       "<tr>\n",
       "  <th>purpose_house</th>              <td>   -0.1968</td> <td>    0.178</td> <td>   -1.104</td> <td> 0.270</td> <td>   -0.546</td> <td>    0.153</td>\n",
       "</tr>\n",
       "<tr>\n",
       "  <th>purpose_major_purchase</th>     <td>   -0.4682</td> <td>    0.096</td> <td>   -4.896</td> <td> 0.000</td> <td>   -0.656</td> <td>   -0.281</td>\n",
       "</tr>\n",
       "<tr>\n",
       "  <th>purpose_small_business</th>     <td>    0.5294</td> <td>    0.079</td> <td>    6.662</td> <td> 0.000</td> <td>    0.374</td> <td>    0.685</td>\n",
       "</tr>\n",
       "<tr>\n",
       "  <th>purpose_wedding</th>            <td>   -0.5742</td> <td>    0.140</td> <td>   -4.101</td> <td> 0.000</td> <td>   -0.849</td> <td>   -0.300</td>\n",
       "</tr>\n",
       "</table>"
      ],
      "text/plain": [
       "<class 'statsmodels.iolib.summary.Summary'>\n",
       "\"\"\"\n",
       "                 Generalized Linear Model Regression Results                  \n",
       "==============================================================================\n",
       "Dep. Variable:           loan_default   No. Observations:                27003\n",
       "Model:                            GLM   Df Residuals:                    26990\n",
       "Model Family:                Binomial   Df Model:                           12\n",
       "Link Function:                  logit   Scale:                          1.0000\n",
       "Method:                          IRLS   Log-Likelihood:                -10639.\n",
       "Date:                Mon, 25 Mar 2019   Deviance:                       21277.\n",
       "Time:                        20:02:04   Pearson chi2:                 2.68e+04\n",
       "No. Iterations:                     5   Covariance Type:             nonrobust\n",
       "==============================================================================================\n",
       "                                 coef    std err          z      P>|z|      [0.025      0.975]\n",
       "----------------------------------------------------------------------------------------------\n",
       "const                         -1.5809      0.043    -36.651      0.000      -1.665      -1.496\n",
       "inq_last_6mths                 0.2212      0.017     13.359      0.000       0.189       0.254\n",
       "pub_rec_bankruptcies           0.5205      0.074      7.020      0.000       0.375       0.666\n",
       "loan_inc_ratio                 0.3375      0.017     20.145      0.000       0.305       0.370\n",
       "revol_util                     0.3236      0.019     17.271      0.000       0.287       0.360\n",
       "purpose_car                   -0.4450      0.113     -3.935      0.000      -0.667      -0.223\n",
       "purpose_credit_card           -0.7279      0.071    -10.241      0.000      -0.867      -0.589\n",
       "purpose_debt_consolidation    -0.3647      0.051     -7.127      0.000      -0.465      -0.264\n",
       "purpose_home_improvement      -0.3395      0.081     -4.187      0.000      -0.498      -0.181\n",
       "purpose_house                 -0.1968      0.178     -1.104      0.270      -0.546       0.153\n",
       "purpose_major_purchase        -0.4682      0.096     -4.896      0.000      -0.656      -0.281\n",
       "purpose_small_business         0.5294      0.079      6.662      0.000       0.374       0.685\n",
       "purpose_wedding               -0.5742      0.140     -4.101      0.000      -0.849      -0.300\n",
       "==============================================================================================\n",
       "\"\"\""
      ]
     },
     "execution_count": 113,
     "metadata": {},
     "output_type": "execute_result"
    }
   ],
   "source": [
    "X_train_sm = sm.add_constant(X_train[col])\n",
    "logm5 = sm.GLM(y_train,X_train_sm, family = sm.families.Binomial())\n",
    "res = logm5.fit()\n",
    "res.summary()"
   ]
  },
  {
   "cell_type": "code",
   "execution_count": 114,
   "metadata": {},
   "outputs": [
    {
     "data": {
      "text/plain": [
       "Index(['inq_last_6mths', 'pub_rec_bankruptcies', 'loan_inc_ratio',\n",
       "       'revol_util', 'purpose_car', 'purpose_credit_card',\n",
       "       'purpose_debt_consolidation', 'purpose_home_improvement',\n",
       "       'purpose_major_purchase', 'purpose_small_business', 'purpose_wedding'],\n",
       "      dtype='object')"
      ]
     },
     "execution_count": 114,
     "metadata": {},
     "output_type": "execute_result"
    }
   ],
   "source": [
    "# Removing the variables that has highest p-value\n",
    "col = col.drop('purpose_house', 1)\n",
    "col"
   ]
  },
  {
   "cell_type": "code",
   "execution_count": 115,
   "metadata": {},
   "outputs": [
    {
     "data": {
      "text/html": [
       "<table class=\"simpletable\">\n",
       "<caption>Generalized Linear Model Regression Results</caption>\n",
       "<tr>\n",
       "  <th>Dep. Variable:</th>    <td>loan_default</td>   <th>  No. Observations:  </th>  <td> 27003</td>  \n",
       "</tr>\n",
       "<tr>\n",
       "  <th>Model:</th>                 <td>GLM</td>       <th>  Df Residuals:      </th>  <td> 26991</td>  \n",
       "</tr>\n",
       "<tr>\n",
       "  <th>Model Family:</th>       <td>Binomial</td>     <th>  Df Model:          </th>  <td>    11</td>  \n",
       "</tr>\n",
       "<tr>\n",
       "  <th>Link Function:</th>        <td>logit</td>      <th>  Scale:             </th> <td>  1.0000</td> \n",
       "</tr>\n",
       "<tr>\n",
       "  <th>Method:</th>               <td>IRLS</td>       <th>  Log-Likelihood:    </th> <td> -10639.</td> \n",
       "</tr>\n",
       "<tr>\n",
       "  <th>Date:</th>           <td>Mon, 25 Mar 2019</td> <th>  Deviance:          </th> <td>  21278.</td> \n",
       "</tr>\n",
       "<tr>\n",
       "  <th>Time:</th>               <td>20:02:05</td>     <th>  Pearson chi2:      </th> <td>2.68e+04</td> \n",
       "</tr>\n",
       "<tr>\n",
       "  <th>No. Iterations:</th>         <td>5</td>        <th>  Covariance Type:   </th> <td>nonrobust</td>\n",
       "</tr>\n",
       "</table>\n",
       "<table class=\"simpletable\">\n",
       "<tr>\n",
       "               <td></td>                 <th>coef</th>     <th>std err</th>      <th>z</th>      <th>P>|z|</th>  <th>[0.025</th>    <th>0.975]</th>  \n",
       "</tr>\n",
       "<tr>\n",
       "  <th>const</th>                      <td>   -1.5930</td> <td>    0.042</td> <td>  -38.025</td> <td> 0.000</td> <td>   -1.675</td> <td>   -1.511</td>\n",
       "</tr>\n",
       "<tr>\n",
       "  <th>inq_last_6mths</th>             <td>    0.2202</td> <td>    0.017</td> <td>   13.317</td> <td> 0.000</td> <td>    0.188</td> <td>    0.253</td>\n",
       "</tr>\n",
       "<tr>\n",
       "  <th>pub_rec_bankruptcies</th>       <td>    0.5202</td> <td>    0.074</td> <td>    7.015</td> <td> 0.000</td> <td>    0.375</td> <td>    0.665</td>\n",
       "</tr>\n",
       "<tr>\n",
       "  <th>loan_inc_ratio</th>             <td>    0.3364</td> <td>    0.017</td> <td>   20.115</td> <td> 0.000</td> <td>    0.304</td> <td>    0.369</td>\n",
       "</tr>\n",
       "<tr>\n",
       "  <th>revol_util</th>                 <td>    0.3244</td> <td>    0.019</td> <td>   17.321</td> <td> 0.000</td> <td>    0.288</td> <td>    0.361</td>\n",
       "</tr>\n",
       "<tr>\n",
       "  <th>purpose_car</th>                <td>   -0.4329</td> <td>    0.113</td> <td>   -3.844</td> <td> 0.000</td> <td>   -0.654</td> <td>   -0.212</td>\n",
       "</tr>\n",
       "<tr>\n",
       "  <th>purpose_credit_card</th>        <td>   -0.7160</td> <td>    0.070</td> <td>  -10.179</td> <td> 0.000</td> <td>   -0.854</td> <td>   -0.578</td>\n",
       "</tr>\n",
       "<tr>\n",
       "  <th>purpose_debt_consolidation</th> <td>   -0.3524</td> <td>    0.050</td> <td>   -7.038</td> <td> 0.000</td> <td>   -0.451</td> <td>   -0.254</td>\n",
       "</tr>\n",
       "<tr>\n",
       "  <th>purpose_home_improvement</th>   <td>   -0.3269</td> <td>    0.080</td> <td>   -4.068</td> <td> 0.000</td> <td>   -0.484</td> <td>   -0.169</td>\n",
       "</tr>\n",
       "<tr>\n",
       "  <th>purpose_major_purchase</th>     <td>   -0.4559</td> <td>    0.095</td> <td>   -4.797</td> <td> 0.000</td> <td>   -0.642</td> <td>   -0.270</td>\n",
       "</tr>\n",
       "<tr>\n",
       "  <th>purpose_small_business</th>     <td>    0.5422</td> <td>    0.079</td> <td>    6.890</td> <td> 0.000</td> <td>    0.388</td> <td>    0.696</td>\n",
       "</tr>\n",
       "<tr>\n",
       "  <th>purpose_wedding</th>            <td>   -0.5620</td> <td>    0.140</td> <td>   -4.025</td> <td> 0.000</td> <td>   -0.836</td> <td>   -0.288</td>\n",
       "</tr>\n",
       "</table>"
      ],
      "text/plain": [
       "<class 'statsmodels.iolib.summary.Summary'>\n",
       "\"\"\"\n",
       "                 Generalized Linear Model Regression Results                  \n",
       "==============================================================================\n",
       "Dep. Variable:           loan_default   No. Observations:                27003\n",
       "Model:                            GLM   Df Residuals:                    26991\n",
       "Model Family:                Binomial   Df Model:                           11\n",
       "Link Function:                  logit   Scale:                          1.0000\n",
       "Method:                          IRLS   Log-Likelihood:                -10639.\n",
       "Date:                Mon, 25 Mar 2019   Deviance:                       21278.\n",
       "Time:                        20:02:05   Pearson chi2:                 2.68e+04\n",
       "No. Iterations:                     5   Covariance Type:             nonrobust\n",
       "==============================================================================================\n",
       "                                 coef    std err          z      P>|z|      [0.025      0.975]\n",
       "----------------------------------------------------------------------------------------------\n",
       "const                         -1.5930      0.042    -38.025      0.000      -1.675      -1.511\n",
       "inq_last_6mths                 0.2202      0.017     13.317      0.000       0.188       0.253\n",
       "pub_rec_bankruptcies           0.5202      0.074      7.015      0.000       0.375       0.665\n",
       "loan_inc_ratio                 0.3364      0.017     20.115      0.000       0.304       0.369\n",
       "revol_util                     0.3244      0.019     17.321      0.000       0.288       0.361\n",
       "purpose_car                   -0.4329      0.113     -3.844      0.000      -0.654      -0.212\n",
       "purpose_credit_card           -0.7160      0.070    -10.179      0.000      -0.854      -0.578\n",
       "purpose_debt_consolidation    -0.3524      0.050     -7.038      0.000      -0.451      -0.254\n",
       "purpose_home_improvement      -0.3269      0.080     -4.068      0.000      -0.484      -0.169\n",
       "purpose_major_purchase        -0.4559      0.095     -4.797      0.000      -0.642      -0.270\n",
       "purpose_small_business         0.5422      0.079      6.890      0.000       0.388       0.696\n",
       "purpose_wedding               -0.5620      0.140     -4.025      0.000      -0.836      -0.288\n",
       "==============================================================================================\n",
       "\"\"\""
      ]
     },
     "execution_count": 115,
     "metadata": {},
     "output_type": "execute_result"
    }
   ],
   "source": [
    "X_train_sm = sm.add_constant(X_train[col])\n",
    "logm6 = sm.GLM(y_train,X_train_sm, family = sm.families.Binomial())\n",
    "res = logm6.fit()\n",
    "res.summary()"
   ]
  },
  {
   "cell_type": "code",
   "execution_count": 116,
   "metadata": {},
   "outputs": [
    {
     "data": {
      "text/html": [
       "<div>\n",
       "<style scoped>\n",
       "    .dataframe tbody tr th:only-of-type {\n",
       "        vertical-align: middle;\n",
       "    }\n",
       "\n",
       "    .dataframe tbody tr th {\n",
       "        vertical-align: top;\n",
       "    }\n",
       "\n",
       "    .dataframe thead th {\n",
       "        text-align: right;\n",
       "    }\n",
       "</style>\n",
       "<table border=\"1\" class=\"dataframe\">\n",
       "  <thead>\n",
       "    <tr style=\"text-align: right;\">\n",
       "      <th></th>\n",
       "      <th>Features</th>\n",
       "      <th>VIF</th>\n",
       "    </tr>\n",
       "  </thead>\n",
       "  <tbody>\n",
       "    <tr>\n",
       "      <th>3</th>\n",
       "      <td>revol_util</td>\n",
       "      <td>1.07</td>\n",
       "    </tr>\n",
       "    <tr>\n",
       "      <th>6</th>\n",
       "      <td>purpose_debt_consolidation</td>\n",
       "      <td>1.07</td>\n",
       "    </tr>\n",
       "    <tr>\n",
       "      <th>2</th>\n",
       "      <td>loan_inc_ratio</td>\n",
       "      <td>1.05</td>\n",
       "    </tr>\n",
       "    <tr>\n",
       "      <th>1</th>\n",
       "      <td>pub_rec_bankruptcies</td>\n",
       "      <td>1.04</td>\n",
       "    </tr>\n",
       "    <tr>\n",
       "      <th>7</th>\n",
       "      <td>purpose_home_improvement</td>\n",
       "      <td>1.03</td>\n",
       "    </tr>\n",
       "    <tr>\n",
       "      <th>4</th>\n",
       "      <td>purpose_car</td>\n",
       "      <td>1.02</td>\n",
       "    </tr>\n",
       "    <tr>\n",
       "      <th>5</th>\n",
       "      <td>purpose_credit_card</td>\n",
       "      <td>1.02</td>\n",
       "    </tr>\n",
       "    <tr>\n",
       "      <th>8</th>\n",
       "      <td>purpose_major_purchase</td>\n",
       "      <td>1.02</td>\n",
       "    </tr>\n",
       "    <tr>\n",
       "      <th>0</th>\n",
       "      <td>inq_last_6mths</td>\n",
       "      <td>1.01</td>\n",
       "    </tr>\n",
       "    <tr>\n",
       "      <th>9</th>\n",
       "      <td>purpose_small_business</td>\n",
       "      <td>1.01</td>\n",
       "    </tr>\n",
       "    <tr>\n",
       "      <th>10</th>\n",
       "      <td>purpose_wedding</td>\n",
       "      <td>1.00</td>\n",
       "    </tr>\n",
       "  </tbody>\n",
       "</table>\n",
       "</div>"
      ],
      "text/plain": [
       "                      Features   VIF\n",
       "3                   revol_util  1.07\n",
       "6   purpose_debt_consolidation  1.07\n",
       "2               loan_inc_ratio  1.05\n",
       "1         pub_rec_bankruptcies  1.04\n",
       "7     purpose_home_improvement  1.03\n",
       "4                  purpose_car  1.02\n",
       "5          purpose_credit_card  1.02\n",
       "8       purpose_major_purchase  1.02\n",
       "0               inq_last_6mths  1.01\n",
       "9       purpose_small_business  1.01\n",
       "10             purpose_wedding  1.00"
      ]
     },
     "execution_count": 116,
     "metadata": {},
     "output_type": "execute_result"
    }
   ],
   "source": [
    "# Create a dataframe that will contain the names of all the feature variables and their respective VIFs\n",
    "vif = pd.DataFrame()\n",
    "vif['Features'] = X_train[col].columns\n",
    "vif['VIF'] = [variance_inflation_factor(X_train[col].values, i) for i in range(X_train[col].shape[1])]\n",
    "vif['VIF'] = round(vif['VIF'], 2)\n",
    "vif = vif.sort_values(by = \"VIF\", ascending = False)\n",
    "vif"
   ]
  },
  {
   "cell_type": "markdown",
   "metadata": {},
   "source": [
    "* All the p-values and VIF are within the limits. We can proceed with the model to predict the loan defaulters"
   ]
  },
  {
   "cell_type": "code",
   "execution_count": 117,
   "metadata": {},
   "outputs": [
    {
     "data": {
      "text/plain": [
       "15947    0.129386\n",
       "23862    0.221007\n",
       "11279    0.129804\n",
       "32896    0.124635\n",
       "36785    0.076306\n",
       "28208    0.118125\n",
       "27402    0.126822\n",
       "33588    0.081643\n",
       "9050     0.167893\n",
       "18645    0.157703\n",
       "dtype: float64"
      ]
     },
     "execution_count": 117,
     "metadata": {},
     "output_type": "execute_result"
    }
   ],
   "source": [
    "# Getting the predicted values on the train set\n",
    "y_train_pred = res.predict(X_train_sm)\n",
    "y_train_pred[:10]"
   ]
  },
  {
   "cell_type": "markdown",
   "metadata": {},
   "source": [
    "##### Creating a dataframe with the actual churn flag and the predicted probabilities"
   ]
  },
  {
   "cell_type": "code",
   "execution_count": 118,
   "metadata": {},
   "outputs": [
    {
     "data": {
      "text/html": [
       "<div>\n",
       "<style scoped>\n",
       "    .dataframe tbody tr th:only-of-type {\n",
       "        vertical-align: middle;\n",
       "    }\n",
       "\n",
       "    .dataframe tbody tr th {\n",
       "        vertical-align: top;\n",
       "    }\n",
       "\n",
       "    .dataframe thead th {\n",
       "        text-align: right;\n",
       "    }\n",
       "</style>\n",
       "<table border=\"1\" class=\"dataframe\">\n",
       "  <thead>\n",
       "    <tr style=\"text-align: right;\">\n",
       "      <th></th>\n",
       "      <th>Defaulters</th>\n",
       "      <th>Defaulters_Prob</th>\n",
       "    </tr>\n",
       "  </thead>\n",
       "  <tbody>\n",
       "    <tr>\n",
       "      <th>15947</th>\n",
       "      <td>0</td>\n",
       "      <td>0.129386</td>\n",
       "    </tr>\n",
       "    <tr>\n",
       "      <th>23862</th>\n",
       "      <td>0</td>\n",
       "      <td>0.221007</td>\n",
       "    </tr>\n",
       "    <tr>\n",
       "      <th>11279</th>\n",
       "      <td>0</td>\n",
       "      <td>0.129804</td>\n",
       "    </tr>\n",
       "    <tr>\n",
       "      <th>32896</th>\n",
       "      <td>0</td>\n",
       "      <td>0.124635</td>\n",
       "    </tr>\n",
       "    <tr>\n",
       "      <th>36785</th>\n",
       "      <td>0</td>\n",
       "      <td>0.076306</td>\n",
       "    </tr>\n",
       "  </tbody>\n",
       "</table>\n",
       "</div>"
      ],
      "text/plain": [
       "       Defaulters  Defaulters_Prob\n",
       "15947           0         0.129386\n",
       "23862           0         0.221007\n",
       "11279           0         0.129804\n",
       "32896           0         0.124635\n",
       "36785           0         0.076306"
      ]
     },
     "execution_count": 118,
     "metadata": {},
     "output_type": "execute_result"
    }
   ],
   "source": [
    "y_train_pred_final = pd.DataFrame({'Defaulters':y_train.values, 'Defaulters_Prob':y_train_pred})\n",
    "#y_train_pred_final['CustID'] = y_train.index\n",
    "y_train_pred_final.head()"
   ]
  },
  {
   "cell_type": "markdown",
   "metadata": {},
   "source": [
    "##### Creating new column 'predicted' with 1 if Churn_Prob > 0.5 else 0"
   ]
  },
  {
   "cell_type": "code",
   "execution_count": 119,
   "metadata": {},
   "outputs": [
    {
     "data": {
      "text/html": [
       "<div>\n",
       "<style scoped>\n",
       "    .dataframe tbody tr th:only-of-type {\n",
       "        vertical-align: middle;\n",
       "    }\n",
       "\n",
       "    .dataframe tbody tr th {\n",
       "        vertical-align: top;\n",
       "    }\n",
       "\n",
       "    .dataframe thead th {\n",
       "        text-align: right;\n",
       "    }\n",
       "</style>\n",
       "<table border=\"1\" class=\"dataframe\">\n",
       "  <thead>\n",
       "    <tr style=\"text-align: right;\">\n",
       "      <th></th>\n",
       "      <th>Defaulters</th>\n",
       "      <th>Defaulters_Prob</th>\n",
       "      <th>predicted</th>\n",
       "    </tr>\n",
       "  </thead>\n",
       "  <tbody>\n",
       "    <tr>\n",
       "      <th>15947</th>\n",
       "      <td>0</td>\n",
       "      <td>0.129386</td>\n",
       "      <td>0</td>\n",
       "    </tr>\n",
       "    <tr>\n",
       "      <th>23862</th>\n",
       "      <td>0</td>\n",
       "      <td>0.221007</td>\n",
       "      <td>1</td>\n",
       "    </tr>\n",
       "    <tr>\n",
       "      <th>11279</th>\n",
       "      <td>0</td>\n",
       "      <td>0.129804</td>\n",
       "      <td>0</td>\n",
       "    </tr>\n",
       "    <tr>\n",
       "      <th>32896</th>\n",
       "      <td>0</td>\n",
       "      <td>0.124635</td>\n",
       "      <td>0</td>\n",
       "    </tr>\n",
       "    <tr>\n",
       "      <th>36785</th>\n",
       "      <td>0</td>\n",
       "      <td>0.076306</td>\n",
       "      <td>0</td>\n",
       "    </tr>\n",
       "  </tbody>\n",
       "</table>\n",
       "</div>"
      ],
      "text/plain": [
       "       Defaulters  Defaulters_Prob  predicted\n",
       "15947           0         0.129386          0\n",
       "23862           0         0.221007          1\n",
       "11279           0         0.129804          0\n",
       "32896           0         0.124635          0\n",
       "36785           0         0.076306          0"
      ]
     },
     "execution_count": 119,
     "metadata": {},
     "output_type": "execute_result"
    }
   ],
   "source": [
    "y_train_pred_final['predicted'] = y_train_pred_final.Defaulters_Prob.map(lambda x: 1 if x > 0.18 else 0)\n",
    "\n",
    "# Let's see the head\n",
    "y_train_pred_final.head()"
   ]
  },
  {
   "cell_type": "code",
   "execution_count": 120,
   "metadata": {},
   "outputs": [],
   "source": [
    "from sklearn import metrics"
   ]
  },
  {
   "cell_type": "code",
   "execution_count": 121,
   "metadata": {},
   "outputs": [
    {
     "name": "stdout",
     "output_type": "stream",
     "text": [
      "[[18031  5043]\n",
      " [ 2266  1663]]\n"
     ]
    }
   ],
   "source": [
    "# Confusion matrix \n",
    "confusion = metrics.confusion_matrix(y_train_pred_final.Defaulters, y_train_pred_final.predicted )\n",
    "print(confusion)"
   ]
  },
  {
   "cell_type": "code",
   "execution_count": 122,
   "metadata": {},
   "outputs": [
    {
     "name": "stdout",
     "output_type": "stream",
     "text": [
      "0.7293263711439469\n"
     ]
    }
   ],
   "source": [
    "# Let's check the overall accuracy.\n",
    "print(metrics.accuracy_score(y_train_pred_final.Defaulters, y_train_pred_final.predicted))"
   ]
  },
  {
   "cell_type": "markdown",
   "metadata": {},
   "source": [
    "## Metrics beyond simply accuracy"
   ]
  },
  {
   "cell_type": "code",
   "execution_count": 123,
   "metadata": {},
   "outputs": [],
   "source": [
    "TP = confusion[1,1] # true positive \n",
    "TN = confusion[0,0] # true negatives\n",
    "FP = confusion[0,1] # false positives\n",
    "FN = confusion[1,0] # false negatives"
   ]
  },
  {
   "cell_type": "code",
   "execution_count": 124,
   "metadata": {},
   "outputs": [
    {
     "data": {
      "text/plain": [
       "0.4232629167727157"
      ]
     },
     "execution_count": 124,
     "metadata": {},
     "output_type": "execute_result"
    }
   ],
   "source": [
    "# Let's see the sensitivity of our logistic regression model\n",
    "TP / float(TP+FN)"
   ]
  },
  {
   "cell_type": "code",
   "execution_count": 125,
   "metadata": {},
   "outputs": [
    {
     "data": {
      "text/plain": [
       "0.7814423160266967"
      ]
     },
     "execution_count": 125,
     "metadata": {},
     "output_type": "execute_result"
    }
   ],
   "source": [
    "# Let us calculate specificity\n",
    "TN / float(TN+FP)"
   ]
  },
  {
   "cell_type": "code",
   "execution_count": 126,
   "metadata": {},
   "outputs": [
    {
     "name": "stdout",
     "output_type": "stream",
     "text": [
      "0.21855768397330327\n"
     ]
    }
   ],
   "source": [
    "# Calculate false postive rate - predicting defaulters when customer does not have defaulted\n",
    "print(FP/ float(TN+FP))"
   ]
  },
  {
   "cell_type": "code",
   "execution_count": 127,
   "metadata": {},
   "outputs": [
    {
     "name": "stdout",
     "output_type": "stream",
     "text": [
      "0.2479868774232031\n"
     ]
    }
   ],
   "source": [
    "# positive predictive value \n",
    "print (TP / float(TP+FP))"
   ]
  },
  {
   "cell_type": "code",
   "execution_count": 128,
   "metadata": {},
   "outputs": [
    {
     "name": "stdout",
     "output_type": "stream",
     "text": [
      "0.8883578854017835\n"
     ]
    }
   ],
   "source": [
    "# Negative predictive value\n",
    "print (TN / float(TN+ FN))"
   ]
  },
  {
   "cell_type": "markdown",
   "metadata": {},
   "source": [
    "#### Plotting the ROC Curve"
   ]
  },
  {
   "cell_type": "markdown",
   "metadata": {},
   "source": [
    "An ROC curve demonstrates several things:\n",
    "\n",
    "- It shows the tradeoff between sensitivity and specificity (any increase in sensitivity will be accompanied by a decrease in specificity).\n",
    "- The closer the curve follows the left-hand border and then the top border of the ROC space, the more accurate the test.\n",
    "- The closer the curve comes to the 45-degree diagonal of the ROC space, the less accurate the test."
   ]
  },
  {
   "cell_type": "code",
   "execution_count": 129,
   "metadata": {},
   "outputs": [],
   "source": [
    "def draw_roc( actual, probs ):\n",
    "    fpr, tpr, thresholds = metrics.roc_curve( actual, probs,\n",
    "                                              drop_intermediate = False )\n",
    "    auc_score = metrics.roc_auc_score( actual, probs )\n",
    "    plt.figure(figsize=(5, 5))\n",
    "    plt.plot( fpr, tpr, label='ROC curve (area = %0.2f)' % auc_score )\n",
    "    plt.plot([0, 1], [0, 1], 'k--')\n",
    "    plt.xlim([0.0, 1.0])\n",
    "    plt.ylim([0.0, 1.05])\n",
    "    plt.xlabel('False Positive Rate or [1 - True Negative Rate]')\n",
    "    plt.ylabel('True Positive Rate')\n",
    "    plt.title('Receiver operating characteristic example')\n",
    "    plt.legend(loc=\"lower right\")\n",
    "    plt.show()\n",
    "\n",
    "    return None"
   ]
  },
  {
   "cell_type": "code",
   "execution_count": 130,
   "metadata": {},
   "outputs": [],
   "source": [
    "fpr, tpr, thresholds = metrics.roc_curve( y_train_pred_final.Defaulters, y_train_pred_final.Defaulters_Prob, drop_intermediate = False )"
   ]
  },
  {
   "cell_type": "code",
   "execution_count": 131,
   "metadata": {},
   "outputs": [
    {
     "data": {
      "image/png": "[encoded data removed]",
      "text/plain": [
       "<Figure size 360x360 with 1 Axes>"
      ]
     },
     "metadata": {},
     "output_type": "display_data"
    }
   ],
   "source": [
    "draw_roc(y_train_pred_final.Defaulters, y_train_pred_final.Defaulters_Prob)"
   ]
  },
  {
   "cell_type": "markdown",
   "metadata": {},
   "source": [
    "### Finding Optimal Cutoff Point"
   ]
  },
  {
   "cell_type": "markdown",
   "metadata": {},
   "source": [
    "Optimal cutoff probability is that prob where we get balanced sensitivity and specificity"
   ]
  },
  {
   "cell_type": "code",
   "execution_count": 132,
   "metadata": {},
   "outputs": [
    {
     "data": {
      "text/html": [
       "<div>\n",
       "<style scoped>\n",
       "    .dataframe tbody tr th:only-of-type {\n",
       "        vertical-align: middle;\n",
       "    }\n",
       "\n",
       "    .dataframe tbody tr th {\n",
       "        vertical-align: top;\n",
       "    }\n",
       "\n",
       "    .dataframe thead th {\n",
       "        text-align: right;\n",
       "    }\n",
       "</style>\n",
       "<table border=\"1\" class=\"dataframe\">\n",
       "  <thead>\n",
       "    <tr style=\"text-align: right;\">\n",
       "      <th></th>\n",
       "      <th>Defaulters</th>\n",
       "      <th>Defaulters_Prob</th>\n",
       "      <th>predicted</th>\n",
       "      <th>0.0</th>\n",
       "      <th>0.1</th>\n",
       "      <th>0.2</th>\n",
       "      <th>0.3</th>\n",
       "      <th>0.4</th>\n",
       "      <th>0.5</th>\n",
       "      <th>0.6</th>\n",
       "      <th>0.7</th>\n",
       "      <th>0.8</th>\n",
       "      <th>0.9</th>\n",
       "    </tr>\n",
       "  </thead>\n",
       "  <tbody>\n",
       "    <tr>\n",
       "      <th>15947</th>\n",
       "      <td>0</td>\n",
       "      <td>0.129386</td>\n",
       "      <td>0</td>\n",
       "      <td>1</td>\n",
       "      <td>1</td>\n",
       "      <td>0</td>\n",
       "      <td>0</td>\n",
       "      <td>0</td>\n",
       "      <td>0</td>\n",
       "      <td>0</td>\n",
       "      <td>0</td>\n",
       "      <td>0</td>\n",
       "      <td>0</td>\n",
       "    </tr>\n",
       "    <tr>\n",
       "      <th>23862</th>\n",
       "      <td>0</td>\n",
       "      <td>0.221007</td>\n",
       "      <td>1</td>\n",
       "      <td>1</td>\n",
       "      <td>1</td>\n",
       "      <td>1</td>\n",
       "      <td>0</td>\n",
       "      <td>0</td>\n",
       "      <td>0</td>\n",
       "      <td>0</td>\n",
       "      <td>0</td>\n",
       "      <td>0</td>\n",
       "      <td>0</td>\n",
       "    </tr>\n",
       "    <tr>\n",
       "      <th>11279</th>\n",
       "      <td>0</td>\n",
       "      <td>0.129804</td>\n",
       "      <td>0</td>\n",
       "      <td>1</td>\n",
       "      <td>1</td>\n",
       "      <td>0</td>\n",
       "      <td>0</td>\n",
       "      <td>0</td>\n",
       "      <td>0</td>\n",
       "      <td>0</td>\n",
       "      <td>0</td>\n",
       "      <td>0</td>\n",
       "      <td>0</td>\n",
       "    </tr>\n",
       "    <tr>\n",
       "      <th>32896</th>\n",
       "      <td>0</td>\n",
       "      <td>0.124635</td>\n",
       "      <td>0</td>\n",
       "      <td>1</td>\n",
       "      <td>1</td>\n",
       "      <td>0</td>\n",
       "      <td>0</td>\n",
       "      <td>0</td>\n",
       "      <td>0</td>\n",
       "      <td>0</td>\n",
       "      <td>0</td>\n",
       "      <td>0</td>\n",
       "      <td>0</td>\n",
       "    </tr>\n",
       "    <tr>\n",
       "      <th>36785</th>\n",
       "      <td>0</td>\n",
       "      <td>0.076306</td>\n",
       "      <td>0</td>\n",
       "      <td>1</td>\n",
       "      <td>0</td>\n",
       "      <td>0</td>\n",
       "      <td>0</td>\n",
       "      <td>0</td>\n",
       "      <td>0</td>\n",
       "      <td>0</td>\n",
       "      <td>0</td>\n",
       "      <td>0</td>\n",
       "      <td>0</td>\n",
       "    </tr>\n",
       "  </tbody>\n",
       "</table>\n",
       "</div>"
      ],
      "text/plain": [
       "       Defaulters  Defaulters_Prob  predicted  0.0  0.1  0.2  0.3  0.4  0.5  \\\n",
       "15947           0         0.129386          0    1    1    0    0    0    0   \n",
       "23862           0         0.221007          1    1    1    1    0    0    0   \n",
       "11279           0         0.129804          0    1    1    0    0    0    0   \n",
       "32896           0         0.124635          0    1    1    0    0    0    0   \n",
       "36785           0         0.076306          0    1    0    0    0    0    0   \n",
       "\n",
       "       0.6  0.7  0.8  0.9  \n",
       "15947    0    0    0    0  \n",
       "23862    0    0    0    0  \n",
       "11279    0    0    0    0  \n",
       "32896    0    0    0    0  \n",
       "36785    0    0    0    0  "
      ]
     },
     "execution_count": 132,
     "metadata": {},
     "output_type": "execute_result"
    }
   ],
   "source": [
    "# Let's create columns with different probability cutoffs \n",
    "numbers = [float(x)/10 for x in range(10)]\n",
    "for i in numbers:\n",
    "    y_train_pred_final[i]= y_train_pred_final.Defaulters_Prob.map(lambda x: 1 if x > i else 0)\n",
    "y_train_pred_final.head()"
   ]
  },
  {
   "cell_type": "code",
   "execution_count": 133,
   "metadata": {},
   "outputs": [
    {
     "name": "stdout",
     "output_type": "stream",
     "text": [
      "     prob  accuracy  sensitivity  specificity\n",
      "0.0   0.0  0.145502     1.000000     0.000000\n",
      "0.1   0.1  0.405585     0.849580     0.329982\n",
      "0.2   0.2  0.767507     0.342326     0.839906\n",
      "0.3   0.3  0.842536     0.105116     0.968103\n",
      "0.4   0.4  0.853016     0.031560     0.992892\n",
      "0.5   0.5  0.854312     0.008654     0.998310\n",
      "0.6   0.6  0.854720     0.002545     0.999827\n",
      "0.7   0.7  0.854498     0.000255     0.999957\n",
      "0.8   0.8  0.854498     0.000000     1.000000\n",
      "0.9   0.9  0.854498     0.000000     1.000000\n"
     ]
    }
   ],
   "source": [
    "# Now let's calculate accuracy sensitivity and specificity for various probability cutoffs.\n",
    "cutoff_df = pd.DataFrame( columns = ['prob','accuracy','sensitivity','specificity'])\n",
    "from sklearn.metrics import confusion_matrix\n",
    "\n",
    "# TP = confusion[1,1] # true positive \n",
    "# TN = confusion[0,0] # true negatives\n",
    "# FP = confusion[0,1] # false positives\n",
    "# FN = confusion[1,0] # false negatives\n",
    "\n",
    "num = [0.0,0.1,0.2,0.3,0.4,0.5,0.6,0.7,0.8,0.9]\n",
    "for i in num:\n",
    "    cm1 = metrics.confusion_matrix(y_train_pred_final.Defaulters, y_train_pred_final[i] )\n",
    "    total1=sum(sum(cm1))\n",
    "    accuracy = (cm1[0,0]+cm1[1,1])/total1\n",
    "    \n",
    "    speci = cm1[0,0]/(cm1[0,0]+cm1[0,1])\n",
    "    sensi = cm1[1,1]/(cm1[1,0]+cm1[1,1])\n",
    "    cutoff_df.loc[i] =[ i ,accuracy,sensi,speci]\n",
    "print(cutoff_df)"
   ]
  },
  {
   "cell_type": "code",
   "execution_count": 134,
   "metadata": {},
   "outputs": [
    {
     "data": {
      "image/png": "[encoded data removed]",
      "text/plain": [
       "<Figure size 432x288 with 1 Axes>"
      ]
     },
     "metadata": {},
     "output_type": "display_data"
    }
   ],
   "source": [
    "# Let's plot accuracy sensitivity and specificity for various probabilities.\n",
    "cutoff_df.plot.line(x='prob', y=['accuracy','sensitivity','specificity'])\n",
    "plt.show()"
   ]
  },
  {
   "cell_type": "markdown",
   "metadata": {},
   "source": [
    "#### From the curve above, approximately 0.2 is the optimum point to take it as a cutoff probability."
   ]
  },
  {
   "cell_type": "code",
   "execution_count": 135,
   "metadata": {},
   "outputs": [
    {
     "data": {
      "text/html": [
       "<div>\n",
       "<style scoped>\n",
       "    .dataframe tbody tr th:only-of-type {\n",
       "        vertical-align: middle;\n",
       "    }\n",
       "\n",
       "    .dataframe tbody tr th {\n",
       "        vertical-align: top;\n",
       "    }\n",
       "\n",
       "    .dataframe thead th {\n",
       "        text-align: right;\n",
       "    }\n",
       "</style>\n",
       "<table border=\"1\" class=\"dataframe\">\n",
       "  <thead>\n",
       "    <tr style=\"text-align: right;\">\n",
       "      <th></th>\n",
       "      <th>Defaulters</th>\n",
       "      <th>Defaulters_Prob</th>\n",
       "      <th>predicted</th>\n",
       "      <th>0.0</th>\n",
       "      <th>0.1</th>\n",
       "      <th>0.2</th>\n",
       "      <th>0.3</th>\n",
       "      <th>0.4</th>\n",
       "      <th>0.5</th>\n",
       "      <th>0.6</th>\n",
       "      <th>0.7</th>\n",
       "      <th>0.8</th>\n",
       "      <th>0.9</th>\n",
       "      <th>final_predicted</th>\n",
       "    </tr>\n",
       "  </thead>\n",
       "  <tbody>\n",
       "    <tr>\n",
       "      <th>15947</th>\n",
       "      <td>0</td>\n",
       "      <td>0.129386</td>\n",
       "      <td>0</td>\n",
       "      <td>1</td>\n",
       "      <td>1</td>\n",
       "      <td>0</td>\n",
       "      <td>0</td>\n",
       "      <td>0</td>\n",
       "      <td>0</td>\n",
       "      <td>0</td>\n",
       "      <td>0</td>\n",
       "      <td>0</td>\n",
       "      <td>0</td>\n",
       "      <td>0</td>\n",
       "    </tr>\n",
       "    <tr>\n",
       "      <th>23862</th>\n",
       "      <td>0</td>\n",
       "      <td>0.221007</td>\n",
       "      <td>1</td>\n",
       "      <td>1</td>\n",
       "      <td>1</td>\n",
       "      <td>1</td>\n",
       "      <td>0</td>\n",
       "      <td>0</td>\n",
       "      <td>0</td>\n",
       "      <td>0</td>\n",
       "      <td>0</td>\n",
       "      <td>0</td>\n",
       "      <td>0</td>\n",
       "      <td>1</td>\n",
       "    </tr>\n",
       "    <tr>\n",
       "      <th>11279</th>\n",
       "      <td>0</td>\n",
       "      <td>0.129804</td>\n",
       "      <td>0</td>\n",
       "      <td>1</td>\n",
       "      <td>1</td>\n",
       "      <td>0</td>\n",
       "      <td>0</td>\n",
       "      <td>0</td>\n",
       "      <td>0</td>\n",
       "      <td>0</td>\n",
       "      <td>0</td>\n",
       "      <td>0</td>\n",
       "      <td>0</td>\n",
       "      <td>0</td>\n",
       "    </tr>\n",
       "    <tr>\n",
       "      <th>32896</th>\n",
       "      <td>0</td>\n",
       "      <td>0.124635</td>\n",
       "      <td>0</td>\n",
       "      <td>1</td>\n",
       "      <td>1</td>\n",
       "      <td>0</td>\n",
       "      <td>0</td>\n",
       "      <td>0</td>\n",
       "      <td>0</td>\n",
       "      <td>0</td>\n",
       "      <td>0</td>\n",
       "      <td>0</td>\n",
       "      <td>0</td>\n",
       "      <td>0</td>\n",
       "    </tr>\n",
       "    <tr>\n",
       "      <th>36785</th>\n",
       "      <td>0</td>\n",
       "      <td>0.076306</td>\n",
       "      <td>0</td>\n",
       "      <td>1</td>\n",
       "      <td>0</td>\n",
       "      <td>0</td>\n",
       "      <td>0</td>\n",
       "      <td>0</td>\n",
       "      <td>0</td>\n",
       "      <td>0</td>\n",
       "      <td>0</td>\n",
       "      <td>0</td>\n",
       "      <td>0</td>\n",
       "      <td>0</td>\n",
       "    </tr>\n",
       "  </tbody>\n",
       "</table>\n",
       "</div>"
      ],
      "text/plain": [
       "       Defaulters  Defaulters_Prob  predicted  0.0  0.1  0.2  0.3  0.4  0.5  \\\n",
       "15947           0         0.129386          0    1    1    0    0    0    0   \n",
       "23862           0         0.221007          1    1    1    1    0    0    0   \n",
       "11279           0         0.129804          0    1    1    0    0    0    0   \n",
       "32896           0         0.124635          0    1    1    0    0    0    0   \n",
       "36785           0         0.076306          0    1    0    0    0    0    0   \n",
       "\n",
       "       0.6  0.7  0.8  0.9  final_predicted  \n",
       "15947    0    0    0    0                0  \n",
       "23862    0    0    0    0                1  \n",
       "11279    0    0    0    0                0  \n",
       "32896    0    0    0    0                0  \n",
       "36785    0    0    0    0                0  "
      ]
     },
     "execution_count": 135,
     "metadata": {},
     "output_type": "execute_result"
    }
   ],
   "source": [
    "y_train_pred_final['final_predicted'] = y_train_pred_final.Defaulters_Prob.map( lambda x: 1 if x > 0.2 else 0)\n",
    "\n",
    "y_train_pred_final.head()"
   ]
  },
  {
   "cell_type": "code",
   "execution_count": 136,
   "metadata": {},
   "outputs": [
    {
     "data": {
      "text/plain": [
       "0.7675073140021479"
      ]
     },
     "execution_count": 136,
     "metadata": {},
     "output_type": "execute_result"
    }
   ],
   "source": [
    "# Let's check the overall accuracy.\n",
    "metrics.accuracy_score(y_train_pred_final.Defaulters, y_train_pred_final.final_predicted)"
   ]
  },
  {
   "cell_type": "code",
   "execution_count": 137,
   "metadata": {},
   "outputs": [
    {
     "data": {
      "text/plain": [
       "array([[19380,  3694],\n",
       "       [ 2584,  1345]], dtype=int64)"
      ]
     },
     "execution_count": 137,
     "metadata": {},
     "output_type": "execute_result"
    }
   ],
   "source": [
    "confusion2 = metrics.confusion_matrix(y_train_pred_final.Defaulters, y_train_pred_final.final_predicted )\n",
    "confusion2"
   ]
  },
  {
   "cell_type": "markdown",
   "metadata": {},
   "source": [
    "## Making predictions on the test set"
   ]
  },
  {
   "cell_type": "code",
   "execution_count": 138,
   "metadata": {},
   "outputs": [
    {
     "name": "stderr",
     "output_type": "stream",
     "text": [
      "C:\\Users\\ux012045\\AppData\\Local\\Continuum\\anaconda3\\lib\\site-packages\\ipykernel_launcher.py:1: SettingWithCopyWarning: \n",
      "A value is trying to be set on a copy of a slice from a DataFrame.\n",
      "Try using .loc[row_indexer,col_indexer] = value instead\n",
      "\n",
      "See the caveats in the documentation: http://pandas.pydata.org/pandas-docs/stable/indexing.html#indexing-view-versus-copy\n",
      "  \"\"\"Entry point for launching an IPython kernel.\n",
      "C:\\Users\\ux012045\\AppData\\Local\\Continuum\\anaconda3\\lib\\site-packages\\pandas\\core\\indexing.py:543: SettingWithCopyWarning: \n",
      "A value is trying to be set on a copy of a slice from a DataFrame.\n",
      "Try using .loc[row_indexer,col_indexer] = value instead\n",
      "\n",
      "See the caveats in the documentation: http://pandas.pydata.org/pandas-docs/stable/indexing.html#indexing-view-versus-copy\n",
      "  self.obj[item] = s\n"
     ]
    },
    {
     "data": {
      "text/html": [
       "<div>\n",
       "<style scoped>\n",
       "    .dataframe tbody tr th:only-of-type {\n",
       "        vertical-align: middle;\n",
       "    }\n",
       "\n",
       "    .dataframe tbody tr th {\n",
       "        vertical-align: top;\n",
       "    }\n",
       "\n",
       "    .dataframe thead th {\n",
       "        text-align: right;\n",
       "    }\n",
       "</style>\n",
       "<table border=\"1\" class=\"dataframe\">\n",
       "  <thead>\n",
       "    <tr style=\"text-align: right;\">\n",
       "      <th></th>\n",
       "      <th>inq_last_6mths</th>\n",
       "      <th>pub_rec_bankruptcies</th>\n",
       "      <th>delinq_2yrs</th>\n",
       "      <th>loan_inc_ratio</th>\n",
       "      <th>revol_util</th>\n",
       "      <th>dti</th>\n",
       "      <th>purpose_car</th>\n",
       "      <th>purpose_credit_card</th>\n",
       "      <th>purpose_debt_consolidation</th>\n",
       "      <th>purpose_educational</th>\n",
       "      <th>purpose_home_improvement</th>\n",
       "      <th>purpose_house</th>\n",
       "      <th>purpose_major_purchase</th>\n",
       "      <th>purpose_medical</th>\n",
       "      <th>purpose_moving</th>\n",
       "      <th>purpose_renewable_energy</th>\n",
       "      <th>purpose_small_business</th>\n",
       "      <th>purpose_vacation</th>\n",
       "      <th>purpose_wedding</th>\n",
       "    </tr>\n",
       "  </thead>\n",
       "  <tbody>\n",
       "    <tr>\n",
       "      <th>38675</th>\n",
       "      <td>0.119184</td>\n",
       "      <td>0.0</td>\n",
       "      <td>-0.300434</td>\n",
       "      <td>-0.241189</td>\n",
       "      <td>-0.911822</td>\n",
       "      <td>-0.820321</td>\n",
       "      <td>1</td>\n",
       "      <td>0</td>\n",
       "      <td>0</td>\n",
       "      <td>0</td>\n",
       "      <td>0</td>\n",
       "      <td>0</td>\n",
       "      <td>0</td>\n",
       "      <td>0</td>\n",
       "      <td>0</td>\n",
       "      <td>0</td>\n",
       "      <td>0</td>\n",
       "      <td>0</td>\n",
       "      <td>0</td>\n",
       "    </tr>\n",
       "    <tr>\n",
       "      <th>9992</th>\n",
       "      <td>-0.813122</td>\n",
       "      <td>0.0</td>\n",
       "      <td>-0.300434</td>\n",
       "      <td>1.695007</td>\n",
       "      <td>1.578661</td>\n",
       "      <td>1.127713</td>\n",
       "      <td>0</td>\n",
       "      <td>1</td>\n",
       "      <td>0</td>\n",
       "      <td>0</td>\n",
       "      <td>0</td>\n",
       "      <td>0</td>\n",
       "      <td>0</td>\n",
       "      <td>0</td>\n",
       "      <td>0</td>\n",
       "      <td>0</td>\n",
       "      <td>0</td>\n",
       "      <td>0</td>\n",
       "      <td>0</td>\n",
       "    </tr>\n",
       "    <tr>\n",
       "      <th>1216</th>\n",
       "      <td>-0.813122</td>\n",
       "      <td>0.0</td>\n",
       "      <td>-0.300434</td>\n",
       "      <td>0.038134</td>\n",
       "      <td>0.173141</td>\n",
       "      <td>-0.138060</td>\n",
       "      <td>0</td>\n",
       "      <td>1</td>\n",
       "      <td>0</td>\n",
       "      <td>0</td>\n",
       "      <td>0</td>\n",
       "      <td>0</td>\n",
       "      <td>0</td>\n",
       "      <td>0</td>\n",
       "      <td>0</td>\n",
       "      <td>0</td>\n",
       "      <td>0</td>\n",
       "      <td>0</td>\n",
       "      <td>0</td>\n",
       "    </tr>\n",
       "    <tr>\n",
       "      <th>33902</th>\n",
       "      <td>-0.813122</td>\n",
       "      <td>0.0</td>\n",
       "      <td>-0.300434</td>\n",
       "      <td>0.275522</td>\n",
       "      <td>-0.383431</td>\n",
       "      <td>0.662399</td>\n",
       "      <td>0</td>\n",
       "      <td>1</td>\n",
       "      <td>0</td>\n",
       "      <td>0</td>\n",
       "      <td>0</td>\n",
       "      <td>0</td>\n",
       "      <td>0</td>\n",
       "      <td>0</td>\n",
       "      <td>0</td>\n",
       "      <td>0</td>\n",
       "      <td>0</td>\n",
       "      <td>0</td>\n",
       "      <td>0</td>\n",
       "    </tr>\n",
       "    <tr>\n",
       "      <th>8627</th>\n",
       "      <td>0.119184</td>\n",
       "      <td>0.0</td>\n",
       "      <td>-0.300434</td>\n",
       "      <td>0.579348</td>\n",
       "      <td>0.454950</td>\n",
       "      <td>-0.150030</td>\n",
       "      <td>0</td>\n",
       "      <td>0</td>\n",
       "      <td>1</td>\n",
       "      <td>0</td>\n",
       "      <td>0</td>\n",
       "      <td>0</td>\n",
       "      <td>0</td>\n",
       "      <td>0</td>\n",
       "      <td>0</td>\n",
       "      <td>0</td>\n",
       "      <td>0</td>\n",
       "      <td>0</td>\n",
       "      <td>0</td>\n",
       "    </tr>\n",
       "  </tbody>\n",
       "</table>\n",
       "</div>"
      ],
      "text/plain": [
       "       inq_last_6mths  pub_rec_bankruptcies  delinq_2yrs  loan_inc_ratio  \\\n",
       "38675        0.119184                   0.0    -0.300434       -0.241189   \n",
       "9992        -0.813122                   0.0    -0.300434        1.695007   \n",
       "1216        -0.813122                   0.0    -0.300434        0.038134   \n",
       "33902       -0.813122                   0.0    -0.300434        0.275522   \n",
       "8627         0.119184                   0.0    -0.300434        0.579348   \n",
       "\n",
       "       revol_util       dti  purpose_car  purpose_credit_card  \\\n",
       "38675   -0.911822 -0.820321            1                    0   \n",
       "9992     1.578661  1.127713            0                    1   \n",
       "1216     0.173141 -0.138060            0                    1   \n",
       "33902   -0.383431  0.662399            0                    1   \n",
       "8627     0.454950 -0.150030            0                    0   \n",
       "\n",
       "       purpose_debt_consolidation  purpose_educational  \\\n",
       "38675                           0                    0   \n",
       "9992                            0                    0   \n",
       "1216                            0                    0   \n",
       "33902                           0                    0   \n",
       "8627                            1                    0   \n",
       "\n",
       "       purpose_home_improvement  purpose_house  purpose_major_purchase  \\\n",
       "38675                         0              0                       0   \n",
       "9992                          0              0                       0   \n",
       "1216                          0              0                       0   \n",
       "33902                         0              0                       0   \n",
       "8627                          0              0                       0   \n",
       "\n",
       "       purpose_medical  purpose_moving  purpose_renewable_energy  \\\n",
       "38675                0               0                         0   \n",
       "9992                 0               0                         0   \n",
       "1216                 0               0                         0   \n",
       "33902                0               0                         0   \n",
       "8627                 0               0                         0   \n",
       "\n",
       "       purpose_small_business  purpose_vacation  purpose_wedding  \n",
       "38675                       0                 0                0  \n",
       "9992                        0                 0                0  \n",
       "1216                        0                 0                0  \n",
       "33902                       0                 0                0  \n",
       "8627                        0                 0                0  "
      ]
     },
     "execution_count": 138,
     "metadata": {},
     "output_type": "execute_result"
    }
   ],
   "source": [
    "X_test[['inq_last_6mths','loan_inc_ratio','revol_util','dti','delinq_2yrs']] = scaler.transform(X_test[['inq_last_6mths','loan_inc_ratio','revol_util','dti','delinq_2yrs']])\n",
    "\n",
    "X_test.head()"
   ]
  },
  {
   "cell_type": "code",
   "execution_count": 139,
   "metadata": {},
   "outputs": [],
   "source": [
    "X_test_sm = sm.add_constant(X_test[col])"
   ]
  },
  {
   "cell_type": "code",
   "execution_count": 140,
   "metadata": {},
   "outputs": [],
   "source": [
    "y_test_pred = res.predict(X_test_sm)"
   ]
  },
  {
   "cell_type": "code",
   "execution_count": 141,
   "metadata": {},
   "outputs": [
    {
     "data": {
      "text/plain": [
       "38675    0.084976\n",
       "9992     0.196922\n",
       "1216     0.081733\n",
       "33902    0.074487\n",
       "8627     0.171274\n",
       "20452    0.178306\n",
       "988      0.184427\n",
       "35307    0.127064\n",
       "10330    0.343403\n",
       "17330    0.054642\n",
       "dtype: float64"
      ]
     },
     "execution_count": 141,
     "metadata": {},
     "output_type": "execute_result"
    }
   ],
   "source": [
    "y_test_pred[:10]"
   ]
  },
  {
   "cell_type": "code",
   "execution_count": 142,
   "metadata": {},
   "outputs": [],
   "source": [
    "# Converting y_pred to a dataframe which is an array\n",
    "y_pred_1 = pd.DataFrame(y_test_pred)"
   ]
  },
  {
   "cell_type": "code",
   "execution_count": 143,
   "metadata": {},
   "outputs": [
    {
     "data": {
      "text/html": [
       "<div>\n",
       "<style scoped>\n",
       "    .dataframe tbody tr th:only-of-type {\n",
       "        vertical-align: middle;\n",
       "    }\n",
       "\n",
       "    .dataframe tbody tr th {\n",
       "        vertical-align: top;\n",
       "    }\n",
       "\n",
       "    .dataframe thead th {\n",
       "        text-align: right;\n",
       "    }\n",
       "</style>\n",
       "<table border=\"1\" class=\"dataframe\">\n",
       "  <thead>\n",
       "    <tr style=\"text-align: right;\">\n",
       "      <th></th>\n",
       "      <th>0</th>\n",
       "    </tr>\n",
       "  </thead>\n",
       "  <tbody>\n",
       "    <tr>\n",
       "      <th>38675</th>\n",
       "      <td>0.084976</td>\n",
       "    </tr>\n",
       "    <tr>\n",
       "      <th>9992</th>\n",
       "      <td>0.196922</td>\n",
       "    </tr>\n",
       "    <tr>\n",
       "      <th>1216</th>\n",
       "      <td>0.081733</td>\n",
       "    </tr>\n",
       "    <tr>\n",
       "      <th>33902</th>\n",
       "      <td>0.074487</td>\n",
       "    </tr>\n",
       "    <tr>\n",
       "      <th>8627</th>\n",
       "      <td>0.171274</td>\n",
       "    </tr>\n",
       "  </tbody>\n",
       "</table>\n",
       "</div>"
      ],
      "text/plain": [
       "              0\n",
       "38675  0.084976\n",
       "9992   0.196922\n",
       "1216   0.081733\n",
       "33902  0.074487\n",
       "8627   0.171274"
      ]
     },
     "execution_count": 143,
     "metadata": {},
     "output_type": "execute_result"
    }
   ],
   "source": [
    "# Let's see the head\n",
    "y_pred_1.head()"
   ]
  },
  {
   "cell_type": "code",
   "execution_count": 144,
   "metadata": {},
   "outputs": [],
   "source": [
    "# Converting y_test to dataframe\n",
    "y_test_df = pd.DataFrame(y_test)"
   ]
  },
  {
   "cell_type": "code",
   "execution_count": 145,
   "metadata": {},
   "outputs": [],
   "source": [
    "# Removing index for both dataframes to append them side by side \n",
    "y_pred_1.reset_index(drop=True, inplace=True)\n",
    "y_test_df.reset_index(drop=True, inplace=True)"
   ]
  },
  {
   "cell_type": "code",
   "execution_count": 146,
   "metadata": {},
   "outputs": [],
   "source": [
    "# Appending y_test_df and y_pred_1\n",
    "y_pred_final = pd.concat([y_test_df, y_pred_1],axis=1)"
   ]
  },
  {
   "cell_type": "code",
   "execution_count": 147,
   "metadata": {},
   "outputs": [
    {
     "data": {
      "text/html": [
       "<div>\n",
       "<style scoped>\n",
       "    .dataframe tbody tr th:only-of-type {\n",
       "        vertical-align: middle;\n",
       "    }\n",
       "\n",
       "    .dataframe tbody tr th {\n",
       "        vertical-align: top;\n",
       "    }\n",
       "\n",
       "    .dataframe thead th {\n",
       "        text-align: right;\n",
       "    }\n",
       "</style>\n",
       "<table border=\"1\" class=\"dataframe\">\n",
       "  <thead>\n",
       "    <tr style=\"text-align: right;\">\n",
       "      <th></th>\n",
       "      <th>loan_default</th>\n",
       "      <th>0</th>\n",
       "    </tr>\n",
       "  </thead>\n",
       "  <tbody>\n",
       "    <tr>\n",
       "      <th>0</th>\n",
       "      <td>0</td>\n",
       "      <td>0.084976</td>\n",
       "    </tr>\n",
       "    <tr>\n",
       "      <th>1</th>\n",
       "      <td>0</td>\n",
       "      <td>0.196922</td>\n",
       "    </tr>\n",
       "    <tr>\n",
       "      <th>2</th>\n",
       "      <td>1</td>\n",
       "      <td>0.081733</td>\n",
       "    </tr>\n",
       "    <tr>\n",
       "      <th>3</th>\n",
       "      <td>0</td>\n",
       "      <td>0.074487</td>\n",
       "    </tr>\n",
       "    <tr>\n",
       "      <th>4</th>\n",
       "      <td>0</td>\n",
       "      <td>0.171274</td>\n",
       "    </tr>\n",
       "  </tbody>\n",
       "</table>\n",
       "</div>"
      ],
      "text/plain": [
       "   loan_default         0\n",
       "0             0  0.084976\n",
       "1             0  0.196922\n",
       "2             1  0.081733\n",
       "3             0  0.074487\n",
       "4             0  0.171274"
      ]
     },
     "execution_count": 147,
     "metadata": {},
     "output_type": "execute_result"
    }
   ],
   "source": [
    "y_pred_final.head()"
   ]
  },
  {
   "cell_type": "code",
   "execution_count": 148,
   "metadata": {},
   "outputs": [],
   "source": [
    "# Renaming the column \n",
    "y_pred_final= y_pred_final.rename(columns={ 0 : 'Defaulters_Prob'})"
   ]
  },
  {
   "cell_type": "code",
   "execution_count": 149,
   "metadata": {},
   "outputs": [
    {
     "data": {
      "text/html": [
       "<div>\n",
       "<style scoped>\n",
       "    .dataframe tbody tr th:only-of-type {\n",
       "        vertical-align: middle;\n",
       "    }\n",
       "\n",
       "    .dataframe tbody tr th {\n",
       "        vertical-align: top;\n",
       "    }\n",
       "\n",
       "    .dataframe thead th {\n",
       "        text-align: right;\n",
       "    }\n",
       "</style>\n",
       "<table border=\"1\" class=\"dataframe\">\n",
       "  <thead>\n",
       "    <tr style=\"text-align: right;\">\n",
       "      <th></th>\n",
       "      <th>loan_default</th>\n",
       "      <th>Defaulters_Prob</th>\n",
       "    </tr>\n",
       "  </thead>\n",
       "  <tbody>\n",
       "    <tr>\n",
       "      <th>0</th>\n",
       "      <td>0</td>\n",
       "      <td>0.084976</td>\n",
       "    </tr>\n",
       "    <tr>\n",
       "      <th>1</th>\n",
       "      <td>0</td>\n",
       "      <td>0.196922</td>\n",
       "    </tr>\n",
       "    <tr>\n",
       "      <th>2</th>\n",
       "      <td>1</td>\n",
       "      <td>0.081733</td>\n",
       "    </tr>\n",
       "    <tr>\n",
       "      <th>3</th>\n",
       "      <td>0</td>\n",
       "      <td>0.074487</td>\n",
       "    </tr>\n",
       "    <tr>\n",
       "      <th>4</th>\n",
       "      <td>0</td>\n",
       "      <td>0.171274</td>\n",
       "    </tr>\n",
       "  </tbody>\n",
       "</table>\n",
       "</div>"
      ],
      "text/plain": [
       "   loan_default  Defaulters_Prob\n",
       "0             0         0.084976\n",
       "1             0         0.196922\n",
       "2             1         0.081733\n",
       "3             0         0.074487\n",
       "4             0         0.171274"
      ]
     },
     "execution_count": 149,
     "metadata": {},
     "output_type": "execute_result"
    }
   ],
   "source": [
    "# Rearranging the columns\n",
    "y_pred_final.head()"
   ]
  },
  {
   "cell_type": "code",
   "execution_count": 150,
   "metadata": {},
   "outputs": [],
   "source": [
    "y_pred_final['final_predicted'] = y_pred_final.Defaulters_Prob.map(lambda x: 1 if x > 0.2 else 0)"
   ]
  },
  {
   "cell_type": "code",
   "execution_count": 151,
   "metadata": {},
   "outputs": [
    {
     "data": {
      "text/html": [
       "<div>\n",
       "<style scoped>\n",
       "    .dataframe tbody tr th:only-of-type {\n",
       "        vertical-align: middle;\n",
       "    }\n",
       "\n",
       "    .dataframe tbody tr th {\n",
       "        vertical-align: top;\n",
       "    }\n",
       "\n",
       "    .dataframe thead th {\n",
       "        text-align: right;\n",
       "    }\n",
       "</style>\n",
       "<table border=\"1\" class=\"dataframe\">\n",
       "  <thead>\n",
       "    <tr style=\"text-align: right;\">\n",
       "      <th></th>\n",
       "      <th>loan_default</th>\n",
       "      <th>Defaulters_Prob</th>\n",
       "      <th>final_predicted</th>\n",
       "    </tr>\n",
       "  </thead>\n",
       "  <tbody>\n",
       "    <tr>\n",
       "      <th>0</th>\n",
       "      <td>0</td>\n",
       "      <td>0.084976</td>\n",
       "      <td>0</td>\n",
       "    </tr>\n",
       "    <tr>\n",
       "      <th>1</th>\n",
       "      <td>0</td>\n",
       "      <td>0.196922</td>\n",
       "      <td>0</td>\n",
       "    </tr>\n",
       "    <tr>\n",
       "      <th>2</th>\n",
       "      <td>1</td>\n",
       "      <td>0.081733</td>\n",
       "      <td>0</td>\n",
       "    </tr>\n",
       "    <tr>\n",
       "      <th>3</th>\n",
       "      <td>0</td>\n",
       "      <td>0.074487</td>\n",
       "      <td>0</td>\n",
       "    </tr>\n",
       "    <tr>\n",
       "      <th>4</th>\n",
       "      <td>0</td>\n",
       "      <td>0.171274</td>\n",
       "      <td>0</td>\n",
       "    </tr>\n",
       "  </tbody>\n",
       "</table>\n",
       "</div>"
      ],
      "text/plain": [
       "   loan_default  Defaulters_Prob  final_predicted\n",
       "0             0         0.084976                0\n",
       "1             0         0.196922                0\n",
       "2             1         0.081733                0\n",
       "3             0         0.074487                0\n",
       "4             0         0.171274                0"
      ]
     },
     "execution_count": 151,
     "metadata": {},
     "output_type": "execute_result"
    }
   ],
   "source": [
    "y_pred_final.head()"
   ]
  },
  {
   "cell_type": "code",
   "execution_count": 152,
   "metadata": {},
   "outputs": [
    {
     "data": {
      "text/plain": [
       "0.7628304821150855"
      ]
     },
     "execution_count": 152,
     "metadata": {},
     "output_type": "execute_result"
    }
   ],
   "source": [
    "# Let's check the overall accuracy.\n",
    "metrics.accuracy_score(y_pred_final.loan_default, y_pred_final.final_predicted)"
   ]
  },
  {
   "cell_type": "code",
   "execution_count": 153,
   "metadata": {},
   "outputs": [
    {
     "data": {
      "text/plain": [
       "array([[8249, 1627],\n",
       "       [1118,  580]], dtype=int64)"
      ]
     },
     "execution_count": 153,
     "metadata": {},
     "output_type": "execute_result"
    }
   ],
   "source": [
    "confusion2 = metrics.confusion_matrix(y_pred_final.loan_default, y_pred_final.final_predicted )\n",
    "confusion2"
   ]
  },
  {
   "cell_type": "code",
   "execution_count": 154,
   "metadata": {},
   "outputs": [],
   "source": [
    "TP = confusion2[1,1] # true positive \n",
    "TN = confusion2[0,0] # true negatives\n",
    "FP = confusion2[0,1] # false positives\n",
    "FN = confusion2[1,0] # false negatives"
   ]
  },
  {
   "cell_type": "code",
   "execution_count": 155,
   "metadata": {},
   "outputs": [
    {
     "data": {
      "text/plain": [
       "0.3415783274440518"
      ]
     },
     "execution_count": 155,
     "metadata": {},
     "output_type": "execute_result"
    }
   ],
   "source": [
    "# Let's see the sensitivity of our logistic regression model\n",
    "TP / float(TP+FN)"
   ]
  },
  {
   "cell_type": "code",
   "execution_count": 156,
   "metadata": {},
   "outputs": [
    {
     "data": {
      "text/plain": [
       "0.835257189145403"
      ]
     },
     "execution_count": 156,
     "metadata": {},
     "output_type": "execute_result"
    }
   ],
   "source": [
    "# Let us calculate specificity\n",
    "TN / float(TN+FP)"
   ]
  },
  {
   "cell_type": "markdown",
   "metadata": {},
   "source": [
    "### Summary"
   ]
  },
  {
   "cell_type": "markdown",
   "metadata": {},
   "source": [
    "* Our Model achieved 71.4% test data and 76.8% accuracy on train data.\n",
    "* Since there is no much difference between the accuracies of prediction of the train data and test data, We can consider this model a pretty good one.\n",
    "* Our model prediction can also be made better by considering the better deciding factors like credit score,customer purchase power,etc"
   ]
  },
  {
   "cell_type": "code",
   "execution_count": null,
   "metadata": {},
   "outputs": [],
   "source": []
  }
 ],
 "metadata": {
  "kernelspec": {
   "display_name": "Python 3",
   "language": "python",
   "name": "python3"
  },
  "language_info": {
   "codemirror_mode": {
    "name": "ipython",
    "version": 3
   },
   "file_extension": ".py",
   "mimetype": "text/x-python",
   "name": "python",
   "nbconvert_exporter": "python",
   "pygments_lexer": "ipython3",
   "version": "3.6.5"
  }
 },
 "nbformat": 4,
 "nbformat_minor": 2
}
